{
 "cells": [
  {
   "cell_type": "code",
   "execution_count": 1,
   "id": "b714ecde",
   "metadata": {},
   "outputs": [],
   "source": [
    "from tensorflow.compat.v1 import ConfigProto\n",
    "from tensorflow.compat.v1 import InteractiveSession\n",
    "\n",
    "config = ConfigProto()\n",
    "config.gpu_options.allow_growth = True\n",
    "session = InteractiveSession(config=config)"
   ]
  },
  {
   "cell_type": "code",
   "execution_count": 19,
   "id": "5a6bcfb6",
   "metadata": {},
   "outputs": [],
   "source": [
    "#Step 1: Load libraries for the U-net Model\n",
    "\n",
    "\n",
    "import cv2\n",
    "import numpy as np \n",
    "import os\n",
    "import skimage.io as io\n",
    "import skimage.transform as trans\n",
    "import numpy as np\n",
    "from tensorflow.keras import layers, models\n",
    "from tensorflow.keras.models import *\n",
    "from tensorflow.keras.layers import *\n",
    "from tensorflow.keras.optimizers import *\n",
    "from tensorflow.keras.callbacks import ModelCheckpoint, LearningRateScheduler\n",
    "from tensorflow.keras import backend as keras\n",
    "import tensorflow as tf"
   ]
  },
  {
   "cell_type": "markdown",
   "id": "c0cab0f5",
   "metadata": {},
   "source": [
    "tf.keras.layers.Conv1D(\n",
    "    filters,\n",
    "    kernel_size,\n",
    "    strides=1,\n",
    "    padding='valid',\n",
    "    data_format='channels_last',\n",
    "    dilation_rate=1,\n",
    "    groups=1,\n",
    "    activation=None,\n",
    "    use_bias=True,\n",
    "    kernel_initializer='glorot_uniform',\n",
    "    bias_initializer='zeros',\n",
    "    kernel_regularizer=None,\n",
    "    bias_regularizer=None,\n",
    "    activity_regularizer=None,\n",
    "    kernel_constraint=None,\n",
    "    bias_constraint=None,\n",
    "    **kwargs\n",
    ")"
   ]
  },
  {
   "cell_type": "code",
   "execution_count": 2,
   "id": "d3581793",
   "metadata": {},
   "outputs": [],
   "source": [
    "def conv_block(x, filter_size, size, stride, batch_norm=False):\n",
    "    \n",
    "    conv = layers.Conv1D(size, filter_size, strides = stride, padding=\"same\", kernel_initializer = 'he_normal')(x)\n",
    "    if batch_norm is True:\n",
    "        conv = layers.BatchNormalization()(conv)\n",
    "    conv = layers.Activation(\"relu\")(conv)\n",
    "    \n",
    "    return conv"
   ]
  },
  {
   "cell_type": "code",
   "execution_count": 20,
   "id": "7cb272bd",
   "metadata": {},
   "outputs": [],
   "source": [
    "def oleg_model(input_shape, NUM_CLASSES=1, dropout_rate=0.0, batch_norm=True):\n",
    "    inputs1 = layers.Input(input_shape, dtype=tf.float32)\n",
    "    \n",
    "    block_1 = conv_block(inputs1, 1, 64, 1, batch_norm=True)\n",
    "    block_2 = conv_block(block_1, 3, 64, 1, batch_norm=True)\n",
    "    block_3 = conv_block(block_2, 1, 128, 1, batch_norm=True)\n",
    "    block_4 = conv_block(block_3, 3, 128, 1, batch_norm=True)\n",
    "    block_5 = conv_block(block_4, 1, 256, 1, batch_norm=True)\n",
    "    block_6 = conv_block(block_5, 3, 256, 1, batch_norm=True)\n",
    "    block_7 = conv_block(block_6, 1, 512, 1, batch_norm=True)\n",
    "    block_8 = conv_block(block_7, 3, 512, 1, batch_norm=True)\n",
    "    \n",
    "    average_pooling = AveragePooling1D(pool_size=2, strides=2, padding='same')(block_8)\n",
    "    flatten = tf.reshape(average_pooling,[-1])\n",
    "    oleg_final = layers.Activation(\"linear\")(flatten)\n",
    "    \n",
    "   \n",
    "#     conv_final = layers.Conv1D(NUM_CLASSES, kernel_size=(conv)\n",
    "#     conv_final = layers.BatchNormalization(axis=3)(conv_final)\n",
    "#     conv_final = layers.Activation('sigmoid')(conv_final)  #Change to softmax for multichannel\n",
    "    \n",
    "    model = models.Model(inputs1, oleg_final, name=\"TargetModel\")\n",
    "    return model"
   ]
  },
  {
   "cell_type": "code",
   "execution_count": 21,
   "id": "fe71212c",
   "metadata": {},
   "outputs": [],
   "source": [
    "model = oleg_model(input_shape = (2,1500))"
   ]
  },
  {
   "cell_type": "code",
   "execution_count": 22,
   "id": "9ce63b9d",
   "metadata": {},
   "outputs": [
    {
     "name": "stdout",
     "output_type": "stream",
     "text": [
      "Model: \"TargetModel\"\n",
      "_________________________________________________________________\n",
      " Layer (type)                Output Shape              Param #   \n",
      "=================================================================\n",
      " input_8 (InputLayer)        [(None, 2, 1500)]         0         \n",
      "                                                                 \n",
      " conv1d_49 (Conv1D)          (None, 2, 64)             96064     \n",
      "                                                                 \n",
      " batch_normalization_48 (Bat  (None, 2, 64)            256       \n",
      " chNormalization)                                                \n",
      "                                                                 \n",
      " activation_49 (Activation)  (None, 2, 64)             0         \n",
      "                                                                 \n",
      " conv1d_50 (Conv1D)          (None, 2, 64)             12352     \n",
      "                                                                 \n",
      " batch_normalization_49 (Bat  (None, 2, 64)            256       \n",
      " chNormalization)                                                \n",
      "                                                                 \n",
      " activation_50 (Activation)  (None, 2, 64)             0         \n",
      "                                                                 \n",
      " conv1d_51 (Conv1D)          (None, 2, 128)            8320      \n",
      "                                                                 \n",
      " batch_normalization_50 (Bat  (None, 2, 128)           512       \n",
      " chNormalization)                                                \n",
      "                                                                 \n",
      " activation_51 (Activation)  (None, 2, 128)            0         \n",
      "                                                                 \n",
      " conv1d_52 (Conv1D)          (None, 2, 128)            49280     \n",
      "                                                                 \n",
      " batch_normalization_51 (Bat  (None, 2, 128)           512       \n",
      " chNormalization)                                                \n",
      "                                                                 \n",
      " activation_52 (Activation)  (None, 2, 128)            0         \n",
      "                                                                 \n",
      " conv1d_53 (Conv1D)          (None, 2, 256)            33024     \n",
      "                                                                 \n",
      " batch_normalization_52 (Bat  (None, 2, 256)           1024      \n",
      " chNormalization)                                                \n",
      "                                                                 \n",
      " activation_53 (Activation)  (None, 2, 256)            0         \n",
      "                                                                 \n",
      " conv1d_54 (Conv1D)          (None, 2, 256)            196864    \n",
      "                                                                 \n",
      " batch_normalization_53 (Bat  (None, 2, 256)           1024      \n",
      " chNormalization)                                                \n",
      "                                                                 \n",
      " activation_54 (Activation)  (None, 2, 256)            0         \n",
      "                                                                 \n",
      " conv1d_55 (Conv1D)          (None, 2, 512)            131584    \n",
      "                                                                 \n",
      " batch_normalization_54 (Bat  (None, 2, 512)           2048      \n",
      " chNormalization)                                                \n",
      "                                                                 \n",
      " activation_55 (Activation)  (None, 2, 512)            0         \n",
      "                                                                 \n",
      " conv1d_56 (Conv1D)          (None, 2, 512)            786944    \n",
      "                                                                 \n",
      " batch_normalization_55 (Bat  (None, 2, 512)           2048      \n",
      " chNormalization)                                                \n",
      "                                                                 \n",
      " activation_56 (Activation)  (None, 2, 512)            0         \n",
      "                                                                 \n",
      " average_pooling1d_5 (Averag  (None, 1, 512)           0         \n",
      " ePooling1D)                                                     \n",
      "                                                                 \n",
      " tf.reshape_1 (TFOpLambda)   (None,)                   0         \n",
      "                                                                 \n",
      " activation_57 (Activation)  (None,)                   0         \n",
      "                                                                 \n",
      "=================================================================\n",
      "Total params: 1,322,112\n",
      "Trainable params: 1,318,272\n",
      "Non-trainable params: 3,840\n",
      "_________________________________________________________________\n"
     ]
    }
   ],
   "source": [
    "model.summary()"
   ]
  },
  {
   "cell_type": "code",
   "execution_count": null,
   "id": "83d3799a",
   "metadata": {},
   "outputs": [],
   "source": []
  }
 ],
 "metadata": {
  "kernelspec": {
   "display_name": "Python 3 (ipykernel)",
   "language": "python",
   "name": "python3"
  },
  "language_info": {
   "codemirror_mode": {
    "name": "ipython",
    "version": 3
   },
   "file_extension": ".py",
   "mimetype": "text/x-python",
   "name": "python",
   "nbconvert_exporter": "python",
   "pygments_lexer": "ipython3",
   "version": "3.9.12"
  }
 },
 "nbformat": 4,
 "nbformat_minor": 5
}
