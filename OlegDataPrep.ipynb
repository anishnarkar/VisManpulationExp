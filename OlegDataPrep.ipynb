{
 "cells": [
  {
   "cell_type": "code",
   "execution_count": 1,
   "metadata": {},
   "outputs": [],
   "source": [
    "import pandas as pd"
   ]
  },
  {
   "cell_type": "code",
   "execution_count": 2,
   "metadata": {},
   "outputs": [],
   "source": [
    "from glob import glob"
   ]
  },
  {
   "cell_type": "code",
   "execution_count": 3,
   "metadata": {},
   "outputs": [],
   "source": [
    "def get_dataset(file_names, auth):\n",
    "    dataset = pd.read_csv(file_names[0], sep=\" \").iloc[:,0:4]\n",
    "    col_names = dataset.columns\n",
    "    dataset = dataset.rename(columns={col_names[0]:'sample', col_names[1]: 'degree_x',\n",
    "                           col_names[2]:'degree_y', col_names[3]: 'is_valid'})\n",
    "    i = 0\n",
    "    prob = []\n",
    "    for file in file_names[1:]:\n",
    "        i = i + 1\n",
    "        sample = pd.read_csv(file, sep = \" \").iloc[:,0:4]\n",
    "        col_names = sample.columns\n",
    "        sample = sample.rename(columns={col_names[0]:'sample', col_names[1]: 'degree_x',\n",
    "                           col_names[2]:'degree_y', col_names[3]: 'is_valid'})\n",
    "        dataset = pd.concat([dataset, sample])\n",
    "        \n",
    "        if sample.shape[1] != 4:\n",
    "            prob = prob + [i]\n",
    "        \n",
    "    dataset['y'] = auth\n",
    "    \n",
    "    return dataset, prob"
   ]
  },
  {
   "cell_type": "code",
   "execution_count": 4,
   "metadata": {},
   "outputs": [],
   "source": [
    "file_names = glob(r\"C:/Users/anark/Downloads/ETPAD.v2/ETPAD.v2/LIVE EYE MOVEMENTS/*.txt\",  recursive = True)\n",
    "data1,problem = get_dataset(file_names, 0)"
   ]
  },
  {
   "cell_type": "code",
   "execution_count": 5,
   "metadata": {},
   "outputs": [
    {
     "data": {
      "text/plain": [
       "[]"
      ]
     },
     "execution_count": 5,
     "metadata": {},
     "output_type": "execute_result"
    }
   ],
   "source": [
    "problem"
   ]
  },
  {
   "cell_type": "code",
   "execution_count": 7,
   "metadata": {},
   "outputs": [],
   "source": [
    "data1.to_csv('data1.csv')"
   ]
  },
  {
   "cell_type": "code",
   "execution_count": 19,
   "metadata": {},
   "outputs": [],
   "source": [
    "file_names = glob(r\"C:/Users/anark/Downloads/ETPAD.v2/ETPAD.v2/SAS_I EYE MOVEMENTS/*.txt\",  recursive = True)\n",
    "data2,problem2 = get_dataset(file_names, 1)"
   ]
  },
  {
   "cell_type": "code",
   "execution_count": 20,
   "metadata": {},
   "outputs": [],
   "source": [
    "file_names = glob(r\"C:/Users/anark/Downloads/ETPAD.v2/ETPAD.v2/SAS_II EYE MOVEMENTS/*.txt\",  recursive = True)\n",
    "data3,problem3 = get_dataset(file_names, 2)"
   ]
  },
  {
   "cell_type": "code",
   "execution_count": 21,
   "metadata": {},
   "outputs": [],
   "source": [
    "data2.to_csv('data2.csv')\n",
    "data3.to_csv('data3.csv')"
   ]
  },
  {
   "cell_type": "code",
   "execution_count": 22,
   "metadata": {},
   "outputs": [],
   "source": [
    "dataset = pd.concat([data1, data2, data3])"
   ]
  },
  {
   "cell_type": "code",
   "execution_count": 24,
   "metadata": {},
   "outputs": [],
   "source": [
    "dataset.to_csv('dataset.csv')"
   ]
  },
  {
   "cell_type": "code",
   "execution_count": 25,
   "metadata": {},
   "outputs": [
    {
     "data": {
      "text/plain": [
       "[]"
      ]
     },
     "execution_count": 25,
     "metadata": {},
     "output_type": "execute_result"
    }
   ],
   "source": [
    "problem2"
   ]
  },
  {
   "cell_type": "code",
   "execution_count": 26,
   "metadata": {},
   "outputs": [
    {
     "data": {
      "text/plain": [
       "[]"
      ]
     },
     "execution_count": 26,
     "metadata": {},
     "output_type": "execute_result"
    }
   ],
   "source": [
    "problem3"
   ]
  },
  {
   "cell_type": "code",
   "execution_count": null,
   "metadata": {},
   "outputs": [],
   "source": []
  }
 ],
 "metadata": {
  "kernelspec": {
   "display_name": "Python 3",
   "language": "python",
   "name": "python3"
  },
  "language_info": {
   "codemirror_mode": {
    "name": "ipython",
    "version": 3
   },
   "file_extension": ".py",
   "mimetype": "text/x-python",
   "name": "python",
   "nbconvert_exporter": "python",
   "pygments_lexer": "ipython3",
   "version": "3.8.3"
  }
 },
 "nbformat": 4,
 "nbformat_minor": 4
}
