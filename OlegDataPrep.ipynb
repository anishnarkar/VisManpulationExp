{
 "cells": [
  {
   "cell_type": "code",
   "execution_count": 1,
   "id": "275d4836",
   "metadata": {},
   "outputs": [],
   "source": [
    "from glob import glob\n",
    "import pandas as pd\n",
    "import numpy as np"
   ]
  },
  {
   "cell_type": "code",
   "execution_count": 2,
   "id": "54eed2e5",
   "metadata": {},
   "outputs": [],
   "source": [
    "def get_dataset(file_names, auth):\n",
    "    dataset = pd.read_csv(file_names[0], sep=\" \").iloc[:,0:4]\n",
    "    col_names = dataset.columns\n",
    "    dataset = dataset.rename(columns={col_names[0]:'sample', col_names[1]: 'degree_x',\n",
    "                           col_names[2]:'degree_y', col_names[3]: 'is_valid'})\n",
    "    i = 0\n",
    "    prob = []\n",
    "    for file in file_names[1:]:\n",
    "        i = i + 1\n",
    "        sample = pd.read_csv(file, sep = \" \").iloc[:,0:4]\n",
    "        col_names = sample.columns\n",
    "        sample = sample.rename(columns={col_names[0]:'sample', col_names[1]: 'degree_x',\n",
    "                           col_names[2]:'degree_y', col_names[3]: 'is_valid'})\n",
    "        dataset = pd.concat([dataset, sample])\n",
    "        \n",
    "        if sample.shape[1] != 4:\n",
    "            prob = prob + [i]\n",
    "        \n",
    "    dataset['y'] = auth\n",
    "    \n",
    "    return dataset, prob"
   ]
  },
  {
   "cell_type": "code",
   "execution_count": 3,
   "id": "1211e8d3",
   "metadata": {},
   "outputs": [],
   "source": [
    "def generate_velocity(data):\n",
    "    data['x_vel'] = 0\n",
    "    data['y_vel'] = 0\n",
    "    \n",
    "    vel_x_col = data.columns.get_loc('x_vel')\n",
    "    vel_y_col = data.columns.get_loc('y_vel')\n",
    "    pos_x_col = data.columns.get_loc('degree_x')\n",
    "    pos_y_col = data.columns.get_loc('degree_y')\n",
    "    \n",
    "    k=0\n",
    "    for i in range(0,data.shape[0]):\n",
    "        if i == k*15000:\n",
    "            k = k+1\n",
    "        else:\n",
    "            data.iloc[i,vel_x_col] = (data.iloc[i,pos_x_col] - data.iloc[i-1,pos_x_col])/0.001\n",
    "            data.iloc[i,vel_y_col] = (data.iloc[i,pos_y_col] - data.iloc[i-1,pos_y_col])/0.001\n",
    "            \n",
    "    return(data)"
   ]
  },
  {
   "cell_type": "code",
   "execution_count": null,
   "id": "b677b1f0",
   "metadata": {},
   "outputs": [],
   "source": [
    "file_names = glob(r\"D:/ETPAD.v2/LIVE EYE MOVEMENTS/*.txt\",  recursive = True)\n",
    "data1,problem = get_dataset(file_names, 0)\n",
    "data1 = generate_velocity(data1)"
   ]
  },
  {
   "cell_type": "code",
   "execution_count": null,
   "id": "5fc800c3",
   "metadata": {},
   "outputs": [],
   "source": [
    "file_names = glob(r\"D:/ETPAD.v2/SAS_I EYE MOVEMENTS/*.txt\",  recursive = True)\n",
    "data2,problem2 = get_dataset(file_names, 1)\n",
    "data2 = generate_velocity(data2)"
   ]
  },
  {
   "cell_type": "code",
   "execution_count": null,
   "id": "f4d757b9",
   "metadata": {},
   "outputs": [],
   "source": [
    "file_names = glob(r\"D:/ETPAD.v2/SAS_II EYE MOVEMENTS/*.txt\",  recursive = True)\n",
    "data3,problem3 = get_dataset(file_names, 2)\n",
    "data3 = generate_velocity(data3)"
   ]
  },
  {
   "cell_type": "code",
   "execution_count": null,
   "id": "e87b75c2",
   "metadata": {},
   "outputs": [],
   "source": [
    "dataset = pd.concat([data1, data2, data3])"
   ]
  },
  {
   "cell_type": "code",
   "execution_count": null,
   "id": "6d7bfdb9",
   "metadata": {},
   "outputs": [],
   "source": [
    "dataset.to_csv('dataset.csv')"
   ]
  },
  {
   "cell_type": "code",
   "execution_count": null,
   "id": "e0f2b956",
   "metadata": {},
   "outputs": [],
   "source": [
    "def generate_numpy_arrays(dataset):\n",
    "    prev_i = 0\n",
    "    i = 0\n",
    "    first = 1\n",
    "    count_1 = 0\n",
    "    count_2 = 0\n",
    "    c1 = []\n",
    "    c2= []\n",
    "    x = []\n",
    "    y = []\n",
    "    x_train = []\n",
    "    y_train = []\n",
    "    k = 0\n",
    "    while prev_i < 18000000:\n",
    "        k+=1\n",
    "        while i+1500 < k*15000:        \n",
    "            window_x = dataset.iloc[i:i+1500, 1].to_list()\n",
    "            window_y = dataset.iloc[i:i+1500, 2].to_list()\n",
    "            x.append([window_x, window_y])\n",
    "            y.append(dataset.iloc[i, 4])\n",
    "            first = 0\n",
    "            i = i + 125\n",
    "            c1 = c1+ [len(x)]     \n",
    "\n",
    "        prev_i = prev_i + 15000\n",
    "\n",
    "    return np.array(x), np.array(y)"
   ]
  },
  {
   "cell_type": "code",
   "execution_count": null,
   "id": "da322e50",
   "metadata": {},
   "outputs": [],
   "source": [
    "X_train, y_train = generate_numpy_arrays(dataset)\n",
    "np.save('train_eptad_data.npy', X_train)\n",
    "np.save('train_eptad_labels.npy', y_train)"
   ]
  },
  {
   "cell_type": "code",
   "execution_count": null,
   "id": "10042a17",
   "metadata": {},
   "outputs": [],
   "source": []
  }
 ],
 "metadata": {
  "kernelspec": {
   "display_name": "Python 3 (ipykernel)",
   "language": "python",
   "name": "python3"
  },
  "language_info": {
   "codemirror_mode": {
    "name": "ipython",
    "version": 3
   },
   "file_extension": ".py",
   "mimetype": "text/x-python",
   "name": "python",
   "nbconvert_exporter": "python",
   "pygments_lexer": "ipython3",
   "version": "3.9.12"
  }
 },
 "nbformat": 4,
 "nbformat_minor": 5
}
