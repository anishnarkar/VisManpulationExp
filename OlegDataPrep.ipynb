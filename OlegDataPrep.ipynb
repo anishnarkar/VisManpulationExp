{
 "cells": [
  {
   "cell_type": "code",
   "execution_count": 1,
   "metadata": {},
   "outputs": [],
   "source": [
    "from glob import glob\n",
    "import pandas as pd"
   ]
  },
  {
   "cell_type": "code",
   "execution_count": 2,
   "metadata": {},
   "outputs": [],
   "source": [
    "def get_dataset(file_names, auth):\n",
    "    dataset = pd.read_csv(file_names[0], sep=\" \").iloc[:,0:4]\n",
    "    col_names = dataset.columns\n",
    "    dataset = dataset.rename(columns={col_names[0]:'sample', col_names[1]: 'degree_x',\n",
    "                           col_names[2]:'degree_y', col_names[3]: 'is_valid'})\n",
    "    i = 0\n",
    "    prob = []\n",
    "    for file in file_names[1:]:\n",
    "        i = i + 1\n",
    "        sample = pd.read_csv(file, sep = \" \").iloc[:,0:4]\n",
    "        col_names = sample.columns\n",
    "        sample = sample.rename(columns={col_names[0]:'sample', col_names[1]: 'degree_x',\n",
    "                           col_names[2]:'degree_y', col_names[3]: 'is_valid'})\n",
    "        dataset = pd.concat([dataset, sample])\n",
    "        \n",
    "        if sample.shape[1] != 4:\n",
    "            prob = prob + [i]\n",
    "        \n",
    "    dataset['y'] = auth\n",
    "    \n",
    "    return dataset, prob"
   ]
  },
  {
   "cell_type": "code",
   "execution_count": 3,
   "metadata": {},
   "outputs": [],
   "source": [
    "file_names = glob(r\"D:/ETPAD.v2/LIVE EYE MOVEMENTS/*.txt\",  recursive = True)\n",
    "data1,problem = get_dataset(file_names, 0)"
   ]
  },
  {
   "cell_type": "code",
   "execution_count": 6,
   "metadata": {},
   "outputs": [
    {
     "data": {
      "text/plain": [
       "((6000000, 5), [])"
      ]
     },
     "execution_count": 6,
     "metadata": {},
     "output_type": "execute_result"
    }
   ],
   "source": [
    "data1.shape, problem"
   ]
  },
  {
   "cell_type": "markdown",
   "metadata": {},
   "source": [
    "data1.to_csv('data1.csv')"
   ]
  },
  {
   "cell_type": "code",
   "execution_count": 7,
   "metadata": {},
   "outputs": [],
   "source": [
    "file_names = glob(r\"D:/ETPAD.v2/SAS_I EYE MOVEMENTS/*.txt\",  recursive = True)\n",
    "data2,problem2 = get_dataset(file_names, 1)"
   ]
  },
  {
   "cell_type": "code",
   "execution_count": 8,
   "metadata": {},
   "outputs": [
    {
     "data": {
      "text/plain": [
       "((6000000, 5), [])"
      ]
     },
     "execution_count": 8,
     "metadata": {},
     "output_type": "execute_result"
    }
   ],
   "source": [
    "data2.shape, problem2"
   ]
  },
  {
   "cell_type": "code",
   "execution_count": 9,
   "metadata": {},
   "outputs": [],
   "source": [
    "file_names = glob(r\"D:/ETPAD.v2/SAS_II EYE MOVEMENTS/*.txt\",  recursive = True)\n",
    "data3,problem3 = get_dataset(file_names, 2)"
   ]
  },
  {
   "cell_type": "code",
   "execution_count": 10,
   "metadata": {},
   "outputs": [
    {
     "data": {
      "text/plain": [
       "((6000000, 5), [])"
      ]
     },
     "execution_count": 10,
     "metadata": {},
     "output_type": "execute_result"
    }
   ],
   "source": [
    "data3.shape,problem3"
   ]
  },
  {
   "cell_type": "markdown",
   "metadata": {},
   "source": [
    "data2.to_csv('data2.csv')\n",
    "data3.to_csv('data3.csv')"
   ]
  },
  {
   "cell_type": "code",
   "execution_count": 11,
   "metadata": {},
   "outputs": [],
   "source": [
    "dataset = pd.concat([data1, data2, data3])"
   ]
  },
  {
   "cell_type": "code",
   "execution_count": 12,
   "metadata": {},
   "outputs": [],
   "source": [
    "dataset.to_csv('dataset.csv')\n",
    "dataset = pd.read_csv(r\"dataset.csv\")"
   ]
  },
  {
   "cell_type": "code",
   "execution_count": 13,
   "metadata": {},
   "outputs": [],
   "source": [
    "def generate_numpy_arrays(dataset):\n",
    "    prev_i = 0\n",
    "    i = 0\n",
    "    first = 1\n",
    "    count_1 = 0\n",
    "    count_2 = 0\n",
    "    c1 = []\n",
    "    c2= []\n",
    "    x = []\n",
    "    y = []\n",
    "    x_train = []\n",
    "    y_train = []\n",
    "    k = 0\n",
    "    while prev_i < 18000000:\n",
    "        k+=1\n",
    "        while i+1500 < k*15000:        \n",
    "            window_x = dataset.iloc[i:i+1500, 1].to_list()\n",
    "            window_y = dataset.iloc[i:i+1500, 2].to_list()\n",
    "            x.append([window_x, window_y])\n",
    "            y.append(dataset.iloc[i, 4])\n",
    "            first = 0\n",
    "            i = i + 125\n",
    "            c1 = c1+ [len(x)]     \n",
    "\n",
    "        prev_i = prev_i + 15000\n",
    "\n",
    "    return np.array(x), np.array(y)"
   ]
  },
  {
   "cell_type": "code",
   "execution_count": 15,
   "metadata": {},
   "outputs": [],
   "source": [
    "import numpy as np"
   ]
  },
  {
   "cell_type": "code",
   "execution_count": 16,
   "metadata": {},
   "outputs": [],
   "source": [
    "X_train, y_train = generate_numpy_arrays(dataset)\n",
    "np.save('train_eptad_data.npy', X_train)\n",
    "np.save('train_eptad_labels.npy', y_train)"
   ]
  },
  {
   "cell_type": "code",
   "execution_count": null,
   "metadata": {},
   "outputs": [],
   "source": []
  }
 ],
 "metadata": {
  "kernelspec": {
   "display_name": "Python 3 (ipykernel)",
   "language": "python",
   "name": "python3"
  },
  "language_info": {
   "codemirror_mode": {
    "name": "ipython",
    "version": 3
   },
   "file_extension": ".py",
   "mimetype": "text/x-python",
   "name": "python",
   "nbconvert_exporter": "python",
   "pygments_lexer": "ipython3",
   "version": "3.9.12"
  }
 },
 "nbformat": 4,
 "nbformat_minor": 4
}
