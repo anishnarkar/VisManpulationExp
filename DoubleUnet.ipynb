{
 "cells": [
  {
   "cell_type": "code",
   "execution_count": 1,
   "metadata": {},
   "outputs": [],
   "source": [
    "from tensorflow.compat.v1 import ConfigProto\n",
    "from tensorflow.compat.v1 import InteractiveSession\n",
    "\n",
    "config = ConfigProto()\n",
    "config.gpu_options.allow_growth = True\n",
    "session = InteractiveSession(config=config)"
   ]
  },
  {
   "cell_type": "code",
   "execution_count": 3,
   "metadata": {},
   "outputs": [
    {
     "name": "stdout",
     "output_type": "stream",
     "text": [
      "Collecting opencv-python\n",
      "  Downloading opencv_python-4.6.0.66-cp36-abi3-win_amd64.whl (35.6 MB)\n",
      "Requirement already satisfied: numpy>=1.14.5 in c:\\users\\anark\\anaconda3\\lib\\site-packages (from opencv-python) (1.21.5)\n",
      "Installing collected packages: opencv-python\n",
      "Successfully installed opencv-python-4.6.0.66\n"
     ]
    }
   ],
   "source": [
    "!pip install opencv-python"
   ]
  },
  {
   "cell_type": "code",
   "execution_count": 1,
   "metadata": {},
   "outputs": [],
   "source": [
    "import tensorflow as tf\n",
    "from tensorflow.keras import models, layers, regularizers\n",
    "from tensorflow.keras import backend as K\n",
    "import cv2\n",
    "import numpy as np \n",
    "import os\n",
    "import skimage.io as io\n",
    "import skimage.transform as trans\n",
    "import numpy as np\n",
    "from tensorflow.keras.models import *\n",
    "from tensorflow.keras.layers import *\n",
    "from tensorflow.keras.optimizers import *\n",
    "from tensorflow.keras.callbacks import ModelCheckpoint, LearningRateScheduler\n",
    "from tensorflow.keras import backend as keras\n",
    "import tensorflow as tf"
   ]
  },
  {
   "cell_type": "code",
   "execution_count": 5,
   "metadata": {},
   "outputs": [],
   "source": [
    "def conv_block(x, filter_size, size, dropout, batch_norm=False):\n",
    "    \n",
    "    conv = layers.Conv2D(size, (filter_size, filter_size), padding=\"same\",dilation_rate=2, kernel_initializer = 'he_normal')(x)\n",
    "    if batch_norm is True:\n",
    "        conv = layers.BatchNormalization(axis=3)(conv)\n",
    "    conv = layers.Activation(\"relu\")(conv)\n",
    "\n",
    "    conv = layers.Conv2D(size, (filter_size, filter_size), padding=\"same\",dilation_rate=2, kernel_initializer = 'he_normal')(conv)\n",
    "    if batch_norm is True:\n",
    "        conv = layers.BatchNormalization(axis=3)(conv)\n",
    "    conv = layers.Activation(\"relu\")(conv)\n",
    "    \n",
    "    if dropout > 0:\n",
    "        conv = layers.Dropout(dropout)(conv)\n",
    "\n",
    "    return conv\n"
   ]
  },
  {
   "cell_type": "code",
   "execution_count": 6,
   "metadata": {},
   "outputs": [],
   "source": [
    "def conv_block_ritnet(x, filter_size, size, dropout, batch_norm=False):\n",
    "    \n",
    "    conv = layers.Conv2D(size, (filter_size, filter_size), padding=\"same\")(x)\n",
    "    if batch_norm is True:\n",
    "        conv = layers.BatchNormalization(axis=3)(conv)\n",
    "    conv = layers.Activation(\"relu\")(conv)\n",
    "\n",
    "    conv = layers.Conv2D(size, (filter_size, filter_size), padding=\"same\")(conv)\n",
    "    if batch_norm is True:\n",
    "        conv = layers.BatchNormalization(axis=3)(conv)\n",
    "    conv = layers.Activation(\"relu\")(conv)\n",
    "    \n",
    "    conv = layers.Conv2D(size, (filter_size, filter_size), padding=\"same\")(x)\n",
    "    if batch_norm is True:\n",
    "        conv = layers.BatchNormalization(axis=3)(conv)\n",
    "    conv = layers.Activation(\"relu\")(conv)\n",
    "    \n",
    "    conv = layers.Conv2D(size, (filter_size, filter_size), padding=\"same\")(x)\n",
    "    if batch_norm is True:\n",
    "        conv = layers.BatchNormalization(axis=3)(conv)\n",
    "    conv = layers.Activation(\"relu\")(conv)\n",
    "    \n",
    "    conv = layers.Conv2D(size, (filter_size, filter_size), padding=\"same\")(x)\n",
    "    if batch_norm is True:\n",
    "        conv = layers.BatchNormalization(axis=3)(conv)\n",
    "    conv = layers.Activation(\"relu\")(conv)\n",
    "    \n",
    "    if dropout > 0:\n",
    "        conv = layers.Dropout(dropout)(conv)\n",
    "\n",
    "    return conv\n"
   ]
  },
  {
   "cell_type": "code",
   "execution_count": 2,
   "metadata": {},
   "outputs": [],
   "source": [
    "def Shallow_UNet(input_shape, inputs, NUM_CLASSES=1, dropout_rate=0.0, batch_norm=True, second=False, conv_1=[]):\n",
    "    '''\n",
    "    UNet, \n",
    "    \n",
    "    '''\n",
    "    # network structure\n",
    "    FILTER_NUM = 64 # number of filters for the first layer\n",
    "    FILTER_SIZE = 3 # size of the convolutional filter\n",
    "    UP_SAMP_SIZE = 2 # size of upsampling filters\n",
    "    \n",
    "\n",
    "#     inputs = layers.Input(input_shape, dtype=tf.float32)\n",
    "\n",
    "    # Downsampling layers\n",
    "    # DownRes 1, convolution + pooling\n",
    "    conv_128 = conv_block(inputs, FILTER_SIZE, FILTER_NUM, dropout_rate, batch_norm)\n",
    "    pool_64 = layers.MaxPooling2D(pool_size=(2,2))(conv_128)\n",
    "    # DownRes 2\n",
    "    conv_64 = conv_block(pool_64, FILTER_SIZE, 2*FILTER_NUM, dropout_rate, batch_norm)\n",
    "    pool_32 = layers.MaxPooling2D(pool_size=(2,2))(conv_64)\n",
    "    # DownRes 3\n",
    "    conv_32 = conv_block(pool_32, FILTER_SIZE, 4*FILTER_NUM, dropout_rate, batch_norm)\n",
    "    pool_16 = layers.MaxPooling2D(pool_size=(2,2))(conv_32)\n",
    "    # DownRes 4, convolution only\n",
    "    conv_16 = conv_block(pool_16, FILTER_SIZE, 8*FILTER_NUM, dropout_rate, batch_norm)\n",
    "\n",
    "    # Upsampling layers\n",
    "   \n",
    "    up_32 = layers.UpSampling2D(size=(UP_SAMP_SIZE, UP_SAMP_SIZE), data_format=\"channels_last\")(conv_16)\n",
    "    if second:\n",
    "        up_32 = layers.concatenate([up_32, conv_32, conv_1[-1]], axis=3)\n",
    "    else:\n",
    "        up_32 = layers.concatenate([up_32, conv_32], axis=3)\n",
    "    up_conv_32 = conv_block(up_32, FILTER_SIZE, 8*FILTER_NUM, dropout_rate, batch_norm)\n",
    "    # UpRes 7\n",
    "    \n",
    "    up_64 = layers.UpSampling2D(size=(UP_SAMP_SIZE, UP_SAMP_SIZE), data_format=\"channels_last\")(up_conv_32)\n",
    "    if second:\n",
    "        up_64 = layers.concatenate([up_64, conv_64, conv_1[-2]], axis=3)\n",
    "    else:\n",
    "        up_64 = layers.concatenate([up_64, conv_64], axis=3)\n",
    "    up_conv_64 = conv_block(up_64, FILTER_SIZE, 4*FILTER_NUM, dropout_rate, batch_norm)\n",
    "    # UpRes 8\n",
    "    \n",
    "    up_128 = layers.UpSampling2D(size=(UP_SAMP_SIZE, UP_SAMP_SIZE), data_format=\"channels_last\")(up_conv_64)\n",
    "    if second:\n",
    "        up_128 = layers.concatenate([up_128, conv_128, conv_1[-3]], axis=3)\n",
    "    else:\n",
    "        up_128 = layers.concatenate([up_128, conv_128], axis=3)\n",
    "    up_conv_128 = conv_block(up_128, FILTER_SIZE, 2*FILTER_NUM, dropout_rate, batch_norm)\n",
    "   \n",
    "\n",
    "    # 1*1 convolutional layers\n",
    "   \n",
    "    conv_final = layers.Conv2D(NUM_CLASSES, kernel_size=(1,1))(up_conv_128)\n",
    "    conv_final = layers.BatchNormalization(axis=3)(conv_final)\n",
    "    conv_final = layers.Activation('sigmoid')(conv_final)  #Change to softmax for multichannel\n",
    "    \n",
    "    \n",
    "    return conv_final,[conv_128, conv_64, conv_32]\n"
   ]
  },
  {
   "cell_type": "code",
   "execution_count": 7,
   "metadata": {},
   "outputs": [],
   "source": [
    "def UNet(input_shape, inputs, NUM_CLASSES=1, dropout_rate=0.0, batch_norm=True, second=False, conv_1=[]):\n",
    "    '''\n",
    "    UNet, \n",
    "    \n",
    "    '''\n",
    "    # network structure\n",
    "    FILTER_NUM = 64 # number of filters for the first layer\n",
    "    FILTER_SIZE = 3 # size of the convolutional filter\n",
    "    UP_SAMP_SIZE = 2 # size of upsampling filters\n",
    "    \n",
    "\n",
    "#     inputs = layers.Input(input_shape, dtype=tf.float32)\n",
    "\n",
    "    # Downsampling layers\n",
    "    # DownRes 1, convolution + pooling\n",
    "    conv_128 = conv_block(inputs, FILTER_SIZE, FILTER_NUM, dropout_rate, batch_norm)\n",
    "    pool_64 = layers.MaxPooling2D(pool_size=(2,2))(conv_128)\n",
    "    # DownRes 2\n",
    "    conv_64 = conv_block(pool_64, FILTER_SIZE, 2*FILTER_NUM, dropout_rate, batch_norm)\n",
    "    pool_32 = layers.MaxPooling2D(pool_size=(2,2))(conv_64)\n",
    "    # DownRes 3\n",
    "    conv_32 = conv_block(pool_32, FILTER_SIZE, 4*FILTER_NUM, dropout_rate, batch_norm)\n",
    "    pool_16 = layers.MaxPooling2D(pool_size=(2,2))(conv_32)\n",
    "    # DownRes 4\n",
    "    conv_16 = conv_block(pool_16, FILTER_SIZE, 8*FILTER_NUM, dropout_rate, batch_norm)\n",
    "    pool_8 = layers.MaxPooling2D(pool_size=(2,2))(conv_16)\n",
    "    # DownRes 5, convolution only\n",
    "    conv_8 = conv_block(pool_8, FILTER_SIZE, 16*FILTER_NUM, dropout_rate, batch_norm)\n",
    "\n",
    "    # Upsampling layers\n",
    "   \n",
    "    up_16 = layers.UpSampling2D(size=(UP_SAMP_SIZE, UP_SAMP_SIZE), data_format=\"channels_last\")(conv_8)\n",
    "    if second:\n",
    "        up_16 = layers.concatenate([up_16, conv_16, conv_1[3]], axis=3)\n",
    "    else:\n",
    "        up_16 = layers.concatenate([up_16, conv_16], axis=3)\n",
    "    up_conv_16 = conv_block(up_16, FILTER_SIZE, 8*FILTER_NUM, dropout_rate, batch_norm)\n",
    "    # UpRes 7\n",
    "    \n",
    "    up_32 = layers.UpSampling2D(size=(UP_SAMP_SIZE, UP_SAMP_SIZE), data_format=\"channels_last\")(up_conv_16)\n",
    "    if second:\n",
    "        up_32 = layers.concatenate([up_32, conv_32, conv_1[2]], axis=3)\n",
    "    else:\n",
    "        up_32 = layers.concatenate([up_32, conv_32], axis=3)\n",
    "    up_conv_32 = conv_block(up_32, FILTER_SIZE, 4*FILTER_NUM, dropout_rate, batch_norm)\n",
    "    # UpRes 8\n",
    "    \n",
    "    up_64 = layers.UpSampling2D(size=(UP_SAMP_SIZE, UP_SAMP_SIZE), data_format=\"channels_last\")(up_conv_32)\n",
    "    if second:\n",
    "        up_64 = layers.concatenate([up_64, conv_64, conv_1[1]], axis=3)\n",
    "    else:\n",
    "        up_64 = layers.concatenate([up_64, conv_64], axis=3)\n",
    "    up_conv_64 = conv_block(up_64, FILTER_SIZE, 2*FILTER_NUM, dropout_rate, batch_norm)\n",
    "    # UpRes 9\n",
    "   \n",
    "    up_128 = layers.UpSampling2D(size=(UP_SAMP_SIZE, UP_SAMP_SIZE), data_format=\"channels_last\")(up_conv_64)\n",
    "    if second:\n",
    "        up_128 = layers.concatenate([up_128, conv_128,conv_1[0]], axis=3)\n",
    "    else:\n",
    "        up_128 = layers.concatenate([up_128, conv_128], axis=3)\n",
    "    up_conv_128 = conv_block(up_128, FILTER_SIZE, FILTER_NUM, dropout_rate, batch_norm)\n",
    "\n",
    "    # 1*1 convolutional layers\n",
    "   \n",
    "    conv_final = layers.Conv2D(NUM_CLASSES, kernel_size=(1,1))(up_conv_128)\n",
    "    conv_final = layers.BatchNormalization(axis=3)(conv_final)\n",
    "    conv_final = layers.Activation('sigmoid')(conv_final)  #Change to softmax for multichannel\n",
    "    \n",
    "    \n",
    "    return conv_final,[conv_128, conv_64, conv_32, conv_16]\n"
   ]
  },
  {
   "cell_type": "code",
   "execution_count": 6,
   "metadata": {},
   "outputs": [],
   "source": [
    "def UNetRIT(input_shape, inputs, NUM_CLASSES=1, dropout_rate=0.0, batch_norm=True, second=False, conv_1=[]):\n",
    "    '''\n",
    "    UNet, \n",
    "    \n",
    "    '''\n",
    "    # network structure\n",
    "    FILTER_NUM = 64 # number of filters for the first layer\n",
    "    FILTER_SIZE = 3 # size of the convolutional filter\n",
    "    UP_SAMP_SIZE = 2 # size of upsampling filters\n",
    "    \n",
    "\n",
    "#     inputs = layers.Input(input_shape, dtype=tf.float32)\n",
    "\n",
    "    # Downsampling layers\n",
    "    # DownRes 1, convolution + pooling\n",
    "    conv_128 = conv_block_ritnet(inputs, FILTER_SIZE, FILTER_NUM, dropout_rate, batch_norm)\n",
    "    pool_64 = layers.MaxPooling2D(pool_size=(2,2))(conv_128)\n",
    "    # DownRes 2\n",
    "    conv_64 = conv_block_ritnet(pool_64, FILTER_SIZE, 2*FILTER_NUM, dropout_rate, batch_norm)\n",
    "    pool_32 = layers.MaxPooling2D(pool_size=(2,2))(conv_64)\n",
    "    # DownRes 3\n",
    "    conv_32 = conv_block_ritnet(pool_32, FILTER_SIZE, 4*FILTER_NUM, dropout_rate, batch_norm)\n",
    "    pool_16 = layers.MaxPooling2D(pool_size=(2,2))(conv_32)\n",
    "    # DownRes 4\n",
    "    conv_16 = conv_block_ritnet(pool_16, FILTER_SIZE, 8*FILTER_NUM, dropout_rate, batch_norm)\n",
    "    pool_8 = layers.MaxPooling2D(pool_size=(2,2))(conv_16)\n",
    "    # DownRes 5, convolution only\n",
    "    conv_8 = conv_block_ritnet(pool_8, FILTER_SIZE, 16*FILTER_NUM, dropout_rate, batch_norm)\n",
    "\n",
    "    # Upsampling layers\n",
    "   \n",
    "    up_16 = layers.UpSampling2D(size=(UP_SAMP_SIZE, UP_SAMP_SIZE), data_format=\"channels_last\")(conv_8)\n",
    "    if second:\n",
    "        up_16 = layers.concatenate([up_16, conv_16, conv_1[3]], axis=3)\n",
    "    else:\n",
    "        up_16 = layers.concatenate([up_16, conv_16], axis=3)\n",
    "    up_conv_16 = conv_block_ritnet(up_16, FILTER_SIZE, 8*FILTER_NUM, dropout_rate, batch_norm)\n",
    "    # UpRes 7\n",
    "    \n",
    "    up_32 = layers.UpSampling2D(size=(UP_SAMP_SIZE, UP_SAMP_SIZE), data_format=\"channels_last\")(up_conv_16)\n",
    "    if second:\n",
    "        up_32 = layers.concatenate([up_32, conv_32, conv_1[2]], axis=3)\n",
    "    else:\n",
    "        up_32 = layers.concatenate([up_32, conv_32], axis=3)\n",
    "    up_conv_32 = conv_block_ritnet(up_32, FILTER_SIZE, 4*FILTER_NUM, dropout_rate, batch_norm)\n",
    "    # UpRes 8\n",
    "    \n",
    "    up_64 = layers.UpSampling2D(size=(UP_SAMP_SIZE, UP_SAMP_SIZE), data_format=\"channels_last\")(up_conv_32)\n",
    "    if second:\n",
    "        up_64 = layers.concatenate([up_64, conv_64, conv_1[1]], axis=3)\n",
    "    else:\n",
    "        up_64 = layers.concatenate([up_64, conv_64], axis=3)\n",
    "    up_conv_64 = conv_block_ritnet(up_64, FILTER_SIZE, 2*FILTER_NUM, dropout_rate, batch_norm)\n",
    "    # UpRes 9\n",
    "   \n",
    "    up_128 = layers.UpSampling2D(size=(UP_SAMP_SIZE, UP_SAMP_SIZE), data_format=\"channels_last\")(up_conv_64)\n",
    "    if second:\n",
    "        up_128 = layers.concatenate([up_128, conv_128,conv_1[0]], axis=3)\n",
    "    else:\n",
    "        up_128 = layers.concatenate([up_128, conv_128], axis=3)\n",
    "    up_conv_128 = conv_block_ritnet(up_128, FILTER_SIZE, FILTER_NUM, dropout_rate, batch_norm)\n",
    "\n",
    "    # 1*1 convolutional layers\n",
    "   \n",
    "    conv_final = layers.Conv2D(NUM_CLASSES, kernel_size=(1,1))(up_conv_128)\n",
    "    conv_final = layers.BatchNormalization(axis=3)(conv_final)\n",
    "    conv_final = layers.Activation('sigmoid')(conv_final)  #Change to softmax for multichannel\n",
    "    \n",
    "    \n",
    "    return conv_final,[conv_128, conv_64, conv_32, conv_16]"
   ]
  },
  {
   "cell_type": "code",
   "execution_count": 3,
   "metadata": {},
   "outputs": [],
   "source": [
    "def double_Unet(input_shape, NUM_CLASSES=1, dropout_rate=0.0, batch_norm=True):\n",
    "    inputs1 = layers.Input(input_shape, dtype=tf.float32)\n",
    "    output1, pre_conv = Shallow_UNet(input_shape, inputs1, NUM_CLASSES=1, dropout_rate=0.2, batch_norm=True)\n",
    "    inputs2 = inputs1 * output1\n",
    "    output2,_ =  Shallow_UNet(input_shape, inputs2, NUM_CLASSES=1, dropout_rate=0.2, \n",
    "                      batch_norm=True, second=True, conv_1=pre_conv)\n",
    "    conv_final = layers.concatenate([output1, output2], axis=3)\n",
    "    # 1*1 convolutional layers\n",
    "   \n",
    "    conv_final = layers.Conv2D(NUM_CLASSES, kernel_size=(1,1))(conv_final)\n",
    "    conv_final = layers.BatchNormalization(axis=3)(conv_final)\n",
    "    conv_final = layers.Activation('sigmoid')(conv_final)  #Change to softmax for multichannel\n",
    "    \n",
    "    model = models.Model(inputs1, conv_final, name=\"DoubleUNet\")\n",
    "    return model\n",
    "    \n"
   ]
  },
  {
   "cell_type": "code",
   "execution_count": 6,
   "metadata": {},
   "outputs": [],
   "source": [
    "input_shape = (128,128,3)\n",
    "model = double_Unet(input_shape, NUM_CLASSES=1, dropout_rate=0.35, batch_norm=True)"
   ]
  },
  {
   "cell_type": "code",
   "execution_count": 10,
   "metadata": {},
   "outputs": [
    {
     "name": "stdout",
     "output_type": "stream",
     "text": [
      "Model: \"DoubleUNet\"\n",
      "__________________________________________________________________________________________________\n",
      " Layer (type)                   Output Shape         Param #     Connected to                     \n",
      "==================================================================================================\n",
      " input_1 (InputLayer)           [(None, 128, 128, 3  0           []                               \n",
      "                                )]                                                                \n",
      "                                                                                                  \n",
      " conv2d (Conv2D)                (None, 128, 128, 64  1792        ['input_1[0][0]']                \n",
      "                                )                                                                 \n",
      "                                                                                                  \n",
      " batch_normalization (BatchNorm  (None, 128, 128, 64  256        ['conv2d[0][0]']                 \n",
      " alization)                     )                                                                 \n",
      "                                                                                                  \n",
      " activation (Activation)        (None, 128, 128, 64  0           ['batch_normalization[0][0]']    \n",
      "                                )                                                                 \n",
      "                                                                                                  \n",
      " conv2d_1 (Conv2D)              (None, 128, 128, 64  36928       ['activation[0][0]']             \n",
      "                                )                                                                 \n",
      "                                                                                                  \n",
      " batch_normalization_1 (BatchNo  (None, 128, 128, 64  256        ['conv2d_1[0][0]']               \n",
      " rmalization)                   )                                                                 \n",
      "                                                                                                  \n",
      " activation_1 (Activation)      (None, 128, 128, 64  0           ['batch_normalization_1[0][0]']  \n",
      "                                )                                                                 \n",
      "                                                                                                  \n",
      " dropout (Dropout)              (None, 128, 128, 64  0           ['activation_1[0][0]']           \n",
      "                                )                                                                 \n",
      "                                                                                                  \n",
      " max_pooling2d (MaxPooling2D)   (None, 64, 64, 64)   0           ['dropout[0][0]']                \n",
      "                                                                                                  \n",
      " conv2d_2 (Conv2D)              (None, 64, 64, 128)  73856       ['max_pooling2d[0][0]']          \n",
      "                                                                                                  \n",
      " batch_normalization_2 (BatchNo  (None, 64, 64, 128)  512        ['conv2d_2[0][0]']               \n",
      " rmalization)                                                                                     \n",
      "                                                                                                  \n",
      " activation_2 (Activation)      (None, 64, 64, 128)  0           ['batch_normalization_2[0][0]']  \n",
      "                                                                                                  \n",
      " conv2d_3 (Conv2D)              (None, 64, 64, 128)  147584      ['activation_2[0][0]']           \n",
      "                                                                                                  \n",
      " batch_normalization_3 (BatchNo  (None, 64, 64, 128)  512        ['conv2d_3[0][0]']               \n",
      " rmalization)                                                                                     \n",
      "                                                                                                  \n",
      " activation_3 (Activation)      (None, 64, 64, 128)  0           ['batch_normalization_3[0][0]']  \n",
      "                                                                                                  \n",
      " dropout_1 (Dropout)            (None, 64, 64, 128)  0           ['activation_3[0][0]']           \n",
      "                                                                                                  \n",
      " max_pooling2d_1 (MaxPooling2D)  (None, 32, 32, 128)  0          ['dropout_1[0][0]']              \n",
      "                                                                                                  \n",
      " conv2d_4 (Conv2D)              (None, 32, 32, 256)  295168      ['max_pooling2d_1[0][0]']        \n",
      "                                                                                                  \n",
      " batch_normalization_4 (BatchNo  (None, 32, 32, 256)  1024       ['conv2d_4[0][0]']               \n",
      " rmalization)                                                                                     \n",
      "                                                                                                  \n",
      " activation_4 (Activation)      (None, 32, 32, 256)  0           ['batch_normalization_4[0][0]']  \n",
      "                                                                                                  \n",
      " conv2d_5 (Conv2D)              (None, 32, 32, 256)  590080      ['activation_4[0][0]']           \n",
      "                                                                                                  \n",
      " batch_normalization_5 (BatchNo  (None, 32, 32, 256)  1024       ['conv2d_5[0][0]']               \n",
      " rmalization)                                                                                     \n",
      "                                                                                                  \n",
      " activation_5 (Activation)      (None, 32, 32, 256)  0           ['batch_normalization_5[0][0]']  \n",
      "                                                                                                  \n",
      " dropout_2 (Dropout)            (None, 32, 32, 256)  0           ['activation_5[0][0]']           \n",
      "                                                                                                  \n",
      " max_pooling2d_2 (MaxPooling2D)  (None, 16, 16, 256)  0          ['dropout_2[0][0]']              \n",
      "                                                                                                  \n",
      " conv2d_6 (Conv2D)              (None, 16, 16, 512)  1180160     ['max_pooling2d_2[0][0]']        \n",
      "                                                                                                  \n",
      " batch_normalization_6 (BatchNo  (None, 16, 16, 512)  2048       ['conv2d_6[0][0]']               \n",
      " rmalization)                                                                                     \n",
      "                                                                                                  \n",
      " activation_6 (Activation)      (None, 16, 16, 512)  0           ['batch_normalization_6[0][0]']  \n",
      "                                                                                                  \n",
      " conv2d_7 (Conv2D)              (None, 16, 16, 512)  2359808     ['activation_6[0][0]']           \n",
      "                                                                                                  \n",
      " batch_normalization_7 (BatchNo  (None, 16, 16, 512)  2048       ['conv2d_7[0][0]']               \n",
      " rmalization)                                                                                     \n",
      "                                                                                                  \n",
      " activation_7 (Activation)      (None, 16, 16, 512)  0           ['batch_normalization_7[0][0]']  \n",
      "                                                                                                  \n",
      " dropout_3 (Dropout)            (None, 16, 16, 512)  0           ['activation_7[0][0]']           \n",
      "                                                                                                  \n",
      " max_pooling2d_3 (MaxPooling2D)  (None, 8, 8, 512)   0           ['dropout_3[0][0]']              \n",
      "                                                                                                  \n"
     ]
    },
    {
     "name": "stdout",
     "output_type": "stream",
     "text": [
      " conv2d_8 (Conv2D)              (None, 8, 8, 1024)   4719616     ['max_pooling2d_3[0][0]']        \n",
      "                                                                                                  \n",
      " batch_normalization_8 (BatchNo  (None, 8, 8, 1024)  4096        ['conv2d_8[0][0]']               \n",
      " rmalization)                                                                                     \n",
      "                                                                                                  \n",
      " activation_8 (Activation)      (None, 8, 8, 1024)   0           ['batch_normalization_8[0][0]']  \n",
      "                                                                                                  \n",
      " conv2d_9 (Conv2D)              (None, 8, 8, 1024)   9438208     ['activation_8[0][0]']           \n",
      "                                                                                                  \n",
      " batch_normalization_9 (BatchNo  (None, 8, 8, 1024)  4096        ['conv2d_9[0][0]']               \n",
      " rmalization)                                                                                     \n",
      "                                                                                                  \n",
      " activation_9 (Activation)      (None, 8, 8, 1024)   0           ['batch_normalization_9[0][0]']  \n",
      "                                                                                                  \n",
      " dropout_4 (Dropout)            (None, 8, 8, 1024)   0           ['activation_9[0][0]']           \n",
      "                                                                                                  \n",
      " up_sampling2d (UpSampling2D)   (None, 16, 16, 1024  0           ['dropout_4[0][0]']              \n",
      "                                )                                                                 \n",
      "                                                                                                  \n",
      " concatenate (Concatenate)      (None, 16, 16, 1536  0           ['up_sampling2d[0][0]',          \n",
      "                                )                                 'dropout_3[0][0]']              \n",
      "                                                                                                  \n",
      " conv2d_10 (Conv2D)             (None, 16, 16, 512)  7078400     ['concatenate[0][0]']            \n",
      "                                                                                                  \n",
      " batch_normalization_10 (BatchN  (None, 16, 16, 512)  2048       ['conv2d_10[0][0]']              \n",
      " ormalization)                                                                                    \n",
      "                                                                                                  \n",
      " activation_10 (Activation)     (None, 16, 16, 512)  0           ['batch_normalization_10[0][0]'] \n",
      "                                                                                                  \n",
      " conv2d_11 (Conv2D)             (None, 16, 16, 512)  2359808     ['activation_10[0][0]']          \n",
      "                                                                                                  \n",
      " batch_normalization_11 (BatchN  (None, 16, 16, 512)  2048       ['conv2d_11[0][0]']              \n",
      " ormalization)                                                                                    \n",
      "                                                                                                  \n",
      " activation_11 (Activation)     (None, 16, 16, 512)  0           ['batch_normalization_11[0][0]'] \n",
      "                                                                                                  \n",
      " dropout_5 (Dropout)            (None, 16, 16, 512)  0           ['activation_11[0][0]']          \n",
      "                                                                                                  \n",
      " up_sampling2d_1 (UpSampling2D)  (None, 32, 32, 512)  0          ['dropout_5[0][0]']              \n",
      "                                                                                                  \n",
      " concatenate_1 (Concatenate)    (None, 32, 32, 768)  0           ['up_sampling2d_1[0][0]',        \n",
      "                                                                  'dropout_2[0][0]']              \n",
      "                                                                                                  \n",
      " conv2d_12 (Conv2D)             (None, 32, 32, 256)  1769728     ['concatenate_1[0][0]']          \n",
      "                                                                                                  \n",
      " batch_normalization_12 (BatchN  (None, 32, 32, 256)  1024       ['conv2d_12[0][0]']              \n",
      " ormalization)                                                                                    \n",
      "                                                                                                  \n",
      " activation_12 (Activation)     (None, 32, 32, 256)  0           ['batch_normalization_12[0][0]'] \n",
      "                                                                                                  \n",
      " conv2d_13 (Conv2D)             (None, 32, 32, 256)  590080      ['activation_12[0][0]']          \n",
      "                                                                                                  \n",
      " batch_normalization_13 (BatchN  (None, 32, 32, 256)  1024       ['conv2d_13[0][0]']              \n",
      " ormalization)                                                                                    \n",
      "                                                                                                  \n",
      " activation_13 (Activation)     (None, 32, 32, 256)  0           ['batch_normalization_13[0][0]'] \n",
      "                                                                                                  \n",
      " dropout_6 (Dropout)            (None, 32, 32, 256)  0           ['activation_13[0][0]']          \n",
      "                                                                                                  \n",
      " up_sampling2d_2 (UpSampling2D)  (None, 64, 64, 256)  0          ['dropout_6[0][0]']              \n",
      "                                                                                                  \n",
      " concatenate_2 (Concatenate)    (None, 64, 64, 384)  0           ['up_sampling2d_2[0][0]',        \n",
      "                                                                  'dropout_1[0][0]']              \n",
      "                                                                                                  \n",
      " conv2d_14 (Conv2D)             (None, 64, 64, 128)  442496      ['concatenate_2[0][0]']          \n",
      "                                                                                                  \n",
      " batch_normalization_14 (BatchN  (None, 64, 64, 128)  512        ['conv2d_14[0][0]']              \n",
      " ormalization)                                                                                    \n",
      "                                                                                                  \n",
      " activation_14 (Activation)     (None, 64, 64, 128)  0           ['batch_normalization_14[0][0]'] \n",
      "                                                                                                  \n",
      " conv2d_15 (Conv2D)             (None, 64, 64, 128)  147584      ['activation_14[0][0]']          \n",
      "                                                                                                  \n",
      " batch_normalization_15 (BatchN  (None, 64, 64, 128)  512        ['conv2d_15[0][0]']              \n",
      " ormalization)                                                                                    \n",
      "                                                                                                  \n",
      " activation_15 (Activation)     (None, 64, 64, 128)  0           ['batch_normalization_15[0][0]'] \n",
      "                                                                                                  \n",
      " dropout_7 (Dropout)            (None, 64, 64, 128)  0           ['activation_15[0][0]']          \n",
      "                                                                                                  \n",
      " up_sampling2d_3 (UpSampling2D)  (None, 128, 128, 12  0          ['dropout_7[0][0]']              \n",
      "                                8)                                                                \n",
      "                                                                                                  \n"
     ]
    },
    {
     "name": "stdout",
     "output_type": "stream",
     "text": [
      " concatenate_3 (Concatenate)    (None, 128, 128, 19  0           ['up_sampling2d_3[0][0]',        \n",
      "                                2)                                'dropout[0][0]']                \n",
      "                                                                                                  \n",
      " conv2d_16 (Conv2D)             (None, 128, 128, 64  110656      ['concatenate_3[0][0]']          \n",
      "                                )                                                                 \n",
      "                                                                                                  \n",
      " batch_normalization_16 (BatchN  (None, 128, 128, 64  256        ['conv2d_16[0][0]']              \n",
      " ormalization)                  )                                                                 \n",
      "                                                                                                  \n",
      " activation_16 (Activation)     (None, 128, 128, 64  0           ['batch_normalization_16[0][0]'] \n",
      "                                )                                                                 \n",
      "                                                                                                  \n",
      " conv2d_17 (Conv2D)             (None, 128, 128, 64  36928       ['activation_16[0][0]']          \n",
      "                                )                                                                 \n",
      "                                                                                                  \n",
      " batch_normalization_17 (BatchN  (None, 128, 128, 64  256        ['conv2d_17[0][0]']              \n",
      " ormalization)                  )                                                                 \n",
      "                                                                                                  \n",
      " activation_17 (Activation)     (None, 128, 128, 64  0           ['batch_normalization_17[0][0]'] \n",
      "                                )                                                                 \n",
      "                                                                                                  \n",
      " dropout_8 (Dropout)            (None, 128, 128, 64  0           ['activation_17[0][0]']          \n",
      "                                )                                                                 \n",
      "                                                                                                  \n",
      " conv2d_18 (Conv2D)             (None, 128, 128, 1)  65          ['dropout_8[0][0]']              \n",
      "                                                                                                  \n",
      " batch_normalization_18 (BatchN  (None, 128, 128, 1)  4          ['conv2d_18[0][0]']              \n",
      " ormalization)                                                                                    \n",
      "                                                                                                  \n",
      " activation_18 (Activation)     (None, 128, 128, 1)  0           ['batch_normalization_18[0][0]'] \n",
      "                                                                                                  \n",
      " tf.math.multiply (TFOpLambda)  (None, 128, 128, 3)  0           ['input_1[0][0]',                \n",
      "                                                                  'activation_18[0][0]']          \n",
      "                                                                                                  \n",
      " conv2d_19 (Conv2D)             (None, 128, 128, 64  1792        ['tf.math.multiply[0][0]']       \n",
      "                                )                                                                 \n",
      "                                                                                                  \n",
      " batch_normalization_19 (BatchN  (None, 128, 128, 64  256        ['conv2d_19[0][0]']              \n",
      " ormalization)                  )                                                                 \n",
      "                                                                                                  \n",
      " activation_19 (Activation)     (None, 128, 128, 64  0           ['batch_normalization_19[0][0]'] \n",
      "                                )                                                                 \n",
      "                                                                                                  \n",
      " conv2d_20 (Conv2D)             (None, 128, 128, 64  36928       ['activation_19[0][0]']          \n",
      "                                )                                                                 \n",
      "                                                                                                  \n",
      " batch_normalization_20 (BatchN  (None, 128, 128, 64  256        ['conv2d_20[0][0]']              \n",
      " ormalization)                  )                                                                 \n",
      "                                                                                                  \n",
      " activation_20 (Activation)     (None, 128, 128, 64  0           ['batch_normalization_20[0][0]'] \n",
      "                                )                                                                 \n",
      "                                                                                                  \n",
      " dropout_9 (Dropout)            (None, 128, 128, 64  0           ['activation_20[0][0]']          \n",
      "                                )                                                                 \n",
      "                                                                                                  \n",
      " max_pooling2d_4 (MaxPooling2D)  (None, 64, 64, 64)  0           ['dropout_9[0][0]']              \n",
      "                                                                                                  \n",
      " conv2d_21 (Conv2D)             (None, 64, 64, 128)  73856       ['max_pooling2d_4[0][0]']        \n",
      "                                                                                                  \n",
      " batch_normalization_21 (BatchN  (None, 64, 64, 128)  512        ['conv2d_21[0][0]']              \n",
      " ormalization)                                                                                    \n",
      "                                                                                                  \n",
      " activation_21 (Activation)     (None, 64, 64, 128)  0           ['batch_normalization_21[0][0]'] \n",
      "                                                                                                  \n",
      " conv2d_22 (Conv2D)             (None, 64, 64, 128)  147584      ['activation_21[0][0]']          \n",
      "                                                                                                  \n",
      " batch_normalization_22 (BatchN  (None, 64, 64, 128)  512        ['conv2d_22[0][0]']              \n",
      " ormalization)                                                                                    \n",
      "                                                                                                  \n",
      " activation_22 (Activation)     (None, 64, 64, 128)  0           ['batch_normalization_22[0][0]'] \n",
      "                                                                                                  \n",
      " dropout_10 (Dropout)           (None, 64, 64, 128)  0           ['activation_22[0][0]']          \n",
      "                                                                                                  \n",
      " max_pooling2d_5 (MaxPooling2D)  (None, 32, 32, 128)  0          ['dropout_10[0][0]']             \n",
      "                                                                                                  \n",
      " conv2d_23 (Conv2D)             (None, 32, 32, 256)  295168      ['max_pooling2d_5[0][0]']        \n",
      "                                                                                                  \n",
      " batch_normalization_23 (BatchN  (None, 32, 32, 256)  1024       ['conv2d_23[0][0]']              \n",
      " ormalization)                                                                                    \n",
      "                                                                                                  \n",
      " activation_23 (Activation)     (None, 32, 32, 256)  0           ['batch_normalization_23[0][0]'] \n",
      "                                                                                                  \n",
      " conv2d_24 (Conv2D)             (None, 32, 32, 256)  590080      ['activation_23[0][0]']          \n"
     ]
    },
    {
     "name": "stdout",
     "output_type": "stream",
     "text": [
      "                                                                                                  \n",
      " batch_normalization_24 (BatchN  (None, 32, 32, 256)  1024       ['conv2d_24[0][0]']              \n",
      " ormalization)                                                                                    \n",
      "                                                                                                  \n",
      " activation_24 (Activation)     (None, 32, 32, 256)  0           ['batch_normalization_24[0][0]'] \n",
      "                                                                                                  \n",
      " dropout_11 (Dropout)           (None, 32, 32, 256)  0           ['activation_24[0][0]']          \n",
      "                                                                                                  \n",
      " max_pooling2d_6 (MaxPooling2D)  (None, 16, 16, 256)  0          ['dropout_11[0][0]']             \n",
      "                                                                                                  \n",
      " conv2d_25 (Conv2D)             (None, 16, 16, 512)  1180160     ['max_pooling2d_6[0][0]']        \n",
      "                                                                                                  \n",
      " batch_normalization_25 (BatchN  (None, 16, 16, 512)  2048       ['conv2d_25[0][0]']              \n",
      " ormalization)                                                                                    \n",
      "                                                                                                  \n",
      " activation_25 (Activation)     (None, 16, 16, 512)  0           ['batch_normalization_25[0][0]'] \n",
      "                                                                                                  \n",
      " conv2d_26 (Conv2D)             (None, 16, 16, 512)  2359808     ['activation_25[0][0]']          \n",
      "                                                                                                  \n",
      " batch_normalization_26 (BatchN  (None, 16, 16, 512)  2048       ['conv2d_26[0][0]']              \n",
      " ormalization)                                                                                    \n",
      "                                                                                                  \n",
      " activation_26 (Activation)     (None, 16, 16, 512)  0           ['batch_normalization_26[0][0]'] \n",
      "                                                                                                  \n",
      " dropout_12 (Dropout)           (None, 16, 16, 512)  0           ['activation_26[0][0]']          \n",
      "                                                                                                  \n",
      " max_pooling2d_7 (MaxPooling2D)  (None, 8, 8, 512)   0           ['dropout_12[0][0]']             \n",
      "                                                                                                  \n",
      " conv2d_27 (Conv2D)             (None, 8, 8, 1024)   4719616     ['max_pooling2d_7[0][0]']        \n",
      "                                                                                                  \n",
      " batch_normalization_27 (BatchN  (None, 8, 8, 1024)  4096        ['conv2d_27[0][0]']              \n",
      " ormalization)                                                                                    \n",
      "                                                                                                  \n",
      " activation_27 (Activation)     (None, 8, 8, 1024)   0           ['batch_normalization_27[0][0]'] \n",
      "                                                                                                  \n",
      " conv2d_28 (Conv2D)             (None, 8, 8, 1024)   9438208     ['activation_27[0][0]']          \n",
      "                                                                                                  \n",
      " batch_normalization_28 (BatchN  (None, 8, 8, 1024)  4096        ['conv2d_28[0][0]']              \n",
      " ormalization)                                                                                    \n",
      "                                                                                                  \n",
      " activation_28 (Activation)     (None, 8, 8, 1024)   0           ['batch_normalization_28[0][0]'] \n",
      "                                                                                                  \n",
      " dropout_13 (Dropout)           (None, 8, 8, 1024)   0           ['activation_28[0][0]']          \n",
      "                                                                                                  \n",
      " up_sampling2d_4 (UpSampling2D)  (None, 16, 16, 1024  0          ['dropout_13[0][0]']             \n",
      "                                )                                                                 \n",
      "                                                                                                  \n",
      " concatenate_4 (Concatenate)    (None, 16, 16, 2048  0           ['up_sampling2d_4[0][0]',        \n",
      "                                )                                 'dropout_12[0][0]',             \n",
      "                                                                  'dropout_3[0][0]']              \n",
      "                                                                                                  \n",
      " conv2d_29 (Conv2D)             (None, 16, 16, 512)  9437696     ['concatenate_4[0][0]']          \n",
      "                                                                                                  \n",
      " batch_normalization_29 (BatchN  (None, 16, 16, 512)  2048       ['conv2d_29[0][0]']              \n",
      " ormalization)                                                                                    \n",
      "                                                                                                  \n",
      " activation_29 (Activation)     (None, 16, 16, 512)  0           ['batch_normalization_29[0][0]'] \n",
      "                                                                                                  \n",
      " conv2d_30 (Conv2D)             (None, 16, 16, 512)  2359808     ['activation_29[0][0]']          \n",
      "                                                                                                  \n",
      " batch_normalization_30 (BatchN  (None, 16, 16, 512)  2048       ['conv2d_30[0][0]']              \n",
      " ormalization)                                                                                    \n",
      "                                                                                                  \n",
      " activation_30 (Activation)     (None, 16, 16, 512)  0           ['batch_normalization_30[0][0]'] \n",
      "                                                                                                  \n",
      " dropout_14 (Dropout)           (None, 16, 16, 512)  0           ['activation_30[0][0]']          \n",
      "                                                                                                  \n",
      " up_sampling2d_5 (UpSampling2D)  (None, 32, 32, 512)  0          ['dropout_14[0][0]']             \n",
      "                                                                                                  \n",
      " concatenate_5 (Concatenate)    (None, 32, 32, 1024  0           ['up_sampling2d_5[0][0]',        \n",
      "                                )                                 'dropout_11[0][0]',             \n",
      "                                                                  'dropout_2[0][0]']              \n",
      "                                                                                                  \n",
      " conv2d_31 (Conv2D)             (None, 32, 32, 256)  2359552     ['concatenate_5[0][0]']          \n",
      "                                                                                                  \n",
      " batch_normalization_31 (BatchN  (None, 32, 32, 256)  1024       ['conv2d_31[0][0]']              \n",
      " ormalization)                                                                                    \n",
      "                                                                                                  \n",
      " activation_31 (Activation)     (None, 32, 32, 256)  0           ['batch_normalization_31[0][0]'] \n",
      "                                                                                                  \n",
      " conv2d_32 (Conv2D)             (None, 32, 32, 256)  590080      ['activation_31[0][0]']          \n",
      "                                                                                                  \n",
      " batch_normalization_32 (BatchN  (None, 32, 32, 256)  1024       ['conv2d_32[0][0]']              \n"
     ]
    },
    {
     "name": "stdout",
     "output_type": "stream",
     "text": [
      " ormalization)                                                                                    \n",
      "                                                                                                  \n",
      " activation_32 (Activation)     (None, 32, 32, 256)  0           ['batch_normalization_32[0][0]'] \n",
      "                                                                                                  \n",
      " dropout_15 (Dropout)           (None, 32, 32, 256)  0           ['activation_32[0][0]']          \n",
      "                                                                                                  \n",
      " up_sampling2d_6 (UpSampling2D)  (None, 64, 64, 256)  0          ['dropout_15[0][0]']             \n",
      "                                                                                                  \n",
      " concatenate_6 (Concatenate)    (None, 64, 64, 512)  0           ['up_sampling2d_6[0][0]',        \n",
      "                                                                  'dropout_10[0][0]',             \n",
      "                                                                  'dropout_1[0][0]']              \n",
      "                                                                                                  \n",
      " conv2d_33 (Conv2D)             (None, 64, 64, 128)  589952      ['concatenate_6[0][0]']          \n",
      "                                                                                                  \n",
      " batch_normalization_33 (BatchN  (None, 64, 64, 128)  512        ['conv2d_33[0][0]']              \n",
      " ormalization)                                                                                    \n",
      "                                                                                                  \n",
      " activation_33 (Activation)     (None, 64, 64, 128)  0           ['batch_normalization_33[0][0]'] \n",
      "                                                                                                  \n",
      " conv2d_34 (Conv2D)             (None, 64, 64, 128)  147584      ['activation_33[0][0]']          \n",
      "                                                                                                  \n",
      " batch_normalization_34 (BatchN  (None, 64, 64, 128)  512        ['conv2d_34[0][0]']              \n",
      " ormalization)                                                                                    \n",
      "                                                                                                  \n",
      " activation_34 (Activation)     (None, 64, 64, 128)  0           ['batch_normalization_34[0][0]'] \n",
      "                                                                                                  \n",
      " dropout_16 (Dropout)           (None, 64, 64, 128)  0           ['activation_34[0][0]']          \n",
      "                                                                                                  \n",
      " up_sampling2d_7 (UpSampling2D)  (None, 128, 128, 12  0          ['dropout_16[0][0]']             \n",
      "                                8)                                                                \n",
      "                                                                                                  \n",
      " concatenate_7 (Concatenate)    (None, 128, 128, 25  0           ['up_sampling2d_7[0][0]',        \n",
      "                                6)                                'dropout_9[0][0]',              \n",
      "                                                                  'dropout[0][0]']                \n",
      "                                                                                                  \n",
      " conv2d_35 (Conv2D)             (None, 128, 128, 64  147520      ['concatenate_7[0][0]']          \n",
      "                                )                                                                 \n",
      "                                                                                                  \n",
      " batch_normalization_35 (BatchN  (None, 128, 128, 64  256        ['conv2d_35[0][0]']              \n",
      " ormalization)                  )                                                                 \n",
      "                                                                                                  \n",
      " activation_35 (Activation)     (None, 128, 128, 64  0           ['batch_normalization_35[0][0]'] \n",
      "                                )                                                                 \n",
      "                                                                                                  \n",
      " conv2d_36 (Conv2D)             (None, 128, 128, 64  36928       ['activation_35[0][0]']          \n",
      "                                )                                                                 \n",
      "                                                                                                  \n",
      " batch_normalization_36 (BatchN  (None, 128, 128, 64  256        ['conv2d_36[0][0]']              \n",
      " ormalization)                  )                                                                 \n",
      "                                                                                                  \n",
      " activation_36 (Activation)     (None, 128, 128, 64  0           ['batch_normalization_36[0][0]'] \n",
      "                                )                                                                 \n",
      "                                                                                                  \n",
      " dropout_17 (Dropout)           (None, 128, 128, 64  0           ['activation_36[0][0]']          \n",
      "                                )                                                                 \n",
      "                                                                                                  \n",
      " conv2d_37 (Conv2D)             (None, 128, 128, 1)  65          ['dropout_17[0][0]']             \n",
      "                                                                                                  \n",
      " batch_normalization_37 (BatchN  (None, 128, 128, 1)  4          ['conv2d_37[0][0]']              \n",
      " ormalization)                                                                                    \n",
      "                                                                                                  \n",
      " activation_37 (Activation)     (None, 128, 128, 1)  0           ['batch_normalization_37[0][0]'] \n",
      "                                                                                                  \n",
      " concatenate_8 (Concatenate)    (None, 128, 128, 2)  0           ['activation_18[0][0]',          \n",
      "                                                                  'activation_37[0][0]']          \n",
      "                                                                                                  \n",
      " conv2d_38 (Conv2D)             (None, 128, 128, 1)  3           ['concatenate_8[0][0]']          \n",
      "                                                                                                  \n",
      " batch_normalization_38 (BatchN  (None, 128, 128, 1)  4          ['conv2d_38[0][0]']              \n",
      " ormalization)                                                                                    \n",
      "                                                                                                  \n",
      " activation_38 (Activation)     (None, 128, 128, 1)  0           ['batch_normalization_38[0][0]'] \n",
      "                                                                                                  \n",
      "==================================================================================================\n",
      "Total params: 65,938,449\n",
      "Trainable params: 65,914,891\n",
      "Non-trainable params: 23,558\n",
      "__________________________________________________________________________________________________\n"
     ]
    }
   ],
   "source": [
    "model.summary()"
   ]
  },
  {
   "cell_type": "code",
   "execution_count": 11,
   "metadata": {},
   "outputs": [],
   "source": [
    "def load_images_from_folder(folder):\n",
    "    images = []\n",
    "    for filename in os.listdir(folder):\n",
    "        img = cv2.imread(os.path.join(folder,filename))\n",
    "        img = cv2.resize(img, (128,128),interpolation = cv2.INTER_NEAREST)\n",
    "        if img is not None:\n",
    "            images.append(img)\n",
    "    return images"
   ]
  },
  {
   "cell_type": "code",
   "execution_count": 12,
   "metadata": {},
   "outputs": [],
   "source": [
    "import matplotlib.pyplot as plt \n",
    "from tensorflow.python.keras import losses"
   ]
  },
  {
   "cell_type": "code",
   "execution_count": 11,
   "metadata": {},
   "outputs": [],
   "source": [
    "folder= \"C:/Users/anark/Downloads/seg_data/train_images\"\n",
    "images = load_images_from_folder(folder)\n",
    "image_array = np.array(images)"
   ]
  },
  {
   "cell_type": "code",
   "execution_count": 12,
   "metadata": {},
   "outputs": [],
   "source": [
    "folder= \"C:/Users/anark/Downloads/seg_data/train_masks\"\n",
    "masks = load_images_from_folder(folder)\n",
    "mask_array = np.array(masks)[:,:,:,0]"
   ]
  },
  {
   "cell_type": "code",
   "execution_count": 13,
   "metadata": {},
   "outputs": [
    {
     "data": {
      "text/plain": [
       "(2500, 128, 128)"
      ]
     },
     "execution_count": 13,
     "metadata": {},
     "output_type": "execute_result"
    }
   ],
   "source": [
    "img = image_array/255\n",
    "\n",
    "img.shape\n",
    "\n",
    "mas = mask_array/255\n",
    "\n",
    "mas[mas > 0.5] = 1\n",
    "mas[mas <= 0.5] = 0\n",
    "mas.shape"
   ]
  },
  {
   "cell_type": "code",
   "execution_count": 14,
   "metadata": {},
   "outputs": [
    {
     "data": {
      "text/plain": [
       "((2500, 128, 128, 3), (2500, 128, 128))"
      ]
     },
     "execution_count": 14,
     "metadata": {},
     "output_type": "execute_result"
    }
   ],
   "source": [
    "image_array.shape, mask_array.shape"
   ]
  },
  {
   "cell_type": "code",
   "execution_count": 30,
   "metadata": {},
   "outputs": [],
   "source": [
    "# Split Dataset\n",
    "from sklearn.model_selection import train_test_split\n",
    "X_train, X_val, y_train, y_val = train_test_split(img, mas, test_size=0.15, random_state=1)"
   ]
  },
  {
   "cell_type": "code",
   "execution_count": 31,
   "metadata": {},
   "outputs": [],
   "source": [
    "X_train = X_train.astype(np.float16)\n",
    "X_val = X_val.astype(np.float16)\n",
    "y_train = y_train.astype(np.float16)\n",
    "y_val = y_val.astype(np.float16)"
   ]
  },
  {
   "cell_type": "code",
   "execution_count": 32,
   "metadata": {},
   "outputs": [
    {
     "data": {
      "text/plain": [
       "(dtype('float16'), dtype('float16'), dtype('float16'), dtype('float16'))"
      ]
     },
     "execution_count": 32,
     "metadata": {},
     "output_type": "execute_result"
    }
   ],
   "source": [
    "X_train.dtype, X_val.dtype, y_train.dtype, y_val.dtype"
   ]
  },
  {
   "cell_type": "code",
   "execution_count": 33,
   "metadata": {},
   "outputs": [
    {
     "data": {
      "text/plain": [
       "((2125, 128, 128, 3), (2125, 128, 128))"
      ]
     },
     "execution_count": 33,
     "metadata": {},
     "output_type": "execute_result"
    }
   ],
   "source": [
    "X_train.shape,y_train.shape"
   ]
  },
  {
   "cell_type": "code",
   "execution_count": 34,
   "metadata": {},
   "outputs": [
    {
     "data": {
      "text/plain": [
       "(array([0., 1.], dtype=float16), array([0., 1.], dtype=float16))"
      ]
     },
     "execution_count": 34,
     "metadata": {},
     "output_type": "execute_result"
    }
   ],
   "source": [
    "np.unique(y_val),np.unique(y_train)"
   ]
  },
  {
   "cell_type": "code",
   "execution_count": 35,
   "metadata": {},
   "outputs": [
    {
     "data": {
      "text/plain": [
       "(1.0, 1.0, 1.0, 1.0)"
      ]
     },
     "execution_count": 35,
     "metadata": {},
     "output_type": "execute_result"
    }
   ],
   "source": [
    "np.max(X_val),np.max(X_train),np.max(y_val),np.max(y_train)"
   ]
  },
  {
   "cell_type": "code",
   "execution_count": 15,
   "metadata": {},
   "outputs": [],
   "source": [
    "def dice_coeff(y_true, y_pred):\n",
    "    smooth = 1.\n",
    "    # Flatten\n",
    "    y_true_f = tf.reshape(y_true, [-1])\n",
    "    y_pred_f = tf.reshape(y_pred, [-1])\n",
    "    intersection = tf.reduce_sum(y_true_f * y_pred_f)\n",
    "    score = (2. * intersection + smooth) / (tf.reduce_sum(y_true_f) + tf.reduce_sum(y_pred_f) + smooth)\n",
    "    return score\n",
    "\n",
    "def dice_loss(y_true, y_pred):\n",
    "    loss = 1 - dice_coeff(y_true, y_pred)\n",
    "    return loss\n",
    "\n",
    "def bce_dice_loss(y_true, y_pred):\n",
    "    loss = losses.binary_crossentropy(y_true, y_pred) + dice_loss(y_true, y_pred)\n",
    "    return loss"
   ]
  },
  {
   "cell_type": "code",
   "execution_count": 16,
   "metadata": {},
   "outputs": [
    {
     "name": "stdout",
     "output_type": "stream",
     "text": [
      "Model: \"DoubleUNet\"\n",
      "__________________________________________________________________________________________________\n",
      "Layer (type)                    Output Shape         Param #     Connected to                     \n",
      "==================================================================================================\n",
      "input_1 (InputLayer)            [(None, 128, 128, 3) 0                                            \n",
      "__________________________________________________________________________________________________\n",
      "conv2d (Conv2D)                 (None, 128, 128, 64) 1792        input_1[0][0]                    \n",
      "__________________________________________________________________________________________________\n",
      "batch_normalization (BatchNorma (None, 128, 128, 64) 256         conv2d[0][0]                     \n",
      "__________________________________________________________________________________________________\n",
      "activation (Activation)         (None, 128, 128, 64) 0           batch_normalization[0][0]        \n",
      "__________________________________________________________________________________________________\n",
      "conv2d_1 (Conv2D)               (None, 128, 128, 64) 36928       activation[0][0]                 \n",
      "__________________________________________________________________________________________________\n",
      "batch_normalization_1 (BatchNor (None, 128, 128, 64) 256         conv2d_1[0][0]                   \n",
      "__________________________________________________________________________________________________\n",
      "activation_1 (Activation)       (None, 128, 128, 64) 0           batch_normalization_1[0][0]      \n",
      "__________________________________________________________________________________________________\n",
      "dropout (Dropout)               (None, 128, 128, 64) 0           activation_1[0][0]               \n",
      "__________________________________________________________________________________________________\n",
      "max_pooling2d (MaxPooling2D)    (None, 64, 64, 64)   0           dropout[0][0]                    \n",
      "__________________________________________________________________________________________________\n",
      "conv2d_2 (Conv2D)               (None, 64, 64, 128)  73856       max_pooling2d[0][0]              \n",
      "__________________________________________________________________________________________________\n",
      "batch_normalization_2 (BatchNor (None, 64, 64, 128)  512         conv2d_2[0][0]                   \n",
      "__________________________________________________________________________________________________\n",
      "activation_2 (Activation)       (None, 64, 64, 128)  0           batch_normalization_2[0][0]      \n",
      "__________________________________________________________________________________________________\n",
      "conv2d_3 (Conv2D)               (None, 64, 64, 128)  147584      activation_2[0][0]               \n",
      "__________________________________________________________________________________________________\n",
      "batch_normalization_3 (BatchNor (None, 64, 64, 128)  512         conv2d_3[0][0]                   \n",
      "__________________________________________________________________________________________________\n",
      "activation_3 (Activation)       (None, 64, 64, 128)  0           batch_normalization_3[0][0]      \n",
      "__________________________________________________________________________________________________\n",
      "dropout_1 (Dropout)             (None, 64, 64, 128)  0           activation_3[0][0]               \n",
      "__________________________________________________________________________________________________\n",
      "max_pooling2d_1 (MaxPooling2D)  (None, 32, 32, 128)  0           dropout_1[0][0]                  \n",
      "__________________________________________________________________________________________________\n",
      "conv2d_4 (Conv2D)               (None, 32, 32, 256)  295168      max_pooling2d_1[0][0]            \n",
      "__________________________________________________________________________________________________\n",
      "batch_normalization_4 (BatchNor (None, 32, 32, 256)  1024        conv2d_4[0][0]                   \n",
      "__________________________________________________________________________________________________\n",
      "activation_4 (Activation)       (None, 32, 32, 256)  0           batch_normalization_4[0][0]      \n",
      "__________________________________________________________________________________________________\n",
      "conv2d_5 (Conv2D)               (None, 32, 32, 256)  590080      activation_4[0][0]               \n",
      "__________________________________________________________________________________________________\n",
      "batch_normalization_5 (BatchNor (None, 32, 32, 256)  1024        conv2d_5[0][0]                   \n",
      "__________________________________________________________________________________________________\n",
      "activation_5 (Activation)       (None, 32, 32, 256)  0           batch_normalization_5[0][0]      \n",
      "__________________________________________________________________________________________________\n",
      "dropout_2 (Dropout)             (None, 32, 32, 256)  0           activation_5[0][0]               \n",
      "__________________________________________________________________________________________________\n",
      "max_pooling2d_2 (MaxPooling2D)  (None, 16, 16, 256)  0           dropout_2[0][0]                  \n",
      "__________________________________________________________________________________________________\n",
      "conv2d_6 (Conv2D)               (None, 16, 16, 512)  1180160     max_pooling2d_2[0][0]            \n",
      "__________________________________________________________________________________________________\n",
      "batch_normalization_6 (BatchNor (None, 16, 16, 512)  2048        conv2d_6[0][0]                   \n",
      "__________________________________________________________________________________________________\n",
      "activation_6 (Activation)       (None, 16, 16, 512)  0           batch_normalization_6[0][0]      \n",
      "__________________________________________________________________________________________________\n",
      "conv2d_7 (Conv2D)               (None, 16, 16, 512)  2359808     activation_6[0][0]               \n",
      "__________________________________________________________________________________________________\n",
      "batch_normalization_7 (BatchNor (None, 16, 16, 512)  2048        conv2d_7[0][0]                   \n",
      "__________________________________________________________________________________________________\n",
      "activation_7 (Activation)       (None, 16, 16, 512)  0           batch_normalization_7[0][0]      \n",
      "__________________________________________________________________________________________________\n",
      "dropout_3 (Dropout)             (None, 16, 16, 512)  0           activation_7[0][0]               \n",
      "__________________________________________________________________________________________________\n",
      "max_pooling2d_3 (MaxPooling2D)  (None, 8, 8, 512)    0           dropout_3[0][0]                  \n",
      "__________________________________________________________________________________________________\n",
      "conv2d_8 (Conv2D)               (None, 8, 8, 1024)   4719616     max_pooling2d_3[0][0]            \n",
      "__________________________________________________________________________________________________\n",
      "batch_normalization_8 (BatchNor (None, 8, 8, 1024)   4096        conv2d_8[0][0]                   \n",
      "__________________________________________________________________________________________________\n",
      "activation_8 (Activation)       (None, 8, 8, 1024)   0           batch_normalization_8[0][0]      \n",
      "__________________________________________________________________________________________________\n",
      "conv2d_9 (Conv2D)               (None, 8, 8, 1024)   9438208     activation_8[0][0]               \n",
      "__________________________________________________________________________________________________\n",
      "batch_normalization_9 (BatchNor (None, 8, 8, 1024)   4096        conv2d_9[0][0]                   \n",
      "__________________________________________________________________________________________________\n",
      "activation_9 (Activation)       (None, 8, 8, 1024)   0           batch_normalization_9[0][0]      \n",
      "__________________________________________________________________________________________________\n",
      "dropout_4 (Dropout)             (None, 8, 8, 1024)   0           activation_9[0][0]               \n",
      "__________________________________________________________________________________________________\n",
      "up_sampling2d (UpSampling2D)    (None, 16, 16, 1024) 0           dropout_4[0][0]                  \n",
      "__________________________________________________________________________________________________\n",
      "concatenate (Concatenate)       (None, 16, 16, 1536) 0           up_sampling2d[0][0]              \n",
      "                                                                 dropout_3[0][0]                  \n",
      "__________________________________________________________________________________________________\n",
      "conv2d_10 (Conv2D)              (None, 16, 16, 512)  7078400     concatenate[0][0]                \n",
      "__________________________________________________________________________________________________\n",
      "batch_normalization_10 (BatchNo (None, 16, 16, 512)  2048        conv2d_10[0][0]                  \n",
      "__________________________________________________________________________________________________\n",
      "activation_10 (Activation)      (None, 16, 16, 512)  0           batch_normalization_10[0][0]     \n",
      "__________________________________________________________________________________________________\n",
      "conv2d_11 (Conv2D)              (None, 16, 16, 512)  2359808     activation_10[0][0]              \n",
      "__________________________________________________________________________________________________\n",
      "batch_normalization_11 (BatchNo (None, 16, 16, 512)  2048        conv2d_11[0][0]                  \n",
      "__________________________________________________________________________________________________\n",
      "activation_11 (Activation)      (None, 16, 16, 512)  0           batch_normalization_11[0][0]     \n",
      "__________________________________________________________________________________________________\n",
      "dropout_5 (Dropout)             (None, 16, 16, 512)  0           activation_11[0][0]              \n",
      "__________________________________________________________________________________________________\n",
      "up_sampling2d_1 (UpSampling2D)  (None, 32, 32, 512)  0           dropout_5[0][0]                  \n",
      "__________________________________________________________________________________________________\n",
      "concatenate_1 (Concatenate)     (None, 32, 32, 768)  0           up_sampling2d_1[0][0]            \n",
      "                                                                 dropout_2[0][0]                  \n",
      "__________________________________________________________________________________________________\n",
      "conv2d_12 (Conv2D)              (None, 32, 32, 256)  1769728     concatenate_1[0][0]              \n",
      "__________________________________________________________________________________________________\n",
      "batch_normalization_12 (BatchNo (None, 32, 32, 256)  1024        conv2d_12[0][0]                  \n",
      "__________________________________________________________________________________________________\n",
      "activation_12 (Activation)      (None, 32, 32, 256)  0           batch_normalization_12[0][0]     \n",
      "__________________________________________________________________________________________________\n",
      "conv2d_13 (Conv2D)              (None, 32, 32, 256)  590080      activation_12[0][0]              \n",
      "__________________________________________________________________________________________________\n",
      "batch_normalization_13 (BatchNo (None, 32, 32, 256)  1024        conv2d_13[0][0]                  \n",
      "__________________________________________________________________________________________________\n",
      "activation_13 (Activation)      (None, 32, 32, 256)  0           batch_normalization_13[0][0]     \n",
      "__________________________________________________________________________________________________\n",
      "dropout_6 (Dropout)             (None, 32, 32, 256)  0           activation_13[0][0]              \n",
      "__________________________________________________________________________________________________\n",
      "up_sampling2d_2 (UpSampling2D)  (None, 64, 64, 256)  0           dropout_6[0][0]                  \n",
      "__________________________________________________________________________________________________\n",
      "concatenate_2 (Concatenate)     (None, 64, 64, 384)  0           up_sampling2d_2[0][0]            \n",
      "                                                                 dropout_1[0][0]                  \n",
      "__________________________________________________________________________________________________\n",
      "conv2d_14 (Conv2D)              (None, 64, 64, 128)  442496      concatenate_2[0][0]              \n",
      "__________________________________________________________________________________________________\n",
      "batch_normalization_14 (BatchNo (None, 64, 64, 128)  512         conv2d_14[0][0]                  \n",
      "__________________________________________________________________________________________________\n",
      "activation_14 (Activation)      (None, 64, 64, 128)  0           batch_normalization_14[0][0]     \n",
      "__________________________________________________________________________________________________\n",
      "conv2d_15 (Conv2D)              (None, 64, 64, 128)  147584      activation_14[0][0]              \n",
      "__________________________________________________________________________________________________\n",
      "batch_normalization_15 (BatchNo (None, 64, 64, 128)  512         conv2d_15[0][0]                  \n",
      "__________________________________________________________________________________________________\n",
      "activation_15 (Activation)      (None, 64, 64, 128)  0           batch_normalization_15[0][0]     \n",
      "__________________________________________________________________________________________________\n",
      "dropout_7 (Dropout)             (None, 64, 64, 128)  0           activation_15[0][0]              \n",
      "__________________________________________________________________________________________________\n",
      "up_sampling2d_3 (UpSampling2D)  (None, 128, 128, 128 0           dropout_7[0][0]                  \n",
      "__________________________________________________________________________________________________\n",
      "concatenate_3 (Concatenate)     (None, 128, 128, 192 0           up_sampling2d_3[0][0]            \n",
      "                                                                 dropout[0][0]                    \n",
      "__________________________________________________________________________________________________\n",
      "conv2d_16 (Conv2D)              (None, 128, 128, 64) 110656      concatenate_3[0][0]              \n",
      "__________________________________________________________________________________________________\n",
      "batch_normalization_16 (BatchNo (None, 128, 128, 64) 256         conv2d_16[0][0]                  \n",
      "__________________________________________________________________________________________________\n",
      "activation_16 (Activation)      (None, 128, 128, 64) 0           batch_normalization_16[0][0]     \n",
      "__________________________________________________________________________________________________\n",
      "conv2d_17 (Conv2D)              (None, 128, 128, 64) 36928       activation_16[0][0]              \n",
      "__________________________________________________________________________________________________\n",
      "batch_normalization_17 (BatchNo (None, 128, 128, 64) 256         conv2d_17[0][0]                  \n",
      "__________________________________________________________________________________________________\n",
      "activation_17 (Activation)      (None, 128, 128, 64) 0           batch_normalization_17[0][0]     \n",
      "__________________________________________________________________________________________________\n",
      "dropout_8 (Dropout)             (None, 128, 128, 64) 0           activation_17[0][0]              \n",
      "__________________________________________________________________________________________________\n",
      "conv2d_18 (Conv2D)              (None, 128, 128, 1)  65          dropout_8[0][0]                  \n",
      "__________________________________________________________________________________________________\n",
      "batch_normalization_18 (BatchNo (None, 128, 128, 1)  4           conv2d_18[0][0]                  \n",
      "__________________________________________________________________________________________________\n",
      "activation_18 (Activation)      (None, 128, 128, 1)  0           batch_normalization_18[0][0]     \n",
      "__________________________________________________________________________________________________\n",
      "tf_op_layer_Mul (TensorFlowOpLa [(None, 128, 128, 3) 0           input_1[0][0]                    \n",
      "                                                                 activation_18[0][0]              \n",
      "__________________________________________________________________________________________________\n",
      "conv2d_19 (Conv2D)              (None, 128, 128, 64) 1792        tf_op_layer_Mul[0][0]            \n",
      "__________________________________________________________________________________________________\n",
      "batch_normalization_19 (BatchNo (None, 128, 128, 64) 256         conv2d_19[0][0]                  \n",
      "__________________________________________________________________________________________________\n",
      "activation_19 (Activation)      (None, 128, 128, 64) 0           batch_normalization_19[0][0]     \n",
      "__________________________________________________________________________________________________\n",
      "conv2d_20 (Conv2D)              (None, 128, 128, 64) 36928       activation_19[0][0]              \n",
      "__________________________________________________________________________________________________\n",
      "batch_normalization_20 (BatchNo (None, 128, 128, 64) 256         conv2d_20[0][0]                  \n",
      "__________________________________________________________________________________________________\n",
      "activation_20 (Activation)      (None, 128, 128, 64) 0           batch_normalization_20[0][0]     \n",
      "__________________________________________________________________________________________________\n",
      "dropout_9 (Dropout)             (None, 128, 128, 64) 0           activation_20[0][0]              \n",
      "__________________________________________________________________________________________________\n",
      "max_pooling2d_4 (MaxPooling2D)  (None, 64, 64, 64)   0           dropout_9[0][0]                  \n",
      "__________________________________________________________________________________________________\n",
      "conv2d_21 (Conv2D)              (None, 64, 64, 128)  73856       max_pooling2d_4[0][0]            \n",
      "__________________________________________________________________________________________________\n",
      "batch_normalization_21 (BatchNo (None, 64, 64, 128)  512         conv2d_21[0][0]                  \n",
      "__________________________________________________________________________________________________\n",
      "activation_21 (Activation)      (None, 64, 64, 128)  0           batch_normalization_21[0][0]     \n",
      "__________________________________________________________________________________________________\n",
      "conv2d_22 (Conv2D)              (None, 64, 64, 128)  147584      activation_21[0][0]              \n",
      "__________________________________________________________________________________________________\n",
      "batch_normalization_22 (BatchNo (None, 64, 64, 128)  512         conv2d_22[0][0]                  \n",
      "__________________________________________________________________________________________________\n",
      "activation_22 (Activation)      (None, 64, 64, 128)  0           batch_normalization_22[0][0]     \n",
      "__________________________________________________________________________________________________\n",
      "dropout_10 (Dropout)            (None, 64, 64, 128)  0           activation_22[0][0]              \n",
      "__________________________________________________________________________________________________\n",
      "max_pooling2d_5 (MaxPooling2D)  (None, 32, 32, 128)  0           dropout_10[0][0]                 \n",
      "__________________________________________________________________________________________________\n",
      "conv2d_23 (Conv2D)              (None, 32, 32, 256)  295168      max_pooling2d_5[0][0]            \n",
      "__________________________________________________________________________________________________\n",
      "batch_normalization_23 (BatchNo (None, 32, 32, 256)  1024        conv2d_23[0][0]                  \n",
      "__________________________________________________________________________________________________\n",
      "activation_23 (Activation)      (None, 32, 32, 256)  0           batch_normalization_23[0][0]     \n",
      "__________________________________________________________________________________________________\n",
      "conv2d_24 (Conv2D)              (None, 32, 32, 256)  590080      activation_23[0][0]              \n",
      "__________________________________________________________________________________________________\n",
      "batch_normalization_24 (BatchNo (None, 32, 32, 256)  1024        conv2d_24[0][0]                  \n",
      "__________________________________________________________________________________________________\n",
      "activation_24 (Activation)      (None, 32, 32, 256)  0           batch_normalization_24[0][0]     \n",
      "__________________________________________________________________________________________________\n",
      "dropout_11 (Dropout)            (None, 32, 32, 256)  0           activation_24[0][0]              \n",
      "__________________________________________________________________________________________________\n",
      "max_pooling2d_6 (MaxPooling2D)  (None, 16, 16, 256)  0           dropout_11[0][0]                 \n",
      "__________________________________________________________________________________________________\n",
      "conv2d_25 (Conv2D)              (None, 16, 16, 512)  1180160     max_pooling2d_6[0][0]            \n",
      "__________________________________________________________________________________________________\n",
      "batch_normalization_25 (BatchNo (None, 16, 16, 512)  2048        conv2d_25[0][0]                  \n",
      "__________________________________________________________________________________________________\n",
      "activation_25 (Activation)      (None, 16, 16, 512)  0           batch_normalization_25[0][0]     \n",
      "__________________________________________________________________________________________________\n",
      "conv2d_26 (Conv2D)              (None, 16, 16, 512)  2359808     activation_25[0][0]              \n",
      "__________________________________________________________________________________________________\n",
      "batch_normalization_26 (BatchNo (None, 16, 16, 512)  2048        conv2d_26[0][0]                  \n",
      "__________________________________________________________________________________________________\n",
      "activation_26 (Activation)      (None, 16, 16, 512)  0           batch_normalization_26[0][0]     \n",
      "__________________________________________________________________________________________________\n",
      "dropout_12 (Dropout)            (None, 16, 16, 512)  0           activation_26[0][0]              \n",
      "__________________________________________________________________________________________________\n",
      "max_pooling2d_7 (MaxPooling2D)  (None, 8, 8, 512)    0           dropout_12[0][0]                 \n",
      "__________________________________________________________________________________________________\n",
      "conv2d_27 (Conv2D)              (None, 8, 8, 1024)   4719616     max_pooling2d_7[0][0]            \n",
      "__________________________________________________________________________________________________\n",
      "batch_normalization_27 (BatchNo (None, 8, 8, 1024)   4096        conv2d_27[0][0]                  \n",
      "__________________________________________________________________________________________________\n",
      "activation_27 (Activation)      (None, 8, 8, 1024)   0           batch_normalization_27[0][0]     \n",
      "__________________________________________________________________________________________________\n",
      "conv2d_28 (Conv2D)              (None, 8, 8, 1024)   9438208     activation_27[0][0]              \n",
      "__________________________________________________________________________________________________\n",
      "batch_normalization_28 (BatchNo (None, 8, 8, 1024)   4096        conv2d_28[0][0]                  \n",
      "__________________________________________________________________________________________________\n",
      "activation_28 (Activation)      (None, 8, 8, 1024)   0           batch_normalization_28[0][0]     \n",
      "__________________________________________________________________________________________________\n",
      "dropout_13 (Dropout)            (None, 8, 8, 1024)   0           activation_28[0][0]              \n",
      "__________________________________________________________________________________________________\n",
      "up_sampling2d_4 (UpSampling2D)  (None, 16, 16, 1024) 0           dropout_13[0][0]                 \n",
      "__________________________________________________________________________________________________\n",
      "concatenate_4 (Concatenate)     (None, 16, 16, 2048) 0           up_sampling2d_4[0][0]            \n",
      "                                                                 dropout_12[0][0]                 \n",
      "                                                                 dropout_3[0][0]                  \n",
      "__________________________________________________________________________________________________\n",
      "conv2d_29 (Conv2D)              (None, 16, 16, 512)  9437696     concatenate_4[0][0]              \n",
      "__________________________________________________________________________________________________\n",
      "batch_normalization_29 (BatchNo (None, 16, 16, 512)  2048        conv2d_29[0][0]                  \n",
      "__________________________________________________________________________________________________\n",
      "activation_29 (Activation)      (None, 16, 16, 512)  0           batch_normalization_29[0][0]     \n",
      "__________________________________________________________________________________________________\n",
      "conv2d_30 (Conv2D)              (None, 16, 16, 512)  2359808     activation_29[0][0]              \n",
      "__________________________________________________________________________________________________\n",
      "batch_normalization_30 (BatchNo (None, 16, 16, 512)  2048        conv2d_30[0][0]                  \n",
      "__________________________________________________________________________________________________\n",
      "activation_30 (Activation)      (None, 16, 16, 512)  0           batch_normalization_30[0][0]     \n",
      "__________________________________________________________________________________________________\n",
      "dropout_14 (Dropout)            (None, 16, 16, 512)  0           activation_30[0][0]              \n",
      "__________________________________________________________________________________________________\n",
      "up_sampling2d_5 (UpSampling2D)  (None, 32, 32, 512)  0           dropout_14[0][0]                 \n",
      "__________________________________________________________________________________________________\n",
      "concatenate_5 (Concatenate)     (None, 32, 32, 1024) 0           up_sampling2d_5[0][0]            \n",
      "                                                                 dropout_11[0][0]                 \n",
      "                                                                 dropout_2[0][0]                  \n",
      "__________________________________________________________________________________________________\n",
      "conv2d_31 (Conv2D)              (None, 32, 32, 256)  2359552     concatenate_5[0][0]              \n",
      "__________________________________________________________________________________________________\n",
      "batch_normalization_31 (BatchNo (None, 32, 32, 256)  1024        conv2d_31[0][0]                  \n",
      "__________________________________________________________________________________________________\n",
      "activation_31 (Activation)      (None, 32, 32, 256)  0           batch_normalization_31[0][0]     \n",
      "__________________________________________________________________________________________________\n",
      "conv2d_32 (Conv2D)              (None, 32, 32, 256)  590080      activation_31[0][0]              \n",
      "__________________________________________________________________________________________________\n",
      "batch_normalization_32 (BatchNo (None, 32, 32, 256)  1024        conv2d_32[0][0]                  \n",
      "__________________________________________________________________________________________________\n",
      "activation_32 (Activation)      (None, 32, 32, 256)  0           batch_normalization_32[0][0]     \n",
      "__________________________________________________________________________________________________\n",
      "dropout_15 (Dropout)            (None, 32, 32, 256)  0           activation_32[0][0]              \n",
      "__________________________________________________________________________________________________\n",
      "up_sampling2d_6 (UpSampling2D)  (None, 64, 64, 256)  0           dropout_15[0][0]                 \n",
      "__________________________________________________________________________________________________\n",
      "concatenate_6 (Concatenate)     (None, 64, 64, 512)  0           up_sampling2d_6[0][0]            \n",
      "                                                                 dropout_10[0][0]                 \n",
      "                                                                 dropout_1[0][0]                  \n",
      "__________________________________________________________________________________________________\n",
      "conv2d_33 (Conv2D)              (None, 64, 64, 128)  589952      concatenate_6[0][0]              \n",
      "__________________________________________________________________________________________________\n",
      "batch_normalization_33 (BatchNo (None, 64, 64, 128)  512         conv2d_33[0][0]                  \n",
      "__________________________________________________________________________________________________\n",
      "activation_33 (Activation)      (None, 64, 64, 128)  0           batch_normalization_33[0][0]     \n",
      "__________________________________________________________________________________________________\n",
      "conv2d_34 (Conv2D)              (None, 64, 64, 128)  147584      activation_33[0][0]              \n",
      "__________________________________________________________________________________________________\n",
      "batch_normalization_34 (BatchNo (None, 64, 64, 128)  512         conv2d_34[0][0]                  \n",
      "__________________________________________________________________________________________________\n",
      "activation_34 (Activation)      (None, 64, 64, 128)  0           batch_normalization_34[0][0]     \n",
      "__________________________________________________________________________________________________\n",
      "dropout_16 (Dropout)            (None, 64, 64, 128)  0           activation_34[0][0]              \n",
      "__________________________________________________________________________________________________\n",
      "up_sampling2d_7 (UpSampling2D)  (None, 128, 128, 128 0           dropout_16[0][0]                 \n",
      "__________________________________________________________________________________________________\n",
      "concatenate_7 (Concatenate)     (None, 128, 128, 256 0           up_sampling2d_7[0][0]            \n",
      "                                                                 dropout_9[0][0]                  \n",
      "                                                                 dropout[0][0]                    \n",
      "__________________________________________________________________________________________________\n",
      "conv2d_35 (Conv2D)              (None, 128, 128, 64) 147520      concatenate_7[0][0]              \n",
      "__________________________________________________________________________________________________\n",
      "batch_normalization_35 (BatchNo (None, 128, 128, 64) 256         conv2d_35[0][0]                  \n",
      "__________________________________________________________________________________________________\n",
      "activation_35 (Activation)      (None, 128, 128, 64) 0           batch_normalization_35[0][0]     \n",
      "__________________________________________________________________________________________________\n",
      "conv2d_36 (Conv2D)              (None, 128, 128, 64) 36928       activation_35[0][0]              \n",
      "__________________________________________________________________________________________________\n",
      "batch_normalization_36 (BatchNo (None, 128, 128, 64) 256         conv2d_36[0][0]                  \n",
      "__________________________________________________________________________________________________\n",
      "activation_36 (Activation)      (None, 128, 128, 64) 0           batch_normalization_36[0][0]     \n",
      "__________________________________________________________________________________________________\n",
      "dropout_17 (Dropout)            (None, 128, 128, 64) 0           activation_36[0][0]              \n",
      "__________________________________________________________________________________________________\n",
      "conv2d_37 (Conv2D)              (None, 128, 128, 1)  65          dropout_17[0][0]                 \n",
      "__________________________________________________________________________________________________\n",
      "batch_normalization_37 (BatchNo (None, 128, 128, 1)  4           conv2d_37[0][0]                  \n",
      "__________________________________________________________________________________________________\n",
      "activation_37 (Activation)      (None, 128, 128, 1)  0           batch_normalization_37[0][0]     \n",
      "__________________________________________________________________________________________________\n",
      "concatenate_8 (Concatenate)     (None, 128, 128, 2)  0           activation_18[0][0]              \n",
      "                                                                 activation_37[0][0]              \n",
      "__________________________________________________________________________________________________\n",
      "conv2d_38 (Conv2D)              (None, 128, 128, 1)  3           concatenate_8[0][0]              \n",
      "__________________________________________________________________________________________________\n",
      "batch_normalization_38 (BatchNo (None, 128, 128, 1)  4           conv2d_38[0][0]                  \n",
      "__________________________________________________________________________________________________\n",
      "activation_38 (Activation)      (None, 128, 128, 1)  0           batch_normalization_38[0][0]     \n",
      "==================================================================================================\n",
      "Total params: 65,938,449\n",
      "Trainable params: 65,914,891\n",
      "Non-trainable params: 23,558\n",
      "__________________________________________________________________________________________________\n"
     ]
    }
   ],
   "source": [
    "model.compile(optimizer=tf.keras.optimizers.Adam(learning_rate=0.001),\n",
    "              loss=bce_dice_loss,\n",
    "              metrics=[dice_loss])\n",
    "\n",
    "# model.compile(optimizer=tf.keras.optimizers.Adam(learning_rate=0.001),loss=\"binary_crossentropy\", metrics=[\"acc\"])\n",
    "model.summary()"
   ]
  },
  {
   "cell_type": "code",
   "execution_count": 38,
   "metadata": {},
   "outputs": [],
   "source": [
    "import datetime"
   ]
  },
  {
   "cell_type": "code",
   "execution_count": 25,
   "metadata": {},
   "outputs": [],
   "source": [
    "save_model_path = 'C:/Users/anark/Downloads/seg_data/tmp/weights_DoubleUnet_1.hdf5'\n",
    "log_dir = \"C:/Users/anark/Downloads/seg_data/logs/fit/\" + datetime.datetime.now().strftime(\"%Y%m%d-%H%M%S\")\n",
    "tensorboard_callback = tf.keras.callbacks.TensorBoard(log_dir=log_dir, histogram_freq=0)\n",
    "model_checkpoint = tf.keras.callbacks.ModelCheckpoint(filepath=save_model_path, monitor='val_dice_loss', save_best_only=True, verbose=1)"
   ]
  },
  {
   "cell_type": "code",
   "execution_count": 39,
   "metadata": {},
   "outputs": [],
   "source": [
    "def scheduler(epoch, lr):\n",
    "    if epoch < 10:\n",
    "        return lr\n",
    "    else:\n",
    "        return lr * tf.math.exp(-0.1)\n",
    "    \n",
    "scheduler_callback = tf.keras.callbacks.LearningRateScheduler(scheduler)"
   ]
  },
  {
   "cell_type": "code",
   "execution_count": 40,
   "metadata": {},
   "outputs": [],
   "source": [
    "early_stop = tf.keras.callbacks.EarlyStopping(\n",
    "    monitor='val_dice_loss',\n",
    "    min_delta=0,\n",
    "    patience=20,\n",
    "    verbose=0,\n",
    "    mode='auto',\n",
    "    baseline=None,\n",
    "    restore_best_weights=False\n",
    ")"
   ]
  },
  {
   "cell_type": "code",
   "execution_count": 44,
   "metadata": {},
   "outputs": [
    {
     "name": "stdout",
     "output_type": "stream",
     "text": [
      "Epoch 1/50\n",
      "266/266 [==============================] - ETA: 0s - loss: 0.7159 - dice_loss: 0.3769\n",
      "Epoch 00001: loss improved from inf to 0.71594, saving model to C:/Users/anark/Downloads/seg_data/models/unet_STARE_AttentionUnet_1.hdf5\n",
      "266/266 [==============================] - 125s 471ms/step - loss: 0.7159 - dice_loss: 0.3769 - val_loss: 0.6816 - val_dice_loss: 0.3590 - lr: 0.0010\n",
      "Epoch 2/50\n",
      "266/266 [==============================] - ETA: 0s - loss: 0.5571 - dice_loss: 0.3095\n",
      "Epoch 00002: loss improved from 0.71594 to 0.55706, saving model to C:/Users/anark/Downloads/seg_data/models/unet_STARE_AttentionUnet_1.hdf5\n",
      "266/266 [==============================] - 123s 463ms/step - loss: 0.5571 - dice_loss: 0.3095 - val_loss: 0.4767 - val_dice_loss: 0.2676 - lr: 0.0010\n",
      "Epoch 3/50\n",
      "266/266 [==============================] - ETA: 0s - loss: 0.4512 - dice_loss: 0.2581\n",
      "Epoch 00003: loss improved from 0.55706 to 0.45117, saving model to C:/Users/anark/Downloads/seg_data/models/unet_STARE_AttentionUnet_1.hdf5\n",
      "266/266 [==============================] - 127s 476ms/step - loss: 0.4512 - dice_loss: 0.2581 - val_loss: 0.4012 - val_dice_loss: 0.2295 - lr: 0.0010\n",
      "Epoch 4/50\n",
      "266/266 [==============================] - ETA: 0s - loss: 0.3736 - dice_loss: 0.2170\n",
      "Epoch 00004: loss improved from 0.45117 to 0.37358, saving model to C:/Users/anark/Downloads/seg_data/models/unet_STARE_AttentionUnet_1.hdf5\n",
      "266/266 [==============================] - 126s 474ms/step - loss: 0.3736 - dice_loss: 0.2170 - val_loss: 0.4039 - val_dice_loss: 0.2186 - lr: 0.0010\n",
      "Epoch 5/50\n",
      "266/266 [==============================] - ETA: 0s - loss: 0.3110 - dice_loss: 0.1824\n",
      "Epoch 00005: loss improved from 0.37358 to 0.31095, saving model to C:/Users/anark/Downloads/seg_data/models/unet_STARE_AttentionUnet_1.hdf5\n",
      "266/266 [==============================] - 127s 478ms/step - loss: 0.3110 - dice_loss: 0.1824 - val_loss: 0.2812 - val_dice_loss: 0.1628 - lr: 0.0010\n",
      "Epoch 6/50\n",
      "266/266 [==============================] - ETA: 0s - loss: 0.2646 - dice_loss: 0.1554\n",
      "Epoch 00006: loss improved from 0.31095 to 0.26458, saving model to C:/Users/anark/Downloads/seg_data/models/unet_STARE_AttentionUnet_1.hdf5\n",
      "266/266 [==============================] - 127s 477ms/step - loss: 0.2646 - dice_loss: 0.1554 - val_loss: 0.2425 - val_dice_loss: 0.1421 - lr: 0.0010\n",
      "Epoch 7/50\n",
      "266/266 [==============================] - ETA: 0s - loss: 0.2282 - dice_loss: 0.1339\n",
      "Epoch 00007: loss improved from 0.26458 to 0.22823, saving model to C:/Users/anark/Downloads/seg_data/models/unet_STARE_AttentionUnet_1.hdf5\n",
      "266/266 [==============================] - 128s 480ms/step - loss: 0.2282 - dice_loss: 0.1339 - val_loss: 0.2092 - val_dice_loss: 0.1219 - lr: 0.0010\n",
      "Epoch 8/50\n",
      "266/266 [==============================] - ETA: 0s - loss: 0.2011 - dice_loss: 0.1173\n",
      "Epoch 00008: loss improved from 0.22823 to 0.20113, saving model to C:/Users/anark/Downloads/seg_data/models/unet_STARE_AttentionUnet_1.hdf5\n",
      "266/266 [==============================] - 127s 479ms/step - loss: 0.2011 - dice_loss: 0.1173 - val_loss: 0.1824 - val_dice_loss: 0.1049 - lr: 0.0010\n",
      "Epoch 9/50\n",
      "266/266 [==============================] - ETA: 0s - loss: 0.1818 - dice_loss: 0.1049\n",
      "Epoch 00009: loss improved from 0.20113 to 0.18184, saving model to C:/Users/anark/Downloads/seg_data/models/unet_STARE_AttentionUnet_1.hdf5\n",
      "266/266 [==============================] - 127s 477ms/step - loss: 0.1818 - dice_loss: 0.1049 - val_loss: 0.1735 - val_dice_loss: 0.0967 - lr: 0.0010\n",
      "Epoch 10/50\n",
      "266/266 [==============================] - ETA: 0s - loss: 0.1633 - dice_loss: 0.0935\n",
      "Epoch 00010: loss improved from 0.18184 to 0.16330, saving model to C:/Users/anark/Downloads/seg_data/models/unet_STARE_AttentionUnet_1.hdf5\n",
      "266/266 [==============================] - 127s 477ms/step - loss: 0.1633 - dice_loss: 0.0935 - val_loss: 0.1532 - val_dice_loss: 0.0868 - lr: 0.0010\n",
      "Epoch 11/50\n",
      "266/266 [==============================] - ETA: 0s - loss: 0.1480 - dice_loss: 0.0840\n",
      "Epoch 00011: loss improved from 0.16330 to 0.14801, saving model to C:/Users/anark/Downloads/seg_data/models/unet_STARE_AttentionUnet_1.hdf5\n",
      "266/266 [==============================] - 128s 482ms/step - loss: 0.1480 - dice_loss: 0.0840 - val_loss: 0.3434 - val_dice_loss: 0.1576 - lr: 9.0484e-04\n",
      "Epoch 12/50\n",
      "266/266 [==============================] - ETA: 0s - loss: 0.1379 - dice_loss: 0.0775\n",
      "Epoch 00012: loss improved from 0.14801 to 0.13785, saving model to C:/Users/anark/Downloads/seg_data/models/unet_STARE_AttentionUnet_1.hdf5\n",
      "266/266 [==============================] - 127s 479ms/step - loss: 0.1379 - dice_loss: 0.0775 - val_loss: 0.1315 - val_dice_loss: 0.0727 - lr: 8.1873e-04\n",
      "Epoch 13/50\n",
      "266/266 [==============================] - ETA: 0s - loss: 0.1272 - dice_loss: 0.0711\n",
      "Epoch 00013: loss improved from 0.13785 to 0.12719, saving model to C:/Users/anark/Downloads/seg_data/models/unet_STARE_AttentionUnet_1.hdf5\n",
      "266/266 [==============================] - 127s 477ms/step - loss: 0.1272 - dice_loss: 0.0711 - val_loss: 0.1245 - val_dice_loss: 0.0683 - lr: 7.4082e-04\n",
      "Epoch 14/50\n",
      "266/266 [==============================] - ETA: 0s - loss: 0.1200 - dice_loss: 0.0666\n",
      "Epoch 00014: loss improved from 0.12719 to 0.11997, saving model to C:/Users/anark/Downloads/seg_data/models/unet_STARE_AttentionUnet_1.hdf5\n",
      "266/266 [==============================] - 128s 481ms/step - loss: 0.1200 - dice_loss: 0.0666 - val_loss: 0.1222 - val_dice_loss: 0.0659 - lr: 6.7032e-04\n",
      "Epoch 15/50\n",
      "266/266 [==============================] - ETA: 0s - loss: 0.1136 - dice_loss: 0.0626\n",
      "Epoch 00015: loss improved from 0.11997 to 0.11357, saving model to C:/Users/anark/Downloads/seg_data/models/unet_STARE_AttentionUnet_1.hdf5\n",
      "266/266 [==============================] - 129s 485ms/step - loss: 0.1136 - dice_loss: 0.0626 - val_loss: 0.1167 - val_dice_loss: 0.0627 - lr: 6.0653e-04\n",
      "Epoch 16/50\n",
      "266/266 [==============================] - ETA: 0s - loss: 0.1084 - dice_loss: 0.0593\n",
      "Epoch 00016: loss improved from 0.11357 to 0.10836, saving model to C:/Users/anark/Downloads/seg_data/models/unet_STARE_AttentionUnet_1.hdf5\n",
      "266/266 [==============================] - 130s 488ms/step - loss: 0.1084 - dice_loss: 0.0593 - val_loss: 0.1111 - val_dice_loss: 0.0591 - lr: 5.4881e-04\n",
      "Epoch 17/50\n",
      "266/266 [==============================] - ETA: 0s - loss: 0.1038 - dice_loss: 0.0565\n",
      "Epoch 00017: loss improved from 0.10836 to 0.10379, saving model to C:/Users/anark/Downloads/seg_data/models/unet_STARE_AttentionUnet_1.hdf5\n",
      "266/266 [==============================] - 131s 493ms/step - loss: 0.1038 - dice_loss: 0.0565 - val_loss: 0.1061 - val_dice_loss: 0.0559 - lr: 4.9659e-04\n",
      "Epoch 18/50\n",
      "266/266 [==============================] - ETA: 0s - loss: 0.0993 - dice_loss: 0.0538\n",
      "Epoch 00018: loss improved from 0.10379 to 0.09929, saving model to C:/Users/anark/Downloads/seg_data/models/unet_STARE_AttentionUnet_1.hdf5\n",
      "266/266 [==============================] - 132s 495ms/step - loss: 0.0993 - dice_loss: 0.0538 - val_loss: 0.1067 - val_dice_loss: 0.0555 - lr: 4.4933e-04\n",
      "Epoch 19/50\n",
      "266/266 [==============================] - ETA: 0s - loss: 0.0956 - dice_loss: 0.0516\n",
      "Epoch 00019: loss improved from 0.09929 to 0.09564, saving model to C:/Users/anark/Downloads/seg_data/models/unet_STARE_AttentionUnet_1.hdf5\n",
      "266/266 [==============================] - 132s 495ms/step - loss: 0.0956 - dice_loss: 0.0516 - val_loss: 0.1023 - val_dice_loss: 0.0530 - lr: 4.0657e-04\n",
      "Epoch 20/50\n",
      "266/266 [==============================] - ETA: 0s - loss: 0.0921 - dice_loss: 0.0495\n",
      "Epoch 00020: loss improved from 0.09564 to 0.09211, saving model to C:/Users/anark/Downloads/seg_data/models/unet_STARE_AttentionUnet_1.hdf5\n",
      "266/266 [==============================] - 133s 500ms/step - loss: 0.0921 - dice_loss: 0.0495 - val_loss: 0.1030 - val_dice_loss: 0.0526 - lr: 3.6788e-04\n",
      "Epoch 21/50\n",
      "266/266 [==============================] - ETA: 0s - loss: 0.0887 - dice_loss: 0.0475\n",
      "Epoch 00021: loss improved from 0.09211 to 0.08866, saving model to C:/Users/anark/Downloads/seg_data/models/unet_STARE_AttentionUnet_1.hdf5\n",
      "266/266 [==============================] - 135s 507ms/step - loss: 0.0887 - dice_loss: 0.0475 - val_loss: 0.1002 - val_dice_loss: 0.0508 - lr: 3.3287e-04\n"
     ]
    },
    {
     "name": "stdout",
     "output_type": "stream",
     "text": [
      "Epoch 22/50\n",
      "266/266 [==============================] - ETA: 0s - loss: 0.0863 - dice_loss: 0.0460\n",
      "Epoch 00022: loss improved from 0.08866 to 0.08628, saving model to C:/Users/anark/Downloads/seg_data/models/unet_STARE_AttentionUnet_1.hdf5\n",
      "266/266 [==============================] - 135s 508ms/step - loss: 0.0863 - dice_loss: 0.0460 - val_loss: 0.0975 - val_dice_loss: 0.0485 - lr: 3.0119e-04\n",
      "Epoch 23/50\n",
      "266/266 [==============================] - ETA: 0s - loss: 0.0844 - dice_loss: 0.0448\n",
      "Epoch 00023: loss improved from 0.08628 to 0.08438, saving model to C:/Users/anark/Downloads/seg_data/models/unet_STARE_AttentionUnet_1.hdf5\n",
      "266/266 [==============================] - 132s 497ms/step - loss: 0.0844 - dice_loss: 0.0448 - val_loss: 0.1081 - val_dice_loss: 0.0530 - lr: 2.7253e-04\n",
      "Epoch 24/50\n",
      "266/266 [==============================] - ETA: 0s - loss: 0.0805 - dice_loss: 0.0428\n",
      "Epoch 00024: loss improved from 0.08438 to 0.08047, saving model to C:/Users/anark/Downloads/seg_data/models/unet_STARE_AttentionUnet_1.hdf5\n",
      "266/266 [==============================] - 136s 512ms/step - loss: 0.0805 - dice_loss: 0.0428 - val_loss: 0.0983 - val_dice_loss: 0.0482 - lr: 2.4660e-04\n",
      "Epoch 25/50\n",
      "266/266 [==============================] - ETA: 0s - loss: 0.0779 - dice_loss: 0.0414\n",
      "Epoch 00025: loss improved from 0.08047 to 0.07793, saving model to C:/Users/anark/Downloads/seg_data/models/unet_STARE_AttentionUnet_1.hdf5\n",
      "266/266 [==============================] - 136s 510ms/step - loss: 0.0779 - dice_loss: 0.0414 - val_loss: 0.0978 - val_dice_loss: 0.0477 - lr: 2.2313e-04\n",
      "Epoch 26/50\n",
      "266/266 [==============================] - ETA: 0s - loss: 0.0755 - dice_loss: 0.0400\n",
      "Epoch 00026: loss improved from 0.07793 to 0.07551, saving model to C:/Users/anark/Downloads/seg_data/models/unet_STARE_AttentionUnet_1.hdf5\n",
      "266/266 [==============================] - 136s 512ms/step - loss: 0.0755 - dice_loss: 0.0400 - val_loss: 0.0977 - val_dice_loss: 0.0470 - lr: 2.0190e-04\n",
      "Epoch 27/50\n",
      "266/266 [==============================] - ETA: 0s - loss: 0.0731 - dice_loss: 0.0387\n",
      "Epoch 00027: loss improved from 0.07551 to 0.07308, saving model to C:/Users/anark/Downloads/seg_data/models/unet_STARE_AttentionUnet_1.hdf5\n",
      "266/266 [==============================] - 135s 508ms/step - loss: 0.0731 - dice_loss: 0.0387 - val_loss: 0.0908 - val_dice_loss: 0.0439 - lr: 1.8268e-04\n",
      "Epoch 28/50\n",
      "266/266 [==============================] - ETA: 0s - loss: 0.0708 - dice_loss: 0.0375\n",
      "Epoch 00028: loss improved from 0.07308 to 0.07077, saving model to C:/Users/anark/Downloads/seg_data/models/unet_STARE_AttentionUnet_1.hdf5\n",
      "266/266 [==============================] - 134s 503ms/step - loss: 0.0708 - dice_loss: 0.0375 - val_loss: 0.1018 - val_dice_loss: 0.0474 - lr: 1.6530e-04\n",
      "Epoch 29/50\n",
      "266/266 [==============================] - ETA: 0s - loss: 0.0692 - dice_loss: 0.0366\n",
      "Epoch 00029: loss improved from 0.07077 to 0.06916, saving model to C:/Users/anark/Downloads/seg_data/models/unet_STARE_AttentionUnet_1.hdf5\n",
      "266/266 [==============================] - 131s 494ms/step - loss: 0.0692 - dice_loss: 0.0366 - val_loss: 0.1030 - val_dice_loss: 0.0477 - lr: 1.4957e-04\n",
      "Epoch 30/50\n",
      "266/266 [==============================] - ETA: 0s - loss: 0.0666 - dice_loss: 0.0354\n",
      "Epoch 00030: loss improved from 0.06916 to 0.06665, saving model to C:/Users/anark/Downloads/seg_data/models/unet_STARE_AttentionUnet_1.hdf5\n",
      "266/266 [==============================] - 134s 502ms/step - loss: 0.0666 - dice_loss: 0.0354 - val_loss: 0.0964 - val_dice_loss: 0.0447 - lr: 1.3534e-04\n",
      "Epoch 31/50\n",
      "266/266 [==============================] - ETA: 0s - loss: 0.0648 - dice_loss: 0.0344\n",
      "Epoch 00031: loss improved from 0.06665 to 0.06482, saving model to C:/Users/anark/Downloads/seg_data/models/unet_STARE_AttentionUnet_1.hdf5\n",
      "266/266 [==============================] - 134s 503ms/step - loss: 0.0648 - dice_loss: 0.0344 - val_loss: 0.0979 - val_dice_loss: 0.0449 - lr: 1.2246e-04\n",
      "Epoch 32/50\n",
      "266/266 [==============================] - ETA: 0s - loss: 0.0634 - dice_loss: 0.0336\n",
      "Epoch 00032: loss improved from 0.06482 to 0.06338, saving model to C:/Users/anark/Downloads/seg_data/models/unet_STARE_AttentionUnet_1.hdf5\n",
      "266/266 [==============================] - 134s 503ms/step - loss: 0.0634 - dice_loss: 0.0336 - val_loss: 0.0959 - val_dice_loss: 0.0440 - lr: 1.1080e-04\n",
      "Epoch 33/50\n",
      "266/266 [==============================] - ETA: 0s - loss: 0.0617 - dice_loss: 0.0327\n",
      "Epoch 00033: loss improved from 0.06338 to 0.06168, saving model to C:/Users/anark/Downloads/seg_data/models/unet_STARE_AttentionUnet_1.hdf5\n",
      "266/266 [==============================] - 134s 504ms/step - loss: 0.0617 - dice_loss: 0.0327 - val_loss: 0.1006 - val_dice_loss: 0.0451 - lr: 1.0026e-04\n",
      "Epoch 34/50\n",
      "266/266 [==============================] - ETA: 0s - loss: 0.0599 - dice_loss: 0.0318\n",
      "Epoch 00034: loss improved from 0.06168 to 0.05990, saving model to C:/Users/anark/Downloads/seg_data/models/unet_STARE_AttentionUnet_1.hdf5\n",
      "266/266 [==============================] - 134s 503ms/step - loss: 0.0599 - dice_loss: 0.0318 - val_loss: 0.1015 - val_dice_loss: 0.0449 - lr: 9.0718e-05\n",
      "Epoch 35/50\n",
      "266/266 [==============================] - ETA: 0s - loss: 0.0588 - dice_loss: 0.0312\n",
      "Epoch 00035: loss improved from 0.05990 to 0.05878, saving model to C:/Users/anark/Downloads/seg_data/models/unet_STARE_AttentionUnet_1.hdf5\n",
      "266/266 [==============================] - 134s 503ms/step - loss: 0.0588 - dice_loss: 0.0312 - val_loss: 0.1003 - val_dice_loss: 0.0442 - lr: 8.2085e-05\n",
      "Epoch 36/50\n",
      "266/266 [==============================] - ETA: 0s - loss: 0.0574 - dice_loss: 0.0305\n",
      "Epoch 00036: loss improved from 0.05878 to 0.05735, saving model to C:/Users/anark/Downloads/seg_data/models/unet_STARE_AttentionUnet_1.hdf5\n",
      "266/266 [==============================] - 136s 510ms/step - loss: 0.0574 - dice_loss: 0.0305 - val_loss: 0.0970 - val_dice_loss: 0.0428 - lr: 7.4273e-05\n",
      "Epoch 37/50\n",
      "266/266 [==============================] - ETA: 0s - loss: 0.0562 - dice_loss: 0.0299\n",
      "Epoch 00037: loss improved from 0.05735 to 0.05624, saving model to C:/Users/anark/Downloads/seg_data/models/unet_STARE_AttentionUnet_1.hdf5\n",
      "266/266 [==============================] - 136s 513ms/step - loss: 0.0562 - dice_loss: 0.0299 - val_loss: 0.0968 - val_dice_loss: 0.0425 - lr: 6.7205e-05\n",
      "Epoch 38/50\n",
      "266/266 [==============================] - ETA: 0s - loss: 0.0554 - dice_loss: 0.0295\n",
      "Epoch 00038: loss improved from 0.05624 to 0.05542, saving model to C:/Users/anark/Downloads/seg_data/models/unet_STARE_AttentionUnet_1.hdf5\n",
      "266/266 [==============================] - 138s 518ms/step - loss: 0.0554 - dice_loss: 0.0295 - val_loss: 0.1023 - val_dice_loss: 0.0443 - lr: 6.0810e-05\n",
      "Epoch 39/50\n",
      "266/266 [==============================] - ETA: 0s - loss: 0.0544 - dice_loss: 0.0290\n",
      "Epoch 00039: loss improved from 0.05542 to 0.05441, saving model to C:/Users/anark/Downloads/seg_data/models/unet_STARE_AttentionUnet_1.hdf5\n",
      "266/266 [==============================] - 138s 518ms/step - loss: 0.0544 - dice_loss: 0.0290 - val_loss: 0.0969 - val_dice_loss: 0.0423 - lr: 5.5023e-05\n",
      "Epoch 40/50\n",
      "266/266 [==============================] - ETA: 0s - loss: 0.0534 - dice_loss: 0.0285\n",
      "Epoch 00040: loss improved from 0.05441 to 0.05336, saving model to C:/Users/anark/Downloads/seg_data/models/unet_STARE_AttentionUnet_1.hdf5\n",
      "266/266 [==============================] - 138s 520ms/step - loss: 0.0534 - dice_loss: 0.0285 - val_loss: 0.0991 - val_dice_loss: 0.0428 - lr: 4.9787e-05\n",
      "Epoch 41/50\n",
      "266/266 [==============================] - ETA: 0s - loss: 0.0524 - dice_loss: 0.0280\n",
      "Epoch 00041: loss improved from 0.05336 to 0.05244, saving model to C:/Users/anark/Downloads/seg_data/models/unet_STARE_AttentionUnet_1.hdf5\n",
      "266/266 [==============================] - 137s 516ms/step - loss: 0.0524 - dice_loss: 0.0280 - val_loss: 0.1003 - val_dice_loss: 0.0430 - lr: 4.5049e-05\n",
      "Epoch 42/50\n",
      "266/266 [==============================] - ETA: 0s - loss: 0.0518 - dice_loss: 0.0277\n",
      "Epoch 00042: loss improved from 0.05244 to 0.05184, saving model to C:/Users/anark/Downloads/seg_data/models/unet_STARE_AttentionUnet_1.hdf5\n",
      "266/266 [==============================] - 137s 517ms/step - loss: 0.0518 - dice_loss: 0.0277 - val_loss: 0.0959 - val_dice_loss: 0.0412 - lr: 4.0762e-05\n"
     ]
    },
    {
     "name": "stdout",
     "output_type": "stream",
     "text": [
      "Epoch 43/50\n",
      "266/266 [==============================] - ETA: 0s - loss: 0.0512 - dice_loss: 0.0274\n",
      "Epoch 00043: loss improved from 0.05184 to 0.05122, saving model to C:/Users/anark/Downloads/seg_data/models/unet_STARE_AttentionUnet_1.hdf5\n",
      "266/266 [==============================] - 139s 521ms/step - loss: 0.0512 - dice_loss: 0.0274 - val_loss: 0.0996 - val_dice_loss: 0.0424 - lr: 3.6883e-05\n",
      "Epoch 44/50\n",
      "266/266 [==============================] - ETA: 0s - loss: 0.0505 - dice_loss: 0.0270\n",
      "Epoch 00044: loss improved from 0.05122 to 0.05048, saving model to C:/Users/anark/Downloads/seg_data/models/unet_STARE_AttentionUnet_1.hdf5\n",
      "266/266 [==============================] - 138s 517ms/step - loss: 0.0505 - dice_loss: 0.0270 - val_loss: 0.0968 - val_dice_loss: 0.0412 - lr: 3.3373e-05\n",
      "Epoch 45/50\n",
      "266/266 [==============================] - ETA: 0s - loss: 0.0499 - dice_loss: 0.0267\n",
      "Epoch 00045: loss improved from 0.05048 to 0.04992, saving model to C:/Users/anark/Downloads/seg_data/models/unet_STARE_AttentionUnet_1.hdf5\n",
      "266/266 [==============================] - 137s 514ms/step - loss: 0.0499 - dice_loss: 0.0267 - val_loss: 0.0974 - val_dice_loss: 0.0414 - lr: 3.0197e-05\n",
      "Epoch 46/50\n",
      "266/266 [==============================] - ETA: 0s - loss: 0.0496 - dice_loss: 0.0265\n",
      "Epoch 00046: loss improved from 0.04992 to 0.04959, saving model to C:/Users/anark/Downloads/seg_data/models/unet_STARE_AttentionUnet_1.hdf5\n",
      "266/266 [==============================] - 134s 504ms/step - loss: 0.0496 - dice_loss: 0.0265 - val_loss: 0.0994 - val_dice_loss: 0.0419 - lr: 2.7324e-05\n",
      "Epoch 47/50\n",
      "266/266 [==============================] - ETA: 0s - loss: 0.0491 - dice_loss: 0.0263\n",
      "Epoch 00047: loss improved from 0.04959 to 0.04907, saving model to C:/Users/anark/Downloads/seg_data/models/unet_STARE_AttentionUnet_1.hdf5\n",
      "266/266 [==============================] - 134s 503ms/step - loss: 0.0491 - dice_loss: 0.0263 - val_loss: 0.0996 - val_dice_loss: 0.0419 - lr: 2.4723e-05\n",
      "Epoch 48/50\n",
      "266/266 [==============================] - ETA: 0s - loss: 0.0488 - dice_loss: 0.0262\n",
      "Epoch 00048: loss improved from 0.04907 to 0.04883, saving model to C:/Users/anark/Downloads/seg_data/models/unet_STARE_AttentionUnet_1.hdf5\n",
      "266/266 [==============================] - 134s 502ms/step - loss: 0.0488 - dice_loss: 0.0262 - val_loss: 0.0987 - val_dice_loss: 0.0414 - lr: 2.2371e-05\n",
      "Epoch 49/50\n",
      "266/266 [==============================] - ETA: 0s - loss: 0.0483 - dice_loss: 0.0259\n",
      "Epoch 00049: loss improved from 0.04883 to 0.04832, saving model to C:/Users/anark/Downloads/seg_data/models/unet_STARE_AttentionUnet_1.hdf5\n",
      "266/266 [==============================] - 134s 503ms/step - loss: 0.0483 - dice_loss: 0.0259 - val_loss: 0.0963 - val_dice_loss: 0.0406 - lr: 2.0242e-05\n",
      "Epoch 50/50\n",
      "266/266 [==============================] - ETA: 0s - loss: 0.0480 - dice_loss: 0.0257\n",
      "Epoch 00050: loss improved from 0.04832 to 0.04798, saving model to C:/Users/anark/Downloads/seg_data/models/unet_STARE_AttentionUnet_1.hdf5\n",
      "266/266 [==============================] - 134s 503ms/step - loss: 0.0480 - dice_loss: 0.0257 - val_loss: 0.0980 - val_dice_loss: 0.0410 - lr: 1.8316e-05\n"
     ]
    },
    {
     "data": {
      "text/plain": [
       "<tensorflow.python.keras.callbacks.History at 0x2000d2ee490>"
      ]
     },
     "execution_count": 44,
     "metadata": {},
     "output_type": "execute_result"
    }
   ],
   "source": [
    "#Step 4: Fit the u-net model\n",
    "model_checkpoint = tf.keras.callbacks.ModelCheckpoint('C:/Users/anark/Downloads/seg_data/models/unet_STARE_AttentionUnet_1.hdf5', monitor='loss',verbose=1, save_best_only=True)\n",
    "model.fit(X_train,y_train,epochs=50,batch_size=8,validation_data=(X_val, y_val),callbacks=[tensorboard_callback,model_checkpoint,scheduler_callback])"
   ]
  },
  {
   "cell_type": "code",
   "execution_count": 41,
   "metadata": {},
   "outputs": [],
   "source": [
    "save_model_path = 'C:/Users/anark/Downloads/seg_data/tmp/weights_DoubleUnet_2.hdf5'\n",
    "log_dir = \"C:/Users/anark/Downloads/seg_data/logs/fit/\" + datetime.datetime.now().strftime(\"%Y%m%d-%H%M%S\")\n",
    "tensorboard_callback = tf.keras.callbacks.TensorBoard(log_dir=log_dir, histogram_freq=0)\n",
    "model_checkpoint = tf.keras.callbacks.ModelCheckpoint(filepath=save_model_path, monitor='val_dice_loss', save_best_only=True, verbose=1)"
   ]
  },
  {
   "cell_type": "code",
   "execution_count": 24,
   "metadata": {},
   "outputs": [
    {
     "name": "stdout",
     "output_type": "stream",
     "text": [
      "Model: \"DoubleUNet\"\n",
      "__________________________________________________________________________________________________\n",
      "Layer (type)                    Output Shape         Param #     Connected to                     \n",
      "==================================================================================================\n",
      "input_3 (InputLayer)            [(None, 128, 128, 3) 0                                            \n",
      "__________________________________________________________________________________________________\n",
      "conv2d_190 (Conv2D)             (None, 128, 128, 64) 1792        input_3[0][0]                    \n",
      "__________________________________________________________________________________________________\n",
      "batch_normalization_190 (BatchN (None, 128, 128, 64) 256         conv2d_190[0][0]                 \n",
      "__________________________________________________________________________________________________\n",
      "activation_190 (Activation)     (None, 128, 128, 64) 0           batch_normalization_190[0][0]    \n",
      "__________________________________________________________________________________________________\n",
      "dropout_36 (Dropout)            (None, 128, 128, 64) 0           activation_190[0][0]             \n",
      "__________________________________________________________________________________________________\n",
      "max_pooling2d_16 (MaxPooling2D) (None, 64, 64, 64)   0           dropout_36[0][0]                 \n",
      "__________________________________________________________________________________________________\n",
      "conv2d_195 (Conv2D)             (None, 64, 64, 128)  73856       max_pooling2d_16[0][0]           \n",
      "__________________________________________________________________________________________________\n",
      "batch_normalization_195 (BatchN (None, 64, 64, 128)  512         conv2d_195[0][0]                 \n",
      "__________________________________________________________________________________________________\n",
      "activation_195 (Activation)     (None, 64, 64, 128)  0           batch_normalization_195[0][0]    \n",
      "__________________________________________________________________________________________________\n",
      "dropout_37 (Dropout)            (None, 64, 64, 128)  0           activation_195[0][0]             \n",
      "__________________________________________________________________________________________________\n",
      "max_pooling2d_17 (MaxPooling2D) (None, 32, 32, 128)  0           dropout_37[0][0]                 \n",
      "__________________________________________________________________________________________________\n",
      "conv2d_200 (Conv2D)             (None, 32, 32, 256)  295168      max_pooling2d_17[0][0]           \n",
      "__________________________________________________________________________________________________\n",
      "batch_normalization_200 (BatchN (None, 32, 32, 256)  1024        conv2d_200[0][0]                 \n",
      "__________________________________________________________________________________________________\n",
      "activation_200 (Activation)     (None, 32, 32, 256)  0           batch_normalization_200[0][0]    \n",
      "__________________________________________________________________________________________________\n",
      "dropout_38 (Dropout)            (None, 32, 32, 256)  0           activation_200[0][0]             \n",
      "__________________________________________________________________________________________________\n",
      "max_pooling2d_18 (MaxPooling2D) (None, 16, 16, 256)  0           dropout_38[0][0]                 \n",
      "__________________________________________________________________________________________________\n",
      "conv2d_205 (Conv2D)             (None, 16, 16, 512)  1180160     max_pooling2d_18[0][0]           \n",
      "__________________________________________________________________________________________________\n",
      "batch_normalization_205 (BatchN (None, 16, 16, 512)  2048        conv2d_205[0][0]                 \n",
      "__________________________________________________________________________________________________\n",
      "activation_205 (Activation)     (None, 16, 16, 512)  0           batch_normalization_205[0][0]    \n",
      "__________________________________________________________________________________________________\n",
      "dropout_39 (Dropout)            (None, 16, 16, 512)  0           activation_205[0][0]             \n",
      "__________________________________________________________________________________________________\n",
      "max_pooling2d_19 (MaxPooling2D) (None, 8, 8, 512)    0           dropout_39[0][0]                 \n",
      "__________________________________________________________________________________________________\n",
      "conv2d_210 (Conv2D)             (None, 8, 8, 1024)   4719616     max_pooling2d_19[0][0]           \n",
      "__________________________________________________________________________________________________\n",
      "batch_normalization_210 (BatchN (None, 8, 8, 1024)   4096        conv2d_210[0][0]                 \n",
      "__________________________________________________________________________________________________\n",
      "activation_210 (Activation)     (None, 8, 8, 1024)   0           batch_normalization_210[0][0]    \n",
      "__________________________________________________________________________________________________\n",
      "dropout_40 (Dropout)            (None, 8, 8, 1024)   0           activation_210[0][0]             \n",
      "__________________________________________________________________________________________________\n",
      "up_sampling2d_16 (UpSampling2D) (None, 16, 16, 1024) 0           dropout_40[0][0]                 \n",
      "__________________________________________________________________________________________________\n",
      "concatenate_18 (Concatenate)    (None, 16, 16, 1536) 0           up_sampling2d_16[0][0]           \n",
      "                                                                 dropout_39[0][0]                 \n",
      "__________________________________________________________________________________________________\n",
      "conv2d_215 (Conv2D)             (None, 16, 16, 512)  7078400     concatenate_18[0][0]             \n",
      "__________________________________________________________________________________________________\n",
      "batch_normalization_215 (BatchN (None, 16, 16, 512)  2048        conv2d_215[0][0]                 \n",
      "__________________________________________________________________________________________________\n",
      "activation_215 (Activation)     (None, 16, 16, 512)  0           batch_normalization_215[0][0]    \n",
      "__________________________________________________________________________________________________\n",
      "dropout_41 (Dropout)            (None, 16, 16, 512)  0           activation_215[0][0]             \n",
      "__________________________________________________________________________________________________\n",
      "up_sampling2d_17 (UpSampling2D) (None, 32, 32, 512)  0           dropout_41[0][0]                 \n",
      "__________________________________________________________________________________________________\n",
      "concatenate_19 (Concatenate)    (None, 32, 32, 768)  0           up_sampling2d_17[0][0]           \n",
      "                                                                 dropout_38[0][0]                 \n",
      "__________________________________________________________________________________________________\n",
      "conv2d_220 (Conv2D)             (None, 32, 32, 256)  1769728     concatenate_19[0][0]             \n",
      "__________________________________________________________________________________________________\n",
      "batch_normalization_220 (BatchN (None, 32, 32, 256)  1024        conv2d_220[0][0]                 \n",
      "__________________________________________________________________________________________________\n",
      "activation_220 (Activation)     (None, 32, 32, 256)  0           batch_normalization_220[0][0]    \n",
      "__________________________________________________________________________________________________\n",
      "dropout_42 (Dropout)            (None, 32, 32, 256)  0           activation_220[0][0]             \n",
      "__________________________________________________________________________________________________\n",
      "up_sampling2d_18 (UpSampling2D) (None, 64, 64, 256)  0           dropout_42[0][0]                 \n",
      "__________________________________________________________________________________________________\n",
      "concatenate_20 (Concatenate)    (None, 64, 64, 384)  0           up_sampling2d_18[0][0]           \n",
      "                                                                 dropout_37[0][0]                 \n",
      "__________________________________________________________________________________________________\n",
      "conv2d_225 (Conv2D)             (None, 64, 64, 128)  442496      concatenate_20[0][0]             \n",
      "__________________________________________________________________________________________________\n",
      "batch_normalization_225 (BatchN (None, 64, 64, 128)  512         conv2d_225[0][0]                 \n",
      "__________________________________________________________________________________________________\n",
      "activation_225 (Activation)     (None, 64, 64, 128)  0           batch_normalization_225[0][0]    \n",
      "__________________________________________________________________________________________________\n",
      "dropout_43 (Dropout)            (None, 64, 64, 128)  0           activation_225[0][0]             \n",
      "__________________________________________________________________________________________________\n",
      "up_sampling2d_19 (UpSampling2D) (None, 128, 128, 128 0           dropout_43[0][0]                 \n",
      "__________________________________________________________________________________________________\n",
      "concatenate_21 (Concatenate)    (None, 128, 128, 192 0           up_sampling2d_19[0][0]           \n",
      "                                                                 dropout_36[0][0]                 \n",
      "__________________________________________________________________________________________________\n",
      "conv2d_230 (Conv2D)             (None, 128, 128, 64) 110656      concatenate_21[0][0]             \n",
      "__________________________________________________________________________________________________\n",
      "batch_normalization_230 (BatchN (None, 128, 128, 64) 256         conv2d_230[0][0]                 \n",
      "__________________________________________________________________________________________________\n",
      "activation_230 (Activation)     (None, 128, 128, 64) 0           batch_normalization_230[0][0]    \n",
      "__________________________________________________________________________________________________\n",
      "dropout_44 (Dropout)            (None, 128, 128, 64) 0           activation_230[0][0]             \n",
      "__________________________________________________________________________________________________\n",
      "conv2d_231 (Conv2D)             (None, 128, 128, 1)  65          dropout_44[0][0]                 \n",
      "__________________________________________________________________________________________________\n",
      "batch_normalization_231 (BatchN (None, 128, 128, 1)  4           conv2d_231[0][0]                 \n",
      "__________________________________________________________________________________________________\n",
      "activation_231 (Activation)     (None, 128, 128, 1)  0           batch_normalization_231[0][0]    \n",
      "__________________________________________________________________________________________________\n",
      "tf_op_layer_Mul_2 (TensorFlowOp [(None, 128, 128, 3) 0           input_3[0][0]                    \n",
      "                                                                 activation_231[0][0]             \n",
      "__________________________________________________________________________________________________\n",
      "conv2d_236 (Conv2D)             (None, 128, 128, 64) 1792        tf_op_layer_Mul_2[0][0]          \n",
      "__________________________________________________________________________________________________\n",
      "batch_normalization_236 (BatchN (None, 128, 128, 64) 256         conv2d_236[0][0]                 \n",
      "__________________________________________________________________________________________________\n",
      "activation_236 (Activation)     (None, 128, 128, 64) 0           batch_normalization_236[0][0]    \n",
      "__________________________________________________________________________________________________\n",
      "dropout_45 (Dropout)            (None, 128, 128, 64) 0           activation_236[0][0]             \n",
      "__________________________________________________________________________________________________\n",
      "max_pooling2d_20 (MaxPooling2D) (None, 64, 64, 64)   0           dropout_45[0][0]                 \n",
      "__________________________________________________________________________________________________\n",
      "conv2d_241 (Conv2D)             (None, 64, 64, 128)  73856       max_pooling2d_20[0][0]           \n",
      "__________________________________________________________________________________________________\n",
      "batch_normalization_241 (BatchN (None, 64, 64, 128)  512         conv2d_241[0][0]                 \n",
      "__________________________________________________________________________________________________\n",
      "activation_241 (Activation)     (None, 64, 64, 128)  0           batch_normalization_241[0][0]    \n",
      "__________________________________________________________________________________________________\n",
      "dropout_46 (Dropout)            (None, 64, 64, 128)  0           activation_241[0][0]             \n",
      "__________________________________________________________________________________________________\n",
      "max_pooling2d_21 (MaxPooling2D) (None, 32, 32, 128)  0           dropout_46[0][0]                 \n",
      "__________________________________________________________________________________________________\n",
      "conv2d_246 (Conv2D)             (None, 32, 32, 256)  295168      max_pooling2d_21[0][0]           \n",
      "__________________________________________________________________________________________________\n",
      "batch_normalization_246 (BatchN (None, 32, 32, 256)  1024        conv2d_246[0][0]                 \n",
      "__________________________________________________________________________________________________\n",
      "activation_246 (Activation)     (None, 32, 32, 256)  0           batch_normalization_246[0][0]    \n",
      "__________________________________________________________________________________________________\n",
      "dropout_47 (Dropout)            (None, 32, 32, 256)  0           activation_246[0][0]             \n",
      "__________________________________________________________________________________________________\n",
      "max_pooling2d_22 (MaxPooling2D) (None, 16, 16, 256)  0           dropout_47[0][0]                 \n",
      "__________________________________________________________________________________________________\n",
      "conv2d_251 (Conv2D)             (None, 16, 16, 512)  1180160     max_pooling2d_22[0][0]           \n",
      "__________________________________________________________________________________________________\n",
      "batch_normalization_251 (BatchN (None, 16, 16, 512)  2048        conv2d_251[0][0]                 \n",
      "__________________________________________________________________________________________________\n",
      "activation_251 (Activation)     (None, 16, 16, 512)  0           batch_normalization_251[0][0]    \n",
      "__________________________________________________________________________________________________\n",
      "dropout_48 (Dropout)            (None, 16, 16, 512)  0           activation_251[0][0]             \n",
      "__________________________________________________________________________________________________\n",
      "max_pooling2d_23 (MaxPooling2D) (None, 8, 8, 512)    0           dropout_48[0][0]                 \n",
      "__________________________________________________________________________________________________\n",
      "conv2d_256 (Conv2D)             (None, 8, 8, 1024)   4719616     max_pooling2d_23[0][0]           \n",
      "__________________________________________________________________________________________________\n",
      "batch_normalization_256 (BatchN (None, 8, 8, 1024)   4096        conv2d_256[0][0]                 \n",
      "__________________________________________________________________________________________________\n",
      "activation_256 (Activation)     (None, 8, 8, 1024)   0           batch_normalization_256[0][0]    \n",
      "__________________________________________________________________________________________________\n",
      "dropout_49 (Dropout)            (None, 8, 8, 1024)   0           activation_256[0][0]             \n",
      "__________________________________________________________________________________________________\n",
      "up_sampling2d_20 (UpSampling2D) (None, 16, 16, 1024) 0           dropout_49[0][0]                 \n",
      "__________________________________________________________________________________________________\n",
      "concatenate_22 (Concatenate)    (None, 16, 16, 2048) 0           up_sampling2d_20[0][0]           \n",
      "                                                                 dropout_48[0][0]                 \n",
      "                                                                 dropout_39[0][0]                 \n",
      "__________________________________________________________________________________________________\n",
      "conv2d_261 (Conv2D)             (None, 16, 16, 512)  9437696     concatenate_22[0][0]             \n",
      "__________________________________________________________________________________________________\n",
      "batch_normalization_261 (BatchN (None, 16, 16, 512)  2048        conv2d_261[0][0]                 \n",
      "__________________________________________________________________________________________________\n",
      "activation_261 (Activation)     (None, 16, 16, 512)  0           batch_normalization_261[0][0]    \n",
      "__________________________________________________________________________________________________\n",
      "dropout_50 (Dropout)            (None, 16, 16, 512)  0           activation_261[0][0]             \n",
      "__________________________________________________________________________________________________\n",
      "up_sampling2d_21 (UpSampling2D) (None, 32, 32, 512)  0           dropout_50[0][0]                 \n",
      "__________________________________________________________________________________________________\n",
      "concatenate_23 (Concatenate)    (None, 32, 32, 1024) 0           up_sampling2d_21[0][0]           \n",
      "                                                                 dropout_47[0][0]                 \n",
      "                                                                 dropout_38[0][0]                 \n",
      "__________________________________________________________________________________________________\n",
      "conv2d_266 (Conv2D)             (None, 32, 32, 256)  2359552     concatenate_23[0][0]             \n",
      "__________________________________________________________________________________________________\n",
      "batch_normalization_266 (BatchN (None, 32, 32, 256)  1024        conv2d_266[0][0]                 \n",
      "__________________________________________________________________________________________________\n",
      "activation_266 (Activation)     (None, 32, 32, 256)  0           batch_normalization_266[0][0]    \n",
      "__________________________________________________________________________________________________\n",
      "dropout_51 (Dropout)            (None, 32, 32, 256)  0           activation_266[0][0]             \n",
      "__________________________________________________________________________________________________\n",
      "up_sampling2d_22 (UpSampling2D) (None, 64, 64, 256)  0           dropout_51[0][0]                 \n",
      "__________________________________________________________________________________________________\n",
      "concatenate_24 (Concatenate)    (None, 64, 64, 512)  0           up_sampling2d_22[0][0]           \n",
      "                                                                 dropout_46[0][0]                 \n",
      "                                                                 dropout_37[0][0]                 \n",
      "__________________________________________________________________________________________________\n",
      "conv2d_271 (Conv2D)             (None, 64, 64, 128)  589952      concatenate_24[0][0]             \n",
      "__________________________________________________________________________________________________\n",
      "batch_normalization_271 (BatchN (None, 64, 64, 128)  512         conv2d_271[0][0]                 \n",
      "__________________________________________________________________________________________________\n",
      "activation_271 (Activation)     (None, 64, 64, 128)  0           batch_normalization_271[0][0]    \n",
      "__________________________________________________________________________________________________\n",
      "dropout_52 (Dropout)            (None, 64, 64, 128)  0           activation_271[0][0]             \n",
      "__________________________________________________________________________________________________\n",
      "up_sampling2d_23 (UpSampling2D) (None, 128, 128, 128 0           dropout_52[0][0]                 \n",
      "__________________________________________________________________________________________________\n",
      "concatenate_25 (Concatenate)    (None, 128, 128, 256 0           up_sampling2d_23[0][0]           \n",
      "                                                                 dropout_45[0][0]                 \n",
      "                                                                 dropout_36[0][0]                 \n",
      "__________________________________________________________________________________________________\n",
      "conv2d_276 (Conv2D)             (None, 128, 128, 64) 147520      concatenate_25[0][0]             \n",
      "__________________________________________________________________________________________________\n",
      "batch_normalization_276 (BatchN (None, 128, 128, 64) 256         conv2d_276[0][0]                 \n",
      "__________________________________________________________________________________________________\n",
      "activation_276 (Activation)     (None, 128, 128, 64) 0           batch_normalization_276[0][0]    \n",
      "__________________________________________________________________________________________________\n",
      "dropout_53 (Dropout)            (None, 128, 128, 64) 0           activation_276[0][0]             \n",
      "__________________________________________________________________________________________________\n",
      "conv2d_277 (Conv2D)             (None, 128, 128, 1)  65          dropout_53[0][0]                 \n",
      "__________________________________________________________________________________________________\n",
      "batch_normalization_277 (BatchN (None, 128, 128, 1)  4           conv2d_277[0][0]                 \n",
      "__________________________________________________________________________________________________\n",
      "activation_277 (Activation)     (None, 128, 128, 1)  0           batch_normalization_277[0][0]    \n",
      "__________________________________________________________________________________________________\n",
      "concatenate_26 (Concatenate)    (None, 128, 128, 2)  0           activation_231[0][0]             \n",
      "                                                                 activation_277[0][0]             \n",
      "__________________________________________________________________________________________________\n",
      "conv2d_278 (Conv2D)             (None, 128, 128, 1)  3           concatenate_26[0][0]             \n",
      "__________________________________________________________________________________________________\n",
      "batch_normalization_278 (BatchN (None, 128, 128, 1)  4           conv2d_278[0][0]                 \n",
      "__________________________________________________________________________________________________\n",
      "activation_278 (Activation)     (None, 128, 128, 1)  0           batch_normalization_278[0][0]    \n",
      "==================================================================================================\n",
      "Total params: 34,500,881\n",
      "Trainable params: 34,489,099\n",
      "Non-trainable params: 11,782\n",
      "__________________________________________________________________________________________________\n"
     ]
    }
   ],
   "source": [
    "model = double_Unet(input_shape, NUM_CLASSES=1, dropout_rate=0.35, batch_norm=True)\n",
    "model.compile(optimizer=tf.keras.optimizers.Adam(learning_rate=0.001),\n",
    "              loss=bce_dice_loss,\n",
    "              metrics=[dice_loss])\n",
    "\n",
    "# model.compile(optimizer=tf.keras.optimizers.Adam(learning_rate=0.001),loss=\"binary_crossentropy\", metrics=[\"acc\"])\n",
    "model.summary()"
   ]
  },
  {
   "cell_type": "code",
   "execution_count": 43,
   "metadata": {},
   "outputs": [
    {
     "name": "stdout",
     "output_type": "stream",
     "text": [
      "Epoch 1/200\n",
      "266/266 [==============================] - ETA: 0s - loss: 0.7184 - dice_loss: 0.3779\n",
      "Epoch 00001: loss improved from inf to 0.71842, saving model to C:/Users/anark/Downloads/seg_data/models/unet_STARE_AttentionUnet_2.hdf5\n",
      "266/266 [==============================] - 128s 483ms/step - loss: 0.7184 - dice_loss: 0.3779 - val_loss: 0.6984 - val_dice_loss: 0.3846 - lr: 0.0010\n",
      "Epoch 2/200\n",
      "266/266 [==============================] - ETA: 0s - loss: 0.5580 - dice_loss: 0.3099\n",
      "Epoch 00002: loss improved from 0.71842 to 0.55804, saving model to C:/Users/anark/Downloads/seg_data/models/unet_STARE_AttentionUnet_2.hdf5\n",
      "266/266 [==============================] - 127s 477ms/step - loss: 0.5580 - dice_loss: 0.3099 - val_loss: 0.4708 - val_dice_loss: 0.2686 - lr: 0.0010\n",
      "Epoch 3/200\n",
      "266/266 [==============================] - ETA: 0s - loss: 0.4505 - dice_loss: 0.2577\n",
      "Epoch 00003: loss improved from 0.55804 to 0.45050, saving model to C:/Users/anark/Downloads/seg_data/models/unet_STARE_AttentionUnet_2.hdf5\n",
      "266/266 [==============================] - 127s 476ms/step - loss: 0.4505 - dice_loss: 0.2577 - val_loss: 0.3773 - val_dice_loss: 0.2164 - lr: 0.0010\n",
      "Epoch 4/200\n",
      "266/266 [==============================] - ETA: 0s - loss: 0.3737 - dice_loss: 0.2169\n",
      "Epoch 00004: loss improved from 0.45050 to 0.37372, saving model to C:/Users/anark/Downloads/seg_data/models/unet_STARE_AttentionUnet_2.hdf5\n",
      "266/266 [==============================] - 127s 478ms/step - loss: 0.3737 - dice_loss: 0.2169 - val_loss: 0.3709 - val_dice_loss: 0.2065 - lr: 0.0010\n",
      "Epoch 5/200\n",
      "266/266 [==============================] - ETA: 0s - loss: 0.3118 - dice_loss: 0.1825\n",
      "Epoch 00005: loss improved from 0.37372 to 0.31178, saving model to C:/Users/anark/Downloads/seg_data/models/unet_STARE_AttentionUnet_2.hdf5\n",
      "266/266 [==============================] - 128s 482ms/step - loss: 0.3118 - dice_loss: 0.1825 - val_loss: 0.2715 - val_dice_loss: 0.1596 - lr: 0.0010\n",
      "Epoch 6/200\n",
      "266/266 [==============================] - ETA: 0s - loss: 0.2638 - dice_loss: 0.1549\n",
      "Epoch 00006: loss improved from 0.31178 to 0.26383, saving model to C:/Users/anark/Downloads/seg_data/models/unet_STARE_AttentionUnet_2.hdf5\n",
      "266/266 [==============================] - 129s 487ms/step - loss: 0.2638 - dice_loss: 0.1549 - val_loss: 0.2350 - val_dice_loss: 0.1376 - lr: 0.0010\n",
      "Epoch 7/200\n",
      "266/266 [==============================] - ETA: 0s - loss: 0.2287 - dice_loss: 0.1339\n",
      "Epoch 00007: loss improved from 0.26383 to 0.22872, saving model to C:/Users/anark/Downloads/seg_data/models/unet_STARE_AttentionUnet_2.hdf5\n",
      "266/266 [==============================] - 130s 488ms/step - loss: 0.2287 - dice_loss: 0.1339 - val_loss: 0.2050 - val_dice_loss: 0.1191 - lr: 0.0010\n",
      "Epoch 8/200\n",
      "266/266 [==============================] - ETA: 0s - loss: 0.2012 - dice_loss: 0.1170\n",
      "Epoch 00008: loss improved from 0.22872 to 0.20122, saving model to C:/Users/anark/Downloads/seg_data/models/unet_STARE_AttentionUnet_2.hdf5\n",
      "266/266 [==============================] - 129s 485ms/step - loss: 0.2012 - dice_loss: 0.1170 - val_loss: 0.1797 - val_dice_loss: 0.1030 - lr: 0.0010\n",
      "Epoch 9/200\n",
      "266/266 [==============================] - ETA: 0s - loss: 0.1784 - dice_loss: 0.1031\n",
      "Epoch 00009: loss improved from 0.20122 to 0.17842, saving model to C:/Users/anark/Downloads/seg_data/models/unet_STARE_AttentionUnet_2.hdf5\n",
      "266/266 [==============================] - 130s 490ms/step - loss: 0.1784 - dice_loss: 0.1031 - val_loss: 0.1636 - val_dice_loss: 0.0931 - lr: 0.0010\n",
      "Epoch 10/200\n",
      "266/266 [==============================] - ETA: 0s - loss: 0.1614 - dice_loss: 0.0923\n",
      "Epoch 00010: loss improved from 0.17842 to 0.16136, saving model to C:/Users/anark/Downloads/seg_data/models/unet_STARE_AttentionUnet_2.hdf5\n",
      "266/266 [==============================] - 131s 492ms/step - loss: 0.1614 - dice_loss: 0.0923 - val_loss: 0.1477 - val_dice_loss: 0.0832 - lr: 0.0010\n",
      "Epoch 11/200\n",
      "266/266 [==============================] - ETA: 0s - loss: 0.1471 - dice_loss: 0.0834\n",
      "Epoch 00011: loss improved from 0.16136 to 0.14714, saving model to C:/Users/anark/Downloads/seg_data/models/unet_STARE_AttentionUnet_2.hdf5\n",
      "266/266 [==============================] - 131s 491ms/step - loss: 0.1471 - dice_loss: 0.0834 - val_loss: 0.1405 - val_dice_loss: 0.0780 - lr: 9.0484e-04\n",
      "Epoch 12/200\n",
      "266/266 [==============================] - ETA: 0s - loss: 0.1369 - dice_loss: 0.0768\n",
      "Epoch 00012: loss improved from 0.14714 to 0.13686, saving model to C:/Users/anark/Downloads/seg_data/models/unet_STARE_AttentionUnet_2.hdf5\n",
      "266/266 [==============================] - 130s 488ms/step - loss: 0.1369 - dice_loss: 0.0768 - val_loss: 0.1328 - val_dice_loss: 0.0725 - lr: 8.1873e-04\n",
      "Epoch 13/200\n",
      "266/266 [==============================] - ETA: 0s - loss: 0.1288 - dice_loss: 0.0716\n",
      "Epoch 00013: loss improved from 0.13686 to 0.12878, saving model to C:/Users/anark/Downloads/seg_data/models/unet_STARE_AttentionUnet_2.hdf5\n",
      "266/266 [==============================] - 129s 485ms/step - loss: 0.1288 - dice_loss: 0.0716 - val_loss: 0.1276 - val_dice_loss: 0.0693 - lr: 7.4082e-04\n",
      "Epoch 14/200\n",
      "266/266 [==============================] - ETA: 0s - loss: 0.1207 - dice_loss: 0.0667\n",
      "Epoch 00014: loss improved from 0.12878 to 0.12075, saving model to C:/Users/anark/Downloads/seg_data/models/unet_STARE_AttentionUnet_2.hdf5\n",
      "266/266 [==============================] - 129s 483ms/step - loss: 0.1207 - dice_loss: 0.0667 - val_loss: 0.1196 - val_dice_loss: 0.0646 - lr: 6.7032e-04\n",
      "Epoch 15/200\n",
      "266/266 [==============================] - ETA: 0s - loss: 0.1136 - dice_loss: 0.0625\n",
      "Epoch 00015: loss improved from 0.12075 to 0.11361, saving model to C:/Users/anark/Downloads/seg_data/models/unet_STARE_AttentionUnet_2.hdf5\n",
      "266/266 [==============================] - 129s 485ms/step - loss: 0.1136 - dice_loss: 0.0625 - val_loss: 0.1150 - val_dice_loss: 0.0609 - lr: 6.0653e-04\n",
      "Epoch 16/200\n",
      "266/266 [==============================] - ETA: 0s - loss: 0.1080 - dice_loss: 0.0590\n",
      "Epoch 00016: loss improved from 0.11361 to 0.10800, saving model to C:/Users/anark/Downloads/seg_data/models/unet_STARE_AttentionUnet_2.hdf5\n",
      "266/266 [==============================] - 127s 477ms/step - loss: 0.1080 - dice_loss: 0.0590 - val_loss: 0.1108 - val_dice_loss: 0.0587 - lr: 5.4881e-04\n",
      "Epoch 17/200\n",
      "266/266 [==============================] - ETA: 0s - loss: 0.1042 - dice_loss: 0.0565\n",
      "Epoch 00017: loss improved from 0.10800 to 0.10417, saving model to C:/Users/anark/Downloads/seg_data/models/unet_STARE_AttentionUnet_2.hdf5\n",
      "266/266 [==============================] - 128s 480ms/step - loss: 0.1042 - dice_loss: 0.0565 - val_loss: 0.1085 - val_dice_loss: 0.0570 - lr: 4.9659e-04\n",
      "Epoch 18/200\n",
      "266/266 [==============================] - ETA: 0s - loss: 0.0999 - dice_loss: 0.0539\n",
      "Epoch 00018: loss improved from 0.10417 to 0.09990, saving model to C:/Users/anark/Downloads/seg_data/models/unet_STARE_AttentionUnet_2.hdf5\n",
      "266/266 [==============================] - 127s 479ms/step - loss: 0.0999 - dice_loss: 0.0539 - val_loss: 0.1049 - val_dice_loss: 0.0548 - lr: 4.4933e-04\n",
      "Epoch 19/200\n",
      "266/266 [==============================] - ETA: 0s - loss: 0.0958 - dice_loss: 0.0516\n",
      "Epoch 00019: loss improved from 0.09990 to 0.09585, saving model to C:/Users/anark/Downloads/seg_data/models/unet_STARE_AttentionUnet_2.hdf5\n",
      "266/266 [==============================] - 127s 477ms/step - loss: 0.0958 - dice_loss: 0.0516 - val_loss: 0.1016 - val_dice_loss: 0.0524 - lr: 4.0657e-04\n",
      "Epoch 20/200\n",
      "266/266 [==============================] - ETA: 0s - loss: 0.0922 - dice_loss: 0.0494\n",
      "Epoch 00020: loss improved from 0.09585 to 0.09221, saving model to C:/Users/anark/Downloads/seg_data/models/unet_STARE_AttentionUnet_2.hdf5\n",
      "266/266 [==============================] - 127s 476ms/step - loss: 0.0922 - dice_loss: 0.0494 - val_loss: 0.1005 - val_dice_loss: 0.0513 - lr: 3.6788e-04\n",
      "Epoch 21/200\n",
      "266/266 [==============================] - ETA: 0s - loss: 0.0884 - dice_loss: 0.0472\n",
      "Epoch 00021: loss improved from 0.09221 to 0.08841, saving model to C:/Users/anark/Downloads/seg_data/models/unet_STARE_AttentionUnet_2.hdf5\n",
      "266/266 [==============================] - 127s 477ms/step - loss: 0.0884 - dice_loss: 0.0472 - val_loss: 0.0994 - val_dice_loss: 0.0500 - lr: 3.3287e-04\n"
     ]
    },
    {
     "name": "stdout",
     "output_type": "stream",
     "text": [
      "Epoch 22/200\n",
      "266/266 [==============================] - ETA: 0s - loss: 0.0861 - dice_loss: 0.0458\n",
      "Epoch 00022: loss improved from 0.08841 to 0.08613, saving model to C:/Users/anark/Downloads/seg_data/models/unet_STARE_AttentionUnet_2.hdf5\n",
      "266/266 [==============================] - 127s 477ms/step - loss: 0.0861 - dice_loss: 0.0458 - val_loss: 0.1004 - val_dice_loss: 0.0500 - lr: 3.0119e-04\n",
      "Epoch 23/200\n",
      "266/266 [==============================] - ETA: 0s - loss: 0.0837 - dice_loss: 0.0444\n",
      "Epoch 00023: loss improved from 0.08613 to 0.08373, saving model to C:/Users/anark/Downloads/seg_data/models/unet_STARE_AttentionUnet_2.hdf5\n",
      "266/266 [==============================] - 129s 487ms/step - loss: 0.0837 - dice_loss: 0.0444 - val_loss: 0.0944 - val_dice_loss: 0.0472 - lr: 2.7253e-04\n",
      "Epoch 24/200\n",
      "266/266 [==============================] - ETA: 0s - loss: 0.0803 - dice_loss: 0.0426\n",
      "Epoch 00024: loss improved from 0.08373 to 0.08032, saving model to C:/Users/anark/Downloads/seg_data/models/unet_STARE_AttentionUnet_2.hdf5\n",
      "266/266 [==============================] - 130s 488ms/step - loss: 0.0803 - dice_loss: 0.0426 - val_loss: 0.0949 - val_dice_loss: 0.0468 - lr: 2.4660e-04\n",
      "Epoch 25/200\n",
      "266/266 [==============================] - ETA: 0s - loss: 0.0776 - dice_loss: 0.0411\n",
      "Epoch 00025: loss improved from 0.08032 to 0.07757, saving model to C:/Users/anark/Downloads/seg_data/models/unet_STARE_AttentionUnet_2.hdf5\n",
      "266/266 [==============================] - 130s 487ms/step - loss: 0.0776 - dice_loss: 0.0411 - val_loss: 0.0917 - val_dice_loss: 0.0451 - lr: 2.2313e-04\n",
      "Epoch 26/200\n",
      "266/266 [==============================] - ETA: 0s - loss: 0.0759 - dice_loss: 0.0401\n",
      "Epoch 00026: loss improved from 0.07757 to 0.07592, saving model to C:/Users/anark/Downloads/seg_data/models/unet_STARE_AttentionUnet_2.hdf5\n",
      "266/266 [==============================] - 129s 485ms/step - loss: 0.0759 - dice_loss: 0.0401 - val_loss: 0.0932 - val_dice_loss: 0.0452 - lr: 2.0190e-04\n",
      "Epoch 27/200\n",
      "266/266 [==============================] - ETA: 0s - loss: 0.0731 - dice_loss: 0.0386\n",
      "Epoch 00027: loss improved from 0.07592 to 0.07308, saving model to C:/Users/anark/Downloads/seg_data/models/unet_STARE_AttentionUnet_2.hdf5\n",
      "266/266 [==============================] - 129s 484ms/step - loss: 0.0731 - dice_loss: 0.0386 - val_loss: 0.0900 - val_dice_loss: 0.0436 - lr: 1.8268e-04\n",
      "Epoch 28/200\n",
      "266/266 [==============================] - ETA: 0s - loss: 0.0708 - dice_loss: 0.0374\n",
      "Epoch 00028: loss improved from 0.07308 to 0.07076, saving model to C:/Users/anark/Downloads/seg_data/models/unet_STARE_AttentionUnet_2.hdf5\n",
      "266/266 [==============================] - 128s 480ms/step - loss: 0.0708 - dice_loss: 0.0374 - val_loss: 0.0883 - val_dice_loss: 0.0423 - lr: 1.6530e-04\n",
      "Epoch 29/200\n",
      "266/266 [==============================] - ETA: 0s - loss: 0.0685 - dice_loss: 0.0362\n",
      "Epoch 00029: loss improved from 0.07076 to 0.06854, saving model to C:/Users/anark/Downloads/seg_data/models/unet_STARE_AttentionUnet_2.hdf5\n",
      "266/266 [==============================] - 127s 479ms/step - loss: 0.0685 - dice_loss: 0.0362 - val_loss: 0.0911 - val_dice_loss: 0.0428 - lr: 1.4957e-04\n",
      "Epoch 30/200\n",
      "266/266 [==============================] - ETA: 0s - loss: 0.0666 - dice_loss: 0.0352\n",
      "Epoch 00030: loss improved from 0.06854 to 0.06657, saving model to C:/Users/anark/Downloads/seg_data/models/unet_STARE_AttentionUnet_2.hdf5\n",
      "266/266 [==============================] - 139s 522ms/step - loss: 0.0666 - dice_loss: 0.0352 - val_loss: 0.0896 - val_dice_loss: 0.0420 - lr: 1.3534e-04\n",
      "Epoch 31/200\n",
      "266/266 [==============================] - ETA: 0s - loss: 0.0645 - dice_loss: 0.0341\n",
      "Epoch 00031: loss improved from 0.06657 to 0.06451, saving model to C:/Users/anark/Downloads/seg_data/models/unet_STARE_AttentionUnet_2.hdf5\n",
      "266/266 [==============================] - 127s 478ms/step - loss: 0.0645 - dice_loss: 0.0341 - val_loss: 0.0876 - val_dice_loss: 0.0405 - lr: 1.2246e-04\n",
      "Epoch 32/200\n",
      "266/266 [==============================] - ETA: 0s - loss: 0.0631 - dice_loss: 0.0334\n",
      "Epoch 00032: loss improved from 0.06451 to 0.06308, saving model to C:/Users/anark/Downloads/seg_data/models/unet_STARE_AttentionUnet_2.hdf5\n",
      "266/266 [==============================] - 131s 492ms/step - loss: 0.0631 - dice_loss: 0.0334 - val_loss: 0.0887 - val_dice_loss: 0.0410 - lr: 1.1080e-04\n",
      "Epoch 33/200\n",
      "266/266 [==============================] - ETA: 0s - loss: 0.0619 - dice_loss: 0.0328\n",
      "Epoch 00033: loss improved from 0.06308 to 0.06195, saving model to C:/Users/anark/Downloads/seg_data/models/unet_STARE_AttentionUnet_2.hdf5\n",
      "266/266 [==============================] - 131s 494ms/step - loss: 0.0619 - dice_loss: 0.0328 - val_loss: 0.0883 - val_dice_loss: 0.0405 - lr: 1.0026e-04\n",
      "Epoch 34/200\n",
      "266/266 [==============================] - ETA: 0s - loss: 0.0601 - dice_loss: 0.0318\n",
      "Epoch 00034: loss improved from 0.06195 to 0.06006, saving model to C:/Users/anark/Downloads/seg_data/models/unet_STARE_AttentionUnet_2.hdf5\n",
      "266/266 [==============================] - 132s 496ms/step - loss: 0.0601 - dice_loss: 0.0318 - val_loss: 0.0887 - val_dice_loss: 0.0401 - lr: 9.0718e-05\n",
      "Epoch 35/200\n",
      "266/266 [==============================] - ETA: 0s - loss: 0.0585 - dice_loss: 0.0311\n",
      "Epoch 00035: loss improved from 0.06006 to 0.05854, saving model to C:/Users/anark/Downloads/seg_data/models/unet_STARE_AttentionUnet_2.hdf5\n",
      "266/266 [==============================] - 131s 492ms/step - loss: 0.0585 - dice_loss: 0.0311 - val_loss: 0.0880 - val_dice_loss: 0.0397 - lr: 8.2085e-05\n",
      "Epoch 36/200\n",
      "266/266 [==============================] - ETA: 0s - loss: 0.0573 - dice_loss: 0.0305\n",
      "Epoch 00036: loss improved from 0.05854 to 0.05734, saving model to C:/Users/anark/Downloads/seg_data/models/unet_STARE_AttentionUnet_2.hdf5\n",
      "266/266 [==============================] - 130s 490ms/step - loss: 0.0573 - dice_loss: 0.0305 - val_loss: 0.0873 - val_dice_loss: 0.0393 - lr: 7.4273e-05\n",
      "Epoch 37/200\n",
      "266/266 [==============================] - ETA: 0s - loss: 0.0563 - dice_loss: 0.0299\n",
      "Epoch 00037: loss improved from 0.05734 to 0.05630, saving model to C:/Users/anark/Downloads/seg_data/models/unet_STARE_AttentionUnet_2.hdf5\n",
      "266/266 [==============================] - 129s 484ms/step - loss: 0.0563 - dice_loss: 0.0299 - val_loss: 0.0880 - val_dice_loss: 0.0392 - lr: 6.7205e-05\n",
      "Epoch 38/200\n",
      "266/266 [==============================] - ETA: 0s - loss: 0.0554 - dice_loss: 0.0294\n",
      "Epoch 00038: loss improved from 0.05630 to 0.05536, saving model to C:/Users/anark/Downloads/seg_data/models/unet_STARE_AttentionUnet_2.hdf5\n",
      "266/266 [==============================] - 121s 456ms/step - loss: 0.0554 - dice_loss: 0.0294 - val_loss: 0.0876 - val_dice_loss: 0.0388 - lr: 6.0810e-05\n",
      "Epoch 39/200\n",
      "266/266 [==============================] - ETA: 0s - loss: 0.0543 - dice_loss: 0.0289\n",
      "Epoch 00039: loss improved from 0.05536 to 0.05428, saving model to C:/Users/anark/Downloads/seg_data/models/unet_STARE_AttentionUnet_2.hdf5\n",
      "266/266 [==============================] - 120s 452ms/step - loss: 0.0543 - dice_loss: 0.0289 - val_loss: 0.0880 - val_dice_loss: 0.0388 - lr: 5.5023e-05\n",
      "Epoch 40/200\n",
      "266/266 [==============================] - ETA: 0s - loss: 0.0533 - dice_loss: 0.0284\n",
      "Epoch 00040: loss improved from 0.05428 to 0.05333, saving model to C:/Users/anark/Downloads/seg_data/models/unet_STARE_AttentionUnet_2.hdf5\n",
      "266/266 [==============================] - 120s 452ms/step - loss: 0.0533 - dice_loss: 0.0284 - val_loss: 0.0869 - val_dice_loss: 0.0382 - lr: 4.9787e-05\n",
      "Epoch 41/200\n",
      "266/266 [==============================] - ETA: 0s - loss: 0.0527 - dice_loss: 0.0281\n",
      "Epoch 00041: loss improved from 0.05333 to 0.05266, saving model to C:/Users/anark/Downloads/seg_data/models/unet_STARE_AttentionUnet_2.hdf5\n",
      "266/266 [==============================] - 120s 452ms/step - loss: 0.0527 - dice_loss: 0.0281 - val_loss: 0.0877 - val_dice_loss: 0.0383 - lr: 4.5049e-05\n",
      "Epoch 42/200\n",
      "266/266 [==============================] - ETA: 0s - loss: 0.0518 - dice_loss: 0.0277\n",
      "Epoch 00042: loss improved from 0.05266 to 0.05184, saving model to C:/Users/anark/Downloads/seg_data/models/unet_STARE_AttentionUnet_2.hdf5\n",
      "266/266 [==============================] - 120s 452ms/step - loss: 0.0518 - dice_loss: 0.0277 - val_loss: 0.0877 - val_dice_loss: 0.0382 - lr: 4.0762e-05\n"
     ]
    },
    {
     "name": "stdout",
     "output_type": "stream",
     "text": [
      "Epoch 43/200\n",
      "266/266 [==============================] - ETA: 0s - loss: 0.0513 - dice_loss: 0.0274\n",
      "Epoch 00043: loss improved from 0.05184 to 0.05131, saving model to C:/Users/anark/Downloads/seg_data/models/unet_STARE_AttentionUnet_2.hdf5\n",
      "266/266 [==============================] - 120s 451ms/step - loss: 0.0513 - dice_loss: 0.0274 - val_loss: 0.0879 - val_dice_loss: 0.0381 - lr: 3.6883e-05\n",
      "Epoch 44/200\n",
      "266/266 [==============================] - ETA: 0s - loss: 0.0505 - dice_loss: 0.0270\n",
      "Epoch 00044: loss improved from 0.05131 to 0.05051, saving model to C:/Users/anark/Downloads/seg_data/models/unet_STARE_AttentionUnet_2.hdf5\n",
      "266/266 [==============================] - 120s 452ms/step - loss: 0.0505 - dice_loss: 0.0270 - val_loss: 0.0874 - val_dice_loss: 0.0378 - lr: 3.3373e-05\n",
      "Epoch 45/200\n",
      "266/266 [==============================] - ETA: 0s - loss: 0.0502 - dice_loss: 0.0268\n",
      "Epoch 00045: loss improved from 0.05051 to 0.05021, saving model to C:/Users/anark/Downloads/seg_data/models/unet_STARE_AttentionUnet_2.hdf5\n",
      "266/266 [==============================] - 120s 452ms/step - loss: 0.0502 - dice_loss: 0.0268 - val_loss: 0.0885 - val_dice_loss: 0.0381 - lr: 3.0197e-05\n",
      "Epoch 46/200\n",
      "266/266 [==============================] - ETA: 0s - loss: 0.0497 - dice_loss: 0.0266\n",
      "Epoch 00046: loss improved from 0.05021 to 0.04972, saving model to C:/Users/anark/Downloads/seg_data/models/unet_STARE_AttentionUnet_2.hdf5\n",
      "266/266 [==============================] - 120s 452ms/step - loss: 0.0497 - dice_loss: 0.0266 - val_loss: 0.0876 - val_dice_loss: 0.0377 - lr: 2.7324e-05\n",
      "Epoch 47/200\n",
      "266/266 [==============================] - ETA: 0s - loss: 0.0493 - dice_loss: 0.0264\n",
      "Epoch 00047: loss improved from 0.04972 to 0.04934, saving model to C:/Users/anark/Downloads/seg_data/models/unet_STARE_AttentionUnet_2.hdf5\n",
      "266/266 [==============================] - 121s 454ms/step - loss: 0.0493 - dice_loss: 0.0264 - val_loss: 0.0877 - val_dice_loss: 0.0376 - lr: 2.4723e-05\n",
      "Epoch 48/200\n",
      "266/266 [==============================] - ETA: 0s - loss: 0.0490 - dice_loss: 0.0262\n",
      "Epoch 00048: loss improved from 0.04934 to 0.04898, saving model to C:/Users/anark/Downloads/seg_data/models/unet_STARE_AttentionUnet_2.hdf5\n",
      "266/266 [==============================] - 120s 452ms/step - loss: 0.0490 - dice_loss: 0.0262 - val_loss: 0.0873 - val_dice_loss: 0.0374 - lr: 2.2371e-05\n",
      "Epoch 49/200\n",
      "266/266 [==============================] - ETA: 0s - loss: 0.0485 - dice_loss: 0.0260\n",
      "Epoch 00049: loss improved from 0.04898 to 0.04855, saving model to C:/Users/anark/Downloads/seg_data/models/unet_STARE_AttentionUnet_2.hdf5\n",
      "266/266 [==============================] - 120s 452ms/step - loss: 0.0485 - dice_loss: 0.0260 - val_loss: 0.0881 - val_dice_loss: 0.0375 - lr: 2.0242e-05\n",
      "Epoch 50/200\n",
      "266/266 [==============================] - ETA: 0s - loss: 0.0482 - dice_loss: 0.0259\n",
      "Epoch 00050: loss improved from 0.04855 to 0.04821, saving model to C:/Users/anark/Downloads/seg_data/models/unet_STARE_AttentionUnet_2.hdf5\n",
      "266/266 [==============================] - 120s 453ms/step - loss: 0.0482 - dice_loss: 0.0259 - val_loss: 0.0879 - val_dice_loss: 0.0374 - lr: 1.8316e-05\n",
      "Epoch 51/200\n",
      "266/266 [==============================] - ETA: 0s - loss: 0.0480 - dice_loss: 0.0258\n",
      "Epoch 00051: loss improved from 0.04821 to 0.04804, saving model to C:/Users/anark/Downloads/seg_data/models/unet_STARE_AttentionUnet_2.hdf5\n",
      "266/266 [==============================] - 120s 452ms/step - loss: 0.0480 - dice_loss: 0.0258 - val_loss: 0.0873 - val_dice_loss: 0.0372 - lr: 1.6573e-05\n",
      "Epoch 52/200\n",
      "266/266 [==============================] - ETA: 0s - loss: 0.0478 - dice_loss: 0.0256\n",
      "Epoch 00052: loss improved from 0.04804 to 0.04785, saving model to C:/Users/anark/Downloads/seg_data/models/unet_STARE_AttentionUnet_2.hdf5\n",
      "266/266 [==============================] - 120s 452ms/step - loss: 0.0478 - dice_loss: 0.0256 - val_loss: 0.0876 - val_dice_loss: 0.0372 - lr: 1.4996e-05\n",
      "Epoch 53/200\n",
      "266/266 [==============================] - ETA: 0s - loss: 0.0474 - dice_loss: 0.0255\n",
      "Epoch 00053: loss improved from 0.04785 to 0.04745, saving model to C:/Users/anark/Downloads/seg_data/models/unet_STARE_AttentionUnet_2.hdf5\n",
      "266/266 [==============================] - 120s 452ms/step - loss: 0.0474 - dice_loss: 0.0255 - val_loss: 0.0881 - val_dice_loss: 0.0373 - lr: 1.3569e-05\n",
      "Epoch 54/200\n",
      "266/266 [==============================] - ETA: 0s - loss: 0.0473 - dice_loss: 0.0254\n",
      "Epoch 00054: loss improved from 0.04745 to 0.04726, saving model to C:/Users/anark/Downloads/seg_data/models/unet_STARE_AttentionUnet_2.hdf5\n",
      "266/266 [==============================] - 120s 452ms/step - loss: 0.0473 - dice_loss: 0.0254 - val_loss: 0.0873 - val_dice_loss: 0.0370 - lr: 1.2277e-05\n",
      "Epoch 55/200\n",
      "266/266 [==============================] - ETA: 0s - loss: 0.0470 - dice_loss: 0.0253\n",
      "Epoch 00055: loss improved from 0.04726 to 0.04704, saving model to C:/Users/anark/Downloads/seg_data/models/unet_STARE_AttentionUnet_2.hdf5\n",
      "266/266 [==============================] - 120s 451ms/step - loss: 0.0470 - dice_loss: 0.0253 - val_loss: 0.0873 - val_dice_loss: 0.0370 - lr: 1.1109e-05\n",
      "Epoch 56/200\n",
      "266/266 [==============================] - ETA: 0s - loss: 0.0468 - dice_loss: 0.0251\n",
      "Epoch 00056: loss improved from 0.04704 to 0.04679, saving model to C:/Users/anark/Downloads/seg_data/models/unet_STARE_AttentionUnet_2.hdf5\n",
      "266/266 [==============================] - 120s 452ms/step - loss: 0.0468 - dice_loss: 0.0251 - val_loss: 0.0874 - val_dice_loss: 0.0370 - lr: 1.0052e-05\n",
      "Epoch 57/200\n",
      "266/266 [==============================] - ETA: 0s - loss: 0.0466 - dice_loss: 0.0250\n",
      "Epoch 00057: loss improved from 0.04679 to 0.04656, saving model to C:/Users/anark/Downloads/seg_data/models/unet_STARE_AttentionUnet_2.hdf5\n",
      "266/266 [==============================] - 120s 451ms/step - loss: 0.0466 - dice_loss: 0.0250 - val_loss: 0.0874 - val_dice_loss: 0.0369 - lr: 9.0953e-06\n",
      "Epoch 58/200\n",
      "266/266 [==============================] - ETA: 0s - loss: 0.0465 - dice_loss: 0.0250\n",
      "Epoch 00058: loss improved from 0.04656 to 0.04653, saving model to C:/Users/anark/Downloads/seg_data/models/unet_STARE_AttentionUnet_2.hdf5\n",
      "266/266 [==============================] - 120s 452ms/step - loss: 0.0465 - dice_loss: 0.0250 - val_loss: 0.0875 - val_dice_loss: 0.0370 - lr: 8.2297e-06\n",
      "Epoch 59/200\n",
      "266/266 [==============================] - ETA: 0s - loss: 0.0465 - dice_loss: 0.0250\n",
      "Epoch 00059: loss improved from 0.04653 to 0.04647, saving model to C:/Users/anark/Downloads/seg_data/models/unet_STARE_AttentionUnet_2.hdf5\n",
      "266/266 [==============================] - 120s 451ms/step - loss: 0.0465 - dice_loss: 0.0250 - val_loss: 0.0873 - val_dice_loss: 0.0369 - lr: 7.4466e-06\n",
      "Epoch 60/200\n",
      "266/266 [==============================] - ETA: 0s - loss: 0.0462 - dice_loss: 0.0248\n",
      "Epoch 00060: loss improved from 0.04647 to 0.04624, saving model to C:/Users/anark/Downloads/seg_data/models/unet_STARE_AttentionUnet_2.hdf5\n",
      "266/266 [==============================] - 120s 451ms/step - loss: 0.0462 - dice_loss: 0.0248 - val_loss: 0.0875 - val_dice_loss: 0.0369 - lr: 6.7379e-06\n",
      "Epoch 61/200\n",
      "266/266 [==============================] - ETA: 0s - loss: 0.0462 - dice_loss: 0.0248\n",
      "Epoch 00061: loss improved from 0.04624 to 0.04616, saving model to C:/Users/anark/Downloads/seg_data/models/unet_STARE_AttentionUnet_2.hdf5\n",
      "266/266 [==============================] - 120s 453ms/step - loss: 0.0462 - dice_loss: 0.0248 - val_loss: 0.0871 - val_dice_loss: 0.0367 - lr: 6.0967e-06\n",
      "Epoch 62/200\n",
      "266/266 [==============================] - ETA: 0s - loss: 0.0461 - dice_loss: 0.0248\n",
      "Epoch 00062: loss improved from 0.04616 to 0.04607, saving model to C:/Users/anark/Downloads/seg_data/models/unet_STARE_AttentionUnet_2.hdf5\n",
      "266/266 [==============================] - 120s 452ms/step - loss: 0.0461 - dice_loss: 0.0248 - val_loss: 0.0874 - val_dice_loss: 0.0368 - lr: 5.5165e-06\n",
      "Epoch 63/200\n",
      "266/266 [==============================] - ETA: 0s - loss: 0.0459 - dice_loss: 0.0247\n",
      "Epoch 00063: loss improved from 0.04607 to 0.04591, saving model to C:/Users/anark/Downloads/seg_data/models/unet_STARE_AttentionUnet_2.hdf5\n",
      "266/266 [==============================] - 120s 453ms/step - loss: 0.0459 - dice_loss: 0.0247 - val_loss: 0.0876 - val_dice_loss: 0.0368 - lr: 4.9916e-06\n"
     ]
    },
    {
     "name": "stdout",
     "output_type": "stream",
     "text": [
      "Epoch 64/200\n",
      "266/266 [==============================] - ETA: 0s - loss: 0.0459 - dice_loss: 0.0247\n",
      "Epoch 00064: loss improved from 0.04591 to 0.04589, saving model to C:/Users/anark/Downloads/seg_data/models/unet_STARE_AttentionUnet_2.hdf5\n",
      "266/266 [==============================] - 120s 452ms/step - loss: 0.0459 - dice_loss: 0.0247 - val_loss: 0.0875 - val_dice_loss: 0.0367 - lr: 4.5166e-06\n",
      "Epoch 65/200\n",
      "266/266 [==============================] - ETA: 0s - loss: 0.0458 - dice_loss: 0.0246\n",
      "Epoch 00065: loss improved from 0.04589 to 0.04576, saving model to C:/Users/anark/Downloads/seg_data/models/unet_STARE_AttentionUnet_2.hdf5\n",
      "266/266 [==============================] - 120s 453ms/step - loss: 0.0458 - dice_loss: 0.0246 - val_loss: 0.0874 - val_dice_loss: 0.0367 - lr: 4.0868e-06\n",
      "Epoch 66/200\n",
      "266/266 [==============================] - ETA: 0s - loss: 0.0457 - dice_loss: 0.0246\n",
      "Epoch 00066: loss improved from 0.04576 to 0.04569, saving model to C:/Users/anark/Downloads/seg_data/models/unet_STARE_AttentionUnet_2.hdf5\n",
      "266/266 [==============================] - 120s 452ms/step - loss: 0.0457 - dice_loss: 0.0246 - val_loss: 0.0875 - val_dice_loss: 0.0368 - lr: 3.6979e-06\n",
      "Epoch 67/200\n",
      "266/266 [==============================] - ETA: 0s - loss: 0.0455 - dice_loss: 0.0245\n",
      "Epoch 00067: loss improved from 0.04569 to 0.04552, saving model to C:/Users/anark/Downloads/seg_data/models/unet_STARE_AttentionUnet_2.hdf5\n",
      "266/266 [==============================] - 120s 453ms/step - loss: 0.0455 - dice_loss: 0.0245 - val_loss: 0.0875 - val_dice_loss: 0.0367 - lr: 3.3460e-06\n",
      "Epoch 68/200\n",
      "266/266 [==============================] - ETA: 0s - loss: 0.0456 - dice_loss: 0.0246\n",
      "Epoch 00068: loss did not improve from 0.04552\n",
      "266/266 [==============================] - 119s 448ms/step - loss: 0.0456 - dice_loss: 0.0246 - val_loss: 0.0876 - val_dice_loss: 0.0367 - lr: 3.0275e-06\n",
      "Epoch 69/200\n",
      "266/266 [==============================] - ETA: 0s - loss: 0.0455 - dice_loss: 0.0245\n",
      "Epoch 00069: loss did not improve from 0.04552\n",
      "266/266 [==============================] - 119s 448ms/step - loss: 0.0455 - dice_loss: 0.0245 - val_loss: 0.0874 - val_dice_loss: 0.0367 - lr: 2.7394e-06\n",
      "Epoch 70/200\n",
      "266/266 [==============================] - ETA: 0s - loss: 0.0456 - dice_loss: 0.0245\n",
      "Epoch 00070: loss did not improve from 0.04552\n",
      "266/266 [==============================] - 119s 446ms/step - loss: 0.0456 - dice_loss: 0.0245 - val_loss: 0.0875 - val_dice_loss: 0.0367 - lr: 2.4787e-06\n",
      "Epoch 71/200\n",
      "266/266 [==============================] - ETA: 0s - loss: 0.0456 - dice_loss: 0.0245\n",
      "Epoch 00071: loss did not improve from 0.04552\n",
      "266/266 [==============================] - 119s 447ms/step - loss: 0.0456 - dice_loss: 0.0245 - val_loss: 0.0875 - val_dice_loss: 0.0367 - lr: 2.2429e-06\n",
      "Epoch 72/200\n",
      "266/266 [==============================] - ETA: 0s - loss: 0.0454 - dice_loss: 0.0244\n",
      "Epoch 00072: loss improved from 0.04552 to 0.04542, saving model to C:/Users/anark/Downloads/seg_data/models/unet_STARE_AttentionUnet_2.hdf5\n",
      "266/266 [==============================] - 121s 456ms/step - loss: 0.0454 - dice_loss: 0.0244 - val_loss: 0.0874 - val_dice_loss: 0.0367 - lr: 2.0294e-06\n",
      "Epoch 73/200\n",
      "266/266 [==============================] - ETA: 0s - loss: 0.0454 - dice_loss: 0.0245\n",
      "Epoch 00073: loss improved from 0.04542 to 0.04541, saving model to C:/Users/anark/Downloads/seg_data/models/unet_STARE_AttentionUnet_2.hdf5\n",
      "266/266 [==============================] - 121s 453ms/step - loss: 0.0454 - dice_loss: 0.0245 - val_loss: 0.0876 - val_dice_loss: 0.0367 - lr: 1.8363e-06\n",
      "Epoch 74/200\n",
      "266/266 [==============================] - ETA: 0s - loss: 0.0453 - dice_loss: 0.0244\n",
      "Epoch 00074: loss improved from 0.04541 to 0.04531, saving model to C:/Users/anark/Downloads/seg_data/models/unet_STARE_AttentionUnet_2.hdf5\n",
      "266/266 [==============================] - 121s 453ms/step - loss: 0.0453 - dice_loss: 0.0244 - val_loss: 0.0875 - val_dice_loss: 0.0368 - lr: 1.6616e-06\n",
      "Epoch 75/200\n",
      "266/266 [==============================] - ETA: 0s - loss: 0.0453 - dice_loss: 0.0244\n",
      "Epoch 00075: loss improved from 0.04531 to 0.04528, saving model to C:/Users/anark/Downloads/seg_data/models/unet_STARE_AttentionUnet_2.hdf5\n",
      "266/266 [==============================] - 120s 452ms/step - loss: 0.0453 - dice_loss: 0.0244 - val_loss: 0.0876 - val_dice_loss: 0.0367 - lr: 1.5034e-06\n",
      "Epoch 76/200\n",
      "266/266 [==============================] - ETA: 0s - loss: 0.0453 - dice_loss: 0.0244\n",
      "Epoch 00076: loss improved from 0.04528 to 0.04526, saving model to C:/Users/anark/Downloads/seg_data/models/unet_STARE_AttentionUnet_2.hdf5\n",
      "266/266 [==============================] - 120s 452ms/step - loss: 0.0453 - dice_loss: 0.0244 - val_loss: 0.0876 - val_dice_loss: 0.0367 - lr: 1.3604e-06\n",
      "Epoch 77/200\n",
      "266/266 [==============================] - ETA: 0s - loss: 0.0453 - dice_loss: 0.0244\n",
      "Epoch 00077: loss did not improve from 0.04526\n",
      "266/266 [==============================] - 119s 448ms/step - loss: 0.0453 - dice_loss: 0.0244 - val_loss: 0.0875 - val_dice_loss: 0.0367 - lr: 1.2309e-06\n",
      "Epoch 78/200\n",
      "266/266 [==============================] - ETA: 0s - loss: 0.0452 - dice_loss: 0.0243\n",
      "Epoch 00078: loss improved from 0.04526 to 0.04516, saving model to C:/Users/anark/Downloads/seg_data/models/unet_STARE_AttentionUnet_2.hdf5\n",
      "266/266 [==============================] - 121s 453ms/step - loss: 0.0452 - dice_loss: 0.0243 - val_loss: 0.0877 - val_dice_loss: 0.0367 - lr: 1.1138e-06\n",
      "Epoch 79/200\n",
      "266/266 [==============================] - ETA: 0s - loss: 0.0453 - dice_loss: 0.0244\n",
      "Epoch 00079: loss did not improve from 0.04516\n",
      "266/266 [==============================] - 119s 448ms/step - loss: 0.0453 - dice_loss: 0.0244 - val_loss: 0.0876 - val_dice_loss: 0.0367 - lr: 1.0078e-06\n",
      "Epoch 80/200\n",
      "266/266 [==============================] - ETA: 0s - loss: 0.0452 - dice_loss: 0.0243\n",
      "Epoch 00080: loss did not improve from 0.04516\n",
      "266/266 [==============================] - 119s 448ms/step - loss: 0.0452 - dice_loss: 0.0243 - val_loss: 0.0875 - val_dice_loss: 0.0366 - lr: 9.1188e-07\n",
      "Epoch 81/200\n",
      "266/266 [==============================] - ETA: 0s - loss: 0.0450 - dice_loss: 0.0243\n",
      "Epoch 00081: loss improved from 0.04516 to 0.04504, saving model to C:/Users/anark/Downloads/seg_data/models/unet_STARE_AttentionUnet_2.hdf5\n",
      "266/266 [==============================] - 121s 453ms/step - loss: 0.0450 - dice_loss: 0.0243 - val_loss: 0.0876 - val_dice_loss: 0.0367 - lr: 8.2510e-07\n",
      "Epoch 82/200\n",
      "266/266 [==============================] - ETA: 0s - loss: 0.0452 - dice_loss: 0.0244\n",
      "Epoch 00082: loss did not improve from 0.04504\n",
      "266/266 [==============================] - 119s 447ms/step - loss: 0.0452 - dice_loss: 0.0244 - val_loss: 0.0876 - val_dice_loss: 0.0366 - lr: 7.4658e-07\n",
      "Epoch 83/200\n",
      "266/266 [==============================] - ETA: 0s - loss: 0.0451 - dice_loss: 0.0243\n",
      "Epoch 00083: loss did not improve from 0.04504\n",
      "266/266 [==============================] - 119s 447ms/step - loss: 0.0451 - dice_loss: 0.0243 - val_loss: 0.0876 - val_dice_loss: 0.0367 - lr: 6.7554e-07\n",
      "Epoch 84/200\n",
      "266/266 [==============================] - ETA: 0s - loss: 0.0453 - dice_loss: 0.0244\n",
      "Epoch 00084: loss did not improve from 0.04504\n",
      "266/266 [==============================] - 119s 447ms/step - loss: 0.0453 - dice_loss: 0.0244 - val_loss: 0.0876 - val_dice_loss: 0.0366 - lr: 6.1125e-07\n",
      "Epoch 85/200\n",
      "266/266 [==============================] - ETA: 0s - loss: 0.0451 - dice_loss: 0.0243\n",
      "Epoch 00085: loss did not improve from 0.04504\n",
      "266/266 [==============================] - 119s 447ms/step - loss: 0.0451 - dice_loss: 0.0243 - val_loss: 0.0876 - val_dice_loss: 0.0366 - lr: 5.5308e-07\n",
      "Epoch 86/200\n",
      "266/266 [==============================] - ETA: 0s - loss: 0.0453 - dice_loss: 0.0244\n",
      "Epoch 00086: loss did not improve from 0.04504\n",
      "266/266 [==============================] - 119s 447ms/step - loss: 0.0453 - dice_loss: 0.0244 - val_loss: 0.0876 - val_dice_loss: 0.0366 - lr: 5.0045e-07\n",
      "Epoch 87/200\n",
      "266/266 [==============================] - ETA: 0s - loss: 0.0451 - dice_loss: 0.0243\n",
      "Epoch 00087: loss did not improve from 0.04504\n",
      "266/266 [==============================] - 119s 447ms/step - loss: 0.0451 - dice_loss: 0.0243 - val_loss: 0.0876 - val_dice_loss: 0.0367 - lr: 4.5283e-07\n"
     ]
    },
    {
     "name": "stdout",
     "output_type": "stream",
     "text": [
      "Epoch 88/200\n",
      "266/266 [==============================] - ETA: 0s - loss: 0.0451 - dice_loss: 0.0243\n",
      "Epoch 00088: loss did not improve from 0.04504\n",
      "266/266 [==============================] - 119s 447ms/step - loss: 0.0451 - dice_loss: 0.0243 - val_loss: 0.0876 - val_dice_loss: 0.0366 - lr: 4.0973e-07\n",
      "Epoch 89/200\n",
      "266/266 [==============================] - ETA: 0s - loss: 0.0450 - dice_loss: 0.0242\n",
      "Epoch 00089: loss improved from 0.04504 to 0.04495, saving model to C:/Users/anark/Downloads/seg_data/models/unet_STARE_AttentionUnet_2.hdf5\n",
      "266/266 [==============================] - 120s 452ms/step - loss: 0.0450 - dice_loss: 0.0242 - val_loss: 0.0876 - val_dice_loss: 0.0366 - lr: 3.7074e-07\n",
      "Epoch 90/200\n",
      "266/266 [==============================] - ETA: 0s - loss: 0.0451 - dice_loss: 0.0243\n",
      "Epoch 00090: loss did not improve from 0.04495\n",
      "266/266 [==============================] - 119s 447ms/step - loss: 0.0451 - dice_loss: 0.0243 - val_loss: 0.0876 - val_dice_loss: 0.0366 - lr: 3.3546e-07\n",
      "Epoch 91/200\n",
      "266/266 [==============================] - ETA: 0s - loss: 0.0451 - dice_loss: 0.0243\n",
      "Epoch 00091: loss did not improve from 0.04495\n",
      "266/266 [==============================] - 119s 448ms/step - loss: 0.0451 - dice_loss: 0.0243 - val_loss: 0.0876 - val_dice_loss: 0.0367 - lr: 3.0354e-07\n",
      "Epoch 92/200\n",
      "266/266 [==============================] - ETA: 0s - loss: 0.0452 - dice_loss: 0.0243\n",
      "Epoch 00092: loss did not improve from 0.04495\n",
      "266/266 [==============================] - 119s 449ms/step - loss: 0.0452 - dice_loss: 0.0243 - val_loss: 0.0876 - val_dice_loss: 0.0367 - lr: 2.7465e-07\n",
      "Epoch 93/200\n",
      "266/266 [==============================] - ETA: 0s - loss: 0.0450 - dice_loss: 0.0243\n",
      "Epoch 00093: loss did not improve from 0.04495\n",
      "266/266 [==============================] - 120s 450ms/step - loss: 0.0450 - dice_loss: 0.0243 - val_loss: 0.0876 - val_dice_loss: 0.0367 - lr: 2.4852e-07\n",
      "Epoch 94/200\n",
      "266/266 [==============================] - ETA: 0s - loss: 0.0451 - dice_loss: 0.0243\n",
      "Epoch 00094: loss did not improve from 0.04495\n",
      "266/266 [==============================] - 120s 451ms/step - loss: 0.0451 - dice_loss: 0.0243 - val_loss: 0.0876 - val_dice_loss: 0.0367 - lr: 2.2487e-07\n",
      "Epoch 95/200\n",
      "266/266 [==============================] - ETA: 0s - loss: 0.0451 - dice_loss: 0.0243\n",
      "Epoch 00095: loss did not improve from 0.04495\n",
      "266/266 [==============================] - 120s 451ms/step - loss: 0.0451 - dice_loss: 0.0243 - val_loss: 0.0876 - val_dice_loss: 0.0366 - lr: 2.0347e-07\n",
      "Epoch 96/200\n",
      "266/266 [==============================] - ETA: 0s - loss: 0.0451 - dice_loss: 0.0243\n",
      "Epoch 00096: loss did not improve from 0.04495\n",
      "266/266 [==============================] - 120s 452ms/step - loss: 0.0451 - dice_loss: 0.0243 - val_loss: 0.0876 - val_dice_loss: 0.0367 - lr: 1.8410e-07\n",
      "Epoch 97/200\n",
      "266/266 [==============================] - ETA: 0s - loss: 0.0451 - dice_loss: 0.0243\n",
      "Epoch 00097: loss did not improve from 0.04495\n",
      "266/266 [==============================] - 120s 452ms/step - loss: 0.0451 - dice_loss: 0.0243 - val_loss: 0.0876 - val_dice_loss: 0.0366 - lr: 1.6659e-07\n",
      "Epoch 98/200\n",
      "266/266 [==============================] - ETA: 0s - loss: 0.0451 - dice_loss: 0.0243\n",
      "Epoch 00098: loss did not improve from 0.04495\n",
      "266/266 [==============================] - 120s 451ms/step - loss: 0.0451 - dice_loss: 0.0243 - val_loss: 0.0876 - val_dice_loss: 0.0367 - lr: 1.5073e-07\n",
      "Epoch 99/200\n",
      "266/266 [==============================] - ETA: 0s - loss: 0.0449 - dice_loss: 0.0242\n",
      "Epoch 00099: loss improved from 0.04495 to 0.04491, saving model to C:/Users/anark/Downloads/seg_data/models/unet_STARE_AttentionUnet_2.hdf5\n",
      "266/266 [==============================] - 121s 456ms/step - loss: 0.0449 - dice_loss: 0.0242 - val_loss: 0.0876 - val_dice_loss: 0.0366 - lr: 1.3639e-07\n",
      "Epoch 100/200\n",
      "266/266 [==============================] - ETA: 0s - loss: 0.0451 - dice_loss: 0.0243\n",
      "Epoch 00100: loss did not improve from 0.04491\n",
      "266/266 [==============================] - 120s 451ms/step - loss: 0.0451 - dice_loss: 0.0243 - val_loss: 0.0876 - val_dice_loss: 0.0366 - lr: 1.2341e-07\n",
      "Epoch 101/200\n",
      "266/266 [==============================] - ETA: 0s - loss: 0.0451 - dice_loss: 0.0243\n",
      "Epoch 00101: loss did not improve from 0.04491\n",
      "266/266 [==============================] - 120s 452ms/step - loss: 0.0451 - dice_loss: 0.0243 - val_loss: 0.0876 - val_dice_loss: 0.0367 - lr: 1.1167e-07\n",
      "Epoch 102/200\n",
      "266/266 [==============================] - ETA: 0s - loss: 0.0450 - dice_loss: 0.0242\n",
      "Epoch 00102: loss did not improve from 0.04491\n",
      "266/266 [==============================] - 120s 452ms/step - loss: 0.0450 - dice_loss: 0.0242 - val_loss: 0.0876 - val_dice_loss: 0.0366 - lr: 1.0104e-07\n",
      "Epoch 103/200\n",
      "266/266 [==============================] - ETA: 0s - loss: 0.0451 - dice_loss: 0.0243\n",
      "Epoch 00103: loss did not improve from 0.04491\n",
      "266/266 [==============================] - 121s 453ms/step - loss: 0.0451 - dice_loss: 0.0243 - val_loss: 0.0876 - val_dice_loss: 0.0366 - lr: 9.1424e-08\n",
      "Epoch 104/200\n",
      "266/266 [==============================] - ETA: 0s - loss: 0.0450 - dice_loss: 0.0243\n",
      "Epoch 00104: loss did not improve from 0.04491\n",
      "266/266 [==============================] - 121s 453ms/step - loss: 0.0450 - dice_loss: 0.0243 - val_loss: 0.0877 - val_dice_loss: 0.0367 - lr: 8.2724e-08\n",
      "Epoch 105/200\n",
      "266/266 [==============================] - ETA: 0s - loss: 0.0450 - dice_loss: 0.0243\n",
      "Epoch 00105: loss did not improve from 0.04491\n",
      "266/266 [==============================] - 121s 454ms/step - loss: 0.0450 - dice_loss: 0.0243 - val_loss: 0.0876 - val_dice_loss: 0.0366 - lr: 7.4851e-08\n",
      "Epoch 106/200\n",
      "266/266 [==============================] - ETA: 0s - loss: 0.0451 - dice_loss: 0.0243\n",
      "Epoch 00106: loss did not improve from 0.04491\n",
      "266/266 [==============================] - 120s 453ms/step - loss: 0.0451 - dice_loss: 0.0243 - val_loss: 0.0876 - val_dice_loss: 0.0366 - lr: 6.7728e-08\n",
      "Epoch 107/200\n",
      "266/266 [==============================] - ETA: 0s - loss: 0.0450 - dice_loss: 0.0243\n",
      "Epoch 00107: loss did not improve from 0.04491\n",
      "266/266 [==============================] - 120s 453ms/step - loss: 0.0450 - dice_loss: 0.0243 - val_loss: 0.0876 - val_dice_loss: 0.0366 - lr: 6.1283e-08\n",
      "Epoch 108/200\n",
      "266/266 [==============================] - ETA: 0s - loss: 0.0451 - dice_loss: 0.0243\n",
      "Epoch 00108: loss did not improve from 0.04491\n",
      "266/266 [==============================] - 121s 454ms/step - loss: 0.0451 - dice_loss: 0.0243 - val_loss: 0.0876 - val_dice_loss: 0.0366 - lr: 5.5451e-08\n",
      "Epoch 109/200\n",
      "266/266 [==============================] - ETA: 0s - loss: 0.0449 - dice_loss: 0.0242\n",
      "Epoch 00109: loss did not improve from 0.04491\n",
      "266/266 [==============================] - 121s 454ms/step - loss: 0.0449 - dice_loss: 0.0242 - val_loss: 0.0876 - val_dice_loss: 0.0366 - lr: 5.0174e-08\n",
      "Epoch 110/200\n",
      "266/266 [==============================] - ETA: 0s - loss: 0.0449 - dice_loss: 0.0242\n",
      "Epoch 00110: loss did not improve from 0.04491\n",
      "266/266 [==============================] - 121s 454ms/step - loss: 0.0449 - dice_loss: 0.0242 - val_loss: 0.0876 - val_dice_loss: 0.0367 - lr: 4.5400e-08\n",
      "Epoch 111/200\n",
      "266/266 [==============================] - ETA: 0s - loss: 0.0450 - dice_loss: 0.0243\n",
      "Epoch 00111: loss did not improve from 0.04491\n",
      "266/266 [==============================] - 121s 455ms/step - loss: 0.0450 - dice_loss: 0.0243 - val_loss: 0.0876 - val_dice_loss: 0.0366 - lr: 4.1079e-08\n",
      "Epoch 112/200\n",
      "266/266 [==============================] - ETA: 0s - loss: 0.0452 - dice_loss: 0.0243\n",
      "Epoch 00112: loss did not improve from 0.04491\n",
      "266/266 [==============================] - 121s 454ms/step - loss: 0.0452 - dice_loss: 0.0243 - val_loss: 0.0876 - val_dice_loss: 0.0367 - lr: 3.7170e-08\n",
      "Epoch 113/200\n",
      "266/266 [==============================] - ETA: 0s - loss: 0.0451 - dice_loss: 0.0243\n",
      "Epoch 00113: loss did not improve from 0.04491\n",
      "266/266 [==============================] - 121s 454ms/step - loss: 0.0451 - dice_loss: 0.0243 - val_loss: 0.0876 - val_dice_loss: 0.0366 - lr: 3.3633e-08\n",
      "Epoch 114/200\n",
      "266/266 [==============================] - ETA: 0s - loss: 0.0450 - dice_loss: 0.0242\n",
      "Epoch 00114: loss did not improve from 0.04491\n",
      "266/266 [==============================] - 121s 454ms/step - loss: 0.0450 - dice_loss: 0.0242 - val_loss: 0.0876 - val_dice_loss: 0.0366 - lr: 3.0432e-08\n"
     ]
    },
    {
     "name": "stdout",
     "output_type": "stream",
     "text": [
      "Epoch 115/200\n",
      "266/266 [==============================] - ETA: 0s - loss: 0.0451 - dice_loss: 0.0243\n",
      "Epoch 00115: loss did not improve from 0.04491\n",
      "266/266 [==============================] - 120s 452ms/step - loss: 0.0451 - dice_loss: 0.0243 - val_loss: 0.0876 - val_dice_loss: 0.0367 - lr: 2.7536e-08\n",
      "Epoch 116/200\n",
      "266/266 [==============================] - ETA: 0s - loss: 0.0450 - dice_loss: 0.0242\n",
      "Epoch 00116: loss did not improve from 0.04491\n",
      "266/266 [==============================] - 120s 451ms/step - loss: 0.0450 - dice_loss: 0.0242 - val_loss: 0.0876 - val_dice_loss: 0.0366 - lr: 2.4916e-08\n",
      "Epoch 117/200\n",
      "266/266 [==============================] - ETA: 0s - loss: 0.0450 - dice_loss: 0.0243\n",
      "Epoch 00117: loss did not improve from 0.04491\n",
      "266/266 [==============================] - 120s 451ms/step - loss: 0.0450 - dice_loss: 0.0243 - val_loss: 0.0876 - val_dice_loss: 0.0366 - lr: 2.2545e-08\n",
      "Epoch 118/200\n",
      "266/266 [==============================] - ETA: 0s - loss: 0.0450 - dice_loss: 0.0243\n",
      "Epoch 00118: loss did not improve from 0.04491\n",
      "266/266 [==============================] - 120s 451ms/step - loss: 0.0450 - dice_loss: 0.0243 - val_loss: 0.0876 - val_dice_loss: 0.0366 - lr: 2.0399e-08\n",
      "Epoch 119/200\n",
      "266/266 [==============================] - ETA: 0s - loss: 0.0451 - dice_loss: 0.0243\n",
      "Epoch 00119: loss did not improve from 0.04491\n",
      "266/266 [==============================] - 120s 452ms/step - loss: 0.0451 - dice_loss: 0.0243 - val_loss: 0.0876 - val_dice_loss: 0.0366 - lr: 1.8458e-08\n"
     ]
    },
    {
     "data": {
      "text/plain": [
       "<tensorflow.python.keras.callbacks.History at 0x1f196325df0>"
      ]
     },
     "execution_count": 43,
     "metadata": {},
     "output_type": "execute_result"
    }
   ],
   "source": [
    "#Step 4: Fit the u-net model\n",
    "model_checkpoint = tf.keras.callbacks.ModelCheckpoint('C:/Users/anark/Downloads/seg_data/models/unet_STARE_AttentionUnet_2.hdf5', monitor='loss',verbose=1, save_best_only=True)\n",
    "model.fit(X_train,y_train,epochs=200,batch_size=8,validation_data=(X_val, y_val),callbacks=[tensorboard_callback,model_checkpoint,scheduler_callback,early_stop])"
   ]
  },
  {
   "cell_type": "code",
   "execution_count": 44,
   "metadata": {},
   "outputs": [
    {
     "data": {
      "text/plain": [
       "'Completed at : 20220830-050451'"
      ]
     },
     "execution_count": 44,
     "metadata": {},
     "output_type": "execute_result"
    }
   ],
   "source": [
    "\"Completed at : \" + datetime.datetime.now().strftime(\"%Y%m%d-%H%M%S\")"
   ]
  },
  {
   "cell_type": "code",
   "execution_count": 136,
   "metadata": {},
   "outputs": [],
   "source": [
    "folder= \"C:/Users/anark/Downloads/seg_data/test_images\"\n",
    "images = load_images_from_folder(folder)\n",
    "image_array = np.array(images)"
   ]
  },
  {
   "cell_type": "code",
   "execution_count": 18,
   "metadata": {},
   "outputs": [],
   "source": [
    "folder= \"C:/Users/anark/Downloads/seg_data/test_masks\"\n",
    "masks = load_images_from_folder(folder)\n",
    "masks_array = np.array(masks)[:,:,:,0]"
   ]
  },
  {
   "cell_type": "code",
   "execution_count": 137,
   "metadata": {},
   "outputs": [
    {
     "data": {
      "text/plain": [
       "(135, 128, 128)"
      ]
     },
     "execution_count": 137,
     "metadata": {},
     "output_type": "execute_result"
    }
   ],
   "source": [
    "img = image_array/255\n",
    "\n",
    "img.shape\n",
    "\n",
    "mas = masks_array/255\n",
    "\n",
    "mas[mas > 0.5] = 1\n",
    "mas[mas <= 0.5] = 0\n",
    "mas.shape"
   ]
  },
  {
   "cell_type": "code",
   "execution_count": 20,
   "metadata": {},
   "outputs": [],
   "source": [
    "img = img.astype(np.float16)\n",
    "mas = mas.astype(np.float16)"
   ]
  },
  {
   "cell_type": "code",
   "execution_count": 21,
   "metadata": {},
   "outputs": [],
   "source": [
    "model.load_weights(r\"C:\\Users\\anark\\Downloads\\seg_data\\models\\unet_STARE_AttentionUnet_2.hdf5\")"
   ]
  },
  {
   "cell_type": "code",
   "execution_count": 22,
   "metadata": {
    "scrolled": true
   },
   "outputs": [],
   "source": [
    "pred = model.predict(img)"
   ]
  },
  {
   "cell_type": "code",
   "execution_count": 23,
   "metadata": {},
   "outputs": [
    {
     "data": {
      "text/plain": [
       "((135, 128, 128, 3), (135, 128, 128), (135, 128, 128, 1))"
      ]
     },
     "execution_count": 23,
     "metadata": {},
     "output_type": "execute_result"
    }
   ],
   "source": [
    "img.shape,mas.shape,pred.shape"
   ]
  },
  {
   "cell_type": "code",
   "execution_count": 24,
   "metadata": {},
   "outputs": [],
   "source": [
    "source = pred[89]*img[89]"
   ]
  },
  {
   "cell_type": "code",
   "execution_count": 25,
   "metadata": {},
   "outputs": [],
   "source": [
    "target = pred[96]*img[96]"
   ]
  },
  {
   "cell_type": "code",
   "execution_count": 26,
   "metadata": {},
   "outputs": [
    {
     "data": {
      "text/plain": [
       "<matplotlib.image.AxesImage at 0x1b29688df10>"
      ]
     },
     "execution_count": 26,
     "metadata": {},
     "output_type": "execute_result"
    },
    {
     "data": {
      "image/png": "[encoded data removed]",
      "text/plain": [
       "<Figure size 432x288 with 1 Axes>"
      ]
     },
     "metadata": {
      "needs_background": "light"
     },
     "output_type": "display_data"
    }
   ],
   "source": [
    "plt.imshow(source)"
   ]
  },
  {
   "cell_type": "code",
   "execution_count": 27,
   "metadata": {},
   "outputs": [],
   "source": [
    "import cv2 as cv"
   ]
  },
  {
   "cell_type": "code",
   "execution_count": 51,
   "metadata": {},
   "outputs": [],
   "source": [
    "gray = cv.cvtColor(source, cv.COLOR_BGR2GRAY)"
   ]
  },
  {
   "cell_type": "code",
   "execution_count": 52,
   "metadata": {},
   "outputs": [
    {
     "data": {
      "text/plain": [
       "<matplotlib.image.AxesImage at 0x29b48954b80>"
      ]
     },
     "execution_count": 52,
     "metadata": {},
     "output_type": "execute_result"
    },
    {
     "data": {
      "image/png": "[encoded data removed]",
      "text/plain": [
       "<Figure size 432x288 with 1 Axes>"
      ]
     },
     "metadata": {
      "needs_background": "light"
     },
     "output_type": "display_data"
    }
   ],
   "source": [
    "plt.imshow(gray)"
   ]
  },
  {
   "cell_type": "code",
   "execution_count": 53,
   "metadata": {},
   "outputs": [
    {
     "data": {
      "text/plain": [
       "<matplotlib.image.AxesImage at 0x29b5a722fd0>"
      ]
     },
     "execution_count": 53,
     "metadata": {},
     "output_type": "execute_result"
    },
    {
     "data": {
      "image/png": "[encoded data removed]",
      "text/plain": [
       "<Figure size 432x288 with 1 Axes>"
      ]
     },
     "metadata": {
      "needs_background": "light"
     },
     "output_type": "display_data"
    }
   ],
   "source": [
    "gray = cv.medianBlur(gray, 5)\n",
    "plt.imshow(gray)"
   ]
  },
  {
   "cell_type": "code",
   "execution_count": 28,
   "metadata": {},
   "outputs": [
    {
     "data": {
      "text/plain": [
       "(128, 128, 1)"
      ]
     },
     "execution_count": 28,
     "metadata": {},
     "output_type": "execute_result"
    }
   ],
   "source": [
    "rad_detect = pred[89].copy()\n",
    "rad_detect[rad_detect > 0.5] = 1\n",
    "rad_detect[rad_detect <= 0.5] = 0\n",
    "rad_detect.shape"
   ]
  },
  {
   "cell_type": "code",
   "execution_count": 86,
   "metadata": {},
   "outputs": [
    {
     "data": {
      "text/plain": [
       "<matplotlib.image.AxesImage at 0x1b3031b8970>"
      ]
     },
     "execution_count": 86,
     "metadata": {},
     "output_type": "execute_result"
    },
    {
     "data": {
      "image/png": "[encoded data removed]",
      "text/plain": [
       "<Figure size 432x288 with 1 Axes>"
      ]
     },
     "metadata": {
      "needs_background": "light"
     },
     "output_type": "display_data"
    }
   ],
   "source": [
    "plt.imshow(rad_detect[:,:,0])"
   ]
  },
  {
   "cell_type": "code",
   "execution_count": 30,
   "metadata": {},
   "outputs": [
    {
     "data": {
      "text/plain": [
       "(128, 128, 1)"
      ]
     },
     "execution_count": 30,
     "metadata": {},
     "output_type": "execute_result"
    }
   ],
   "source": [
    "rad_detect.shape"
   ]
  },
  {
   "cell_type": "code",
   "execution_count": 31,
   "metadata": {},
   "outputs": [],
   "source": [
    "from skimage import data, color, img_as_ubyte\n",
    "from skimage.feature import canny,peak_local_max\n",
    "from skimage.transform import hough_ellipse\n",
    "from skimage.draw import ellipse_perimeter\n"
   ]
  },
  {
   "cell_type": "code",
   "execution_count": 32,
   "metadata": {},
   "outputs": [],
   "source": [
    "edges = canny(rad_detect[:,:,0], sigma=3)\n",
    "edges1 = canny(rad_detect[:,:,0])\n",
    "edges2 = canny(rad_detect[:,:,0], sigma=3)"
   ]
  },
  {
   "cell_type": "code",
   "execution_count": 33,
   "metadata": {},
   "outputs": [
    {
     "data": {
      "text/plain": [
       "Text(0.5, 1.0, 'Canny filter, $\\\\sigma=3$')"
      ]
     },
     "execution_count": 33,
     "metadata": {},
     "output_type": "execute_result"
    },
    {
     "data": {
      "image/png": "[encoded data removed]",
      "text/plain": [
       "<Figure size 1296x216 with 3 Axes>"
      ]
     },
     "metadata": {
      "needs_background": "light"
     },
     "output_type": "display_data"
    }
   ],
   "source": [
    "# display results\n",
    "fig, ax = plt.subplots(nrows=1, ncols=3, figsize=(18, 3))\n",
    "\n",
    "ax[0].imshow(rad_detect, cmap='gray')\n",
    "ax[0].set_title('Segmented Image', fontsize=10)\n",
    "\n",
    "ax[1].imshow(edges1, cmap='gray')\n",
    "ax[1].set_title(r'Canny filter, $\\sigma=1$', fontsize=10)\n",
    "\n",
    "ax[2].imshow(edges2, cmap='gray')\n",
    "ax[2].set_title(r'Canny filter, $\\sigma=3$', fontsize=10)\n"
   ]
  },
  {
   "cell_type": "code",
   "execution_count": 34,
   "metadata": {},
   "outputs": [],
   "source": [
    "points = np.argwhere(edges2>0)"
   ]
  },
  {
   "cell_type": "code",
   "execution_count": 35,
   "metadata": {},
   "outputs": [
    {
     "name": "stdout",
     "output_type": "stream",
     "text": [
      "center: (68.17549896240234, 67.09602355957031) radius: 44.74633026123047\n"
     ]
    }
   ],
   "source": [
    "center, radius = cv2.minEnclosingCircle(points)\n",
    "print('center:', center, 'radius:', radius)\n",
    "result = rad_detect.copy()\n",
    "x = int(center[1])\n",
    "y = int(center[0])\n",
    "rad = int(radius)\n",
    "cir = cv2.circle(result, (x,y), rad, (255,255,255), 1)"
   ]
  },
  {
   "cell_type": "code",
   "execution_count": 84,
   "metadata": {},
   "outputs": [],
   "source": [
    "cv2.imwrite('Image_from_array.png', rad_detect)\n",
    "rad_detect_cv = cv2.imread('Image_from_array.png')\n",
    "edged = cv2.Canny(rad_detect_cv, 1, 2)\n",
    "circles = cv2.HoughCircles(edged, cv2.HOUGH_GRADIENT,1,5,\n",
    "                            param1=50,param2=30,minRadius=0,maxRadius=40)"
   ]
  },
  {
   "cell_type": "code",
   "execution_count": 85,
   "metadata": {},
   "outputs": [
    {
     "data": {
      "text/plain": [
       "array([[[68.5, 67.5, 15. ]]], dtype=float32)"
      ]
     },
     "execution_count": 85,
     "metadata": {},
     "output_type": "execute_result"
    }
   ],
   "source": [
    "circles"
   ]
  },
  {
   "cell_type": "code",
   "execution_count": 102,
   "metadata": {},
   "outputs": [
    {
     "data": {
      "text/plain": [
       "array([  0, 255], dtype=uint8)"
      ]
     },
     "execution_count": 102,
     "metadata": {},
     "output_type": "execute_result"
    }
   ],
   "source": [
    "np.unique(edged)"
   ]
  },
  {
   "cell_type": "code",
   "execution_count": 109,
   "metadata": {},
   "outputs": [
    {
     "data": {
      "text/plain": [
       "array([[[65.5, 68.5, 42.2],\n",
       "        [71.5, 64.5, 17.7]]], dtype=float32)"
      ]
     },
     "execution_count": 109,
     "metadata": {},
     "output_type": "execute_result"
    }
   ],
   "source": [
    "ret, _  = cv2.threshold(edged, 0, 255, cv2.THRESH_BINARY + cv2.THRESH_OTSU)\n",
    "circles = cv2.HoughCircles(edged, cv2.HOUGH_GRADIENT, 1, 7, param1=100, param2=30, minRadius=5,\n",
    "                               maxRadius=100)\n",
    "circles"
   ]
  },
  {
   "cell_type": "code",
   "execution_count": 98,
   "metadata": {},
   "outputs": [],
   "source": [
    "def daugman_normalizaiton(image, height, width, r_in, r_out):\n",
    "    thetas = np.arange(0, 2 * np.pi, 2 * np.pi / width)  # Theta values\n",
    "    r_out = r_in + r_out\n",
    "    # Create empty flatten image\n",
    "    flat = np.zeros((height,width, 3))\n",
    "    circle_x = int(image.shape[0] / 2)\n",
    "    circle_y = int(image.shape[1] / 2)\n",
    "\n",
    "    for i in range(width):\n",
    "        for j in range(height):\n",
    "            theta = thetas[i]  # value of theta coordinate\n",
    "            r_pro = j / height  # value of r coordinate(normalized)\n",
    "\n",
    "            # get coordinate of boundaries\n",
    "            Xi = circle_x + r_in * np.cos(theta)\n",
    "            Yi = circle_y + r_in * np.sin(theta)\n",
    "            Xo = circle_x + r_out * np.cos(theta)\n",
    "            Yo = circle_y + r_out * np.sin(theta)\n",
    "\n",
    "            # the matched cartesian coordinates for the polar coordinates\n",
    "            Xc = (1 - r_pro) * Xi + r_pro * Xo\n",
    "            Yc = (1 - r_pro) * Yi + r_pro * Yo\n",
    "\n",
    "            color = image[int(Xc)][int(Yc)]  # color of the pixel\n",
    "\n",
    "            flat[j][i] = color\n",
    "    return flat  "
   ]
  },
  {
   "cell_type": "code",
   "execution_count": 133,
   "metadata": {},
   "outputs": [],
   "source": [
    "dgn = daugman_normalizaiton(source,42,360,17,42)"
   ]
  },
  {
   "cell_type": "code",
   "execution_count": 134,
   "metadata": {},
   "outputs": [
    {
     "data": {
      "text/plain": [
       "<matplotlib.image.AxesImage at 0x1b2948ed460>"
      ]
     },
     "execution_count": 134,
     "metadata": {},
     "output_type": "execute_result"
    },
    {
     "data": {
      "image/png": "[encoded data removed]",
      "text/plain": [
       "<Figure size 432x288 with 1 Axes>"
      ]
     },
     "metadata": {
      "needs_background": "light"
     },
     "output_type": "display_data"
    }
   ],
   "source": [
    "plt.imshow(dgn)"
   ]
  },
  {
   "cell_type": "code",
   "execution_count": 138,
   "metadata": {},
   "outputs": [
    {
     "data": {
      "text/plain": [
       "<matplotlib.image.AxesImage at 0x1b295b21e20>"
      ]
     },
     "execution_count": 138,
     "metadata": {},
     "output_type": "execute_result"
    },
    {
     "data": {
      "image/png": "[encoded data removed]",
      "text/plain": [
       "<Figure size 432x288 with 1 Axes>"
      ]
     },
     "metadata": {
      "needs_background": "light"
     },
     "output_type": "display_data"
    }
   ],
   "source": [
    "plt.imshow(img[89])"
   ]
  },
  {
   "cell_type": "code",
   "execution_count": 232,
   "metadata": {},
   "outputs": [
    {
     "data": {
      "text/plain": [
       "<matplotlib.image.AxesImage at 0x29b6b479cd0>"
      ]
     },
     "execution_count": 232,
     "metadata": {},
     "output_type": "execute_result"
    },
    {
     "data": {
      "image/png": "[encoded data removed]",
      "text/plain": [
       "<Figure size 432x288 with 1 Axes>"
      ]
     },
     "metadata": {
      "needs_background": "light"
     },
     "output_type": "display_data"
    }
   ],
   "source": [
    "ref2 = edges2 - cir[:,:,0]\n",
    "ref2[ref2 > 0.5] = 1\n",
    "ref2[ref2 <= 0.5] = 0\n",
    "plt.imshow(ref2)"
   ]
  },
  {
   "cell_type": "code",
   "execution_count": 228,
   "metadata": {},
   "outputs": [
    {
     "data": {
      "text/plain": [
       "Text(0.5, 1.0, 'Canny filter, $\\\\sigma=3$')"
      ]
     },
     "execution_count": 228,
     "metadata": {},
     "output_type": "execute_result"
    },
    {
     "data": {
      "image/png": "[encoded data removed]",
      "text/plain": [
       "<Figure size 1296x216 with 3 Axes>"
      ]
     },
     "metadata": {
      "needs_background": "light"
     },
     "output_type": "display_data"
    }
   ],
   "source": [
    "\n",
    "edges3 = canny(ref2, sigma=0)\n",
    "edges4 = canny(ref2)\n",
    "edges5 = canny(ref2, sigma=3)\n",
    "\n",
    "# display results\n",
    "fig, ax = plt.subplots(nrows=1, ncols=3, figsize=(18, 3))\n",
    "\n",
    "ax[0].imshow(edges3, cmap='gray')\n",
    "ax[0].set_title('Segmented Image', fontsize=10)\n",
    "\n",
    "ax[1].imshow(edges4, cmap='gray')\n",
    "ax[1].set_title(r'Canny filter, $\\sigma=1$', fontsize=10)\n",
    "\n",
    "ax[2].imshow(edges5, cmap='gray')\n",
    "ax[2].set_title(r'Canny filter, $\\sigma=3$', fontsize=10)"
   ]
  },
  {
   "cell_type": "code",
   "execution_count": 238,
   "metadata": {},
   "outputs": [],
   "source": [
    "points = np.argwhere(edges5>0)"
   ]
  },
  {
   "cell_type": "code",
   "execution_count": 239,
   "metadata": {},
   "outputs": [
    {
     "name": "stdout",
     "output_type": "stream",
     "text": [
      "center: (68.16584014892578, 67.75985717773438) radius: 47.477848052978516\n"
     ]
    }
   ],
   "source": [
    "center, radius = cv2.minEnclosingCircle(points)\n",
    "print('center:', center, 'radius:', radius)"
   ]
  },
  {
   "cell_type": "code",
   "execution_count": null,
   "metadata": {},
   "outputs": [],
   "source": [
    "cv2.min"
   ]
  },
  {
   "cell_type": "code",
   "execution_count": 177,
   "metadata": {},
   "outputs": [],
   "source": []
  },
  {
   "cell_type": "code",
   "execution_count": 178,
   "metadata": {},
   "outputs": [
    {
     "data": {
      "text/plain": [
       "<matplotlib.image.AxesImage at 0x29b6b664a90>"
      ]
     },
     "execution_count": 178,
     "metadata": {},
     "output_type": "execute_result"
    },
    {
     "data": {
      "image/png": "[encoded data removed]",
      "text/plain": [
       "<Figure size 432x288 with 1 Axes>"
      ]
     },
     "metadata": {
      "needs_background": "light"
     },
     "output_type": "display_data"
    }
   ],
   "source": []
  },
  {
   "cell_type": "code",
   "execution_count": 175,
   "metadata": {},
   "outputs": [
    {
     "data": {
      "text/plain": [
       "<matplotlib.image.AxesImage at 0x29b6b539250>"
      ]
     },
     "execution_count": 175,
     "metadata": {},
     "output_type": "execute_result"
    },
    {
     "data": {
      "image/png": "[encoded data removed]",
      "text/plain": [
       "<Figure size 432x288 with 1 Axes>"
      ]
     },
     "metadata": {
      "needs_background": "light"
     },
     "output_type": "display_data"
    }
   ],
   "source": [
    "plt.imshow(rad-cir)"
   ]
  },
  {
   "cell_type": "code",
   "execution_count": 170,
   "metadata": {},
   "outputs": [
    {
     "data": {
      "text/plain": [
       "array([0., 1.], dtype=float32)"
      ]
     },
     "execution_count": 170,
     "metadata": {},
     "output_type": "execute_result"
    },
    {
     "data": {
      "image/png": "[encoded data removed]",
      "text/plain": [
       "<Figure size 432x288 with 1 Axes>"
      ]
     },
     "metadata": {
      "needs_background": "light"
     },
     "output_type": "display_data"
    }
   ],
   "source": [
    "\n"
   ]
  },
  {
   "cell_type": "code",
   "execution_count": 142,
   "metadata": {},
   "outputs": [],
   "source": [
    "for radius, h in zip(hough_radii, hough_res):\n",
    "    # For each radius, extract two circles\n",
    "    num_peaks = 2\n",
    "    peaks = peak_local_max(h, num_peaks=num_peaks,threshold_abs=50)\n",
    "    centers.extend(peaks)\n",
    "    accums.extend(h[peaks[:, 0], peaks[:, 1]])\n",
    "    radii.extend([radius] * num_peaks)"
   ]
  },
  {
   "cell_type": "code",
   "execution_count": 146,
   "metadata": {},
   "outputs": [
    {
     "name": "stderr",
     "output_type": "stream",
     "text": [
      "<ipython-input-146-4084bde00aac>:2: FutureWarning: Pass-through of possibly RGB images in gray2rgb is deprecated. In version 0.19, input arrays will always be considered grayscale, even if the last dimension has length 3 or 4. To prevent this warning and ensure compatibility with future versions, detect RGB images outside of this function.\n",
      "  image = color.gray2rgb(image)\n",
      "Clipping input data to the valid range for imshow with RGB data ([0..1] for floats or [0..255] for integers).\n"
     ]
    },
    {
     "data": {
      "text/plain": [
       "<matplotlib.image.AxesImage at 0x29b15391040>"
      ]
     },
     "execution_count": 146,
     "metadata": {},
     "output_type": "execute_result"
    },
    {
     "data": {
      "image/png": "[encoded data removed]",
      "text/plain": [
       "<Figure size 432x288 with 1 Axes>"
      ]
     },
     "metadata": {
      "needs_background": "light"
     },
     "output_type": "display_data"
    }
   ],
   "source": [
    "# Draw the most prominent 5 circles\n",
    "image = color.gray2rgb(image)\n",
    "for idx in np.argsort(accums)[::-1][:5]:\n",
    "    center_x, center_y = centers[idx]\n",
    "    radius = radii[idx]\n",
    "    cx, cy = circle_perimeter(center_y, center_x, radius)\n",
    "    image[cy, cx] = (220, 20, 20)\n",
    "\n",
    "plt.imshow(image, cmap=plt.cm.gray)"
   ]
  },
  {
   "cell_type": "code",
   "execution_count": 145,
   "metadata": {},
   "outputs": [
    {
     "ename": "ValueError",
     "evalue": "'box-forced' is not a valid value for adjustable; supported values are 'box', 'datalim'",
     "output_type": "error",
     "traceback": [
      "\u001b[1;31m---------------------------------------------------------------------------\u001b[0m",
      "\u001b[1;31mValueError\u001b[0m                                Traceback (most recent call last)",
      "\u001b[1;32m<ipython-input-145-6293dacb191f>\u001b[0m in \u001b[0;36m<module>\u001b[1;34m\u001b[0m\n\u001b[0;32m      5\u001b[0m \u001b[0medges\u001b[0m\u001b[1;33m[\u001b[0m\u001b[0mcy\u001b[0m\u001b[1;33m,\u001b[0m \u001b[0mcx\u001b[0m\u001b[1;33m]\u001b[0m \u001b[1;33m=\u001b[0m \u001b[1;33m(\u001b[0m\u001b[1;36m250\u001b[0m\u001b[1;33m,\u001b[0m \u001b[1;36m0\u001b[0m\u001b[1;33m,\u001b[0m \u001b[1;36m0\u001b[0m\u001b[1;33m)\u001b[0m\u001b[1;33m\u001b[0m\u001b[1;33m\u001b[0m\u001b[0m\n\u001b[0;32m      6\u001b[0m \u001b[1;33m\u001b[0m\u001b[0m\n\u001b[1;32m----> 7\u001b[1;33m fig2, (ax1, ax2) = plt.subplots(ncols=2, nrows=1, figsize=(8, 4), sharex=True,\n\u001b[0m\u001b[0;32m      8\u001b[0m                                 \u001b[0msharey\u001b[0m\u001b[1;33m=\u001b[0m\u001b[1;32mTrue\u001b[0m\u001b[1;33m,\u001b[0m\u001b[1;33m\u001b[0m\u001b[1;33m\u001b[0m\u001b[0m\n\u001b[0;32m      9\u001b[0m                                 subplot_kw={'adjustable':'box-forced'})\n",
      "\u001b[1;32m~\\AppData\\Roaming\\Python\\Python38\\site-packages\\matplotlib\\_api\\deprecation.py\u001b[0m in \u001b[0;36mwrapper\u001b[1;34m(*args, **kwargs)\u001b[0m\n\u001b[0;32m    469\u001b[0m                 \u001b[1;34m\"parameter will become keyword-only %(removal)s.\"\u001b[0m\u001b[1;33m,\u001b[0m\u001b[1;33m\u001b[0m\u001b[1;33m\u001b[0m\u001b[0m\n\u001b[0;32m    470\u001b[0m                 name=name, obj_type=f\"parameter of {func.__name__}()\")\n\u001b[1;32m--> 471\u001b[1;33m         \u001b[1;32mreturn\u001b[0m \u001b[0mfunc\u001b[0m\u001b[1;33m(\u001b[0m\u001b[1;33m*\u001b[0m\u001b[0margs\u001b[0m\u001b[1;33m,\u001b[0m \u001b[1;33m**\u001b[0m\u001b[0mkwargs\u001b[0m\u001b[1;33m)\u001b[0m\u001b[1;33m\u001b[0m\u001b[1;33m\u001b[0m\u001b[0m\n\u001b[0m\u001b[0;32m    472\u001b[0m \u001b[1;33m\u001b[0m\u001b[0m\n\u001b[0;32m    473\u001b[0m     \u001b[1;32mreturn\u001b[0m \u001b[0mwrapper\u001b[0m\u001b[1;33m\u001b[0m\u001b[1;33m\u001b[0m\u001b[0m\n",
      "\u001b[1;32m~\\AppData\\Roaming\\Python\\Python38\\site-packages\\matplotlib\\pyplot.py\u001b[0m in \u001b[0;36msubplots\u001b[1;34m(nrows, ncols, sharex, sharey, squeeze, subplot_kw, gridspec_kw, **fig_kw)\u001b[0m\n\u001b[0;32m   1438\u001b[0m     \"\"\"\n\u001b[0;32m   1439\u001b[0m     \u001b[0mfig\u001b[0m \u001b[1;33m=\u001b[0m \u001b[0mfigure\u001b[0m\u001b[1;33m(\u001b[0m\u001b[1;33m**\u001b[0m\u001b[0mfig_kw\u001b[0m\u001b[1;33m)\u001b[0m\u001b[1;33m\u001b[0m\u001b[1;33m\u001b[0m\u001b[0m\n\u001b[1;32m-> 1440\u001b[1;33m     axs = fig.subplots(nrows=nrows, ncols=ncols, sharex=sharex, sharey=sharey,\n\u001b[0m\u001b[0;32m   1441\u001b[0m                        \u001b[0msqueeze\u001b[0m\u001b[1;33m=\u001b[0m\u001b[0msqueeze\u001b[0m\u001b[1;33m,\u001b[0m \u001b[0msubplot_kw\u001b[0m\u001b[1;33m=\u001b[0m\u001b[0msubplot_kw\u001b[0m\u001b[1;33m,\u001b[0m\u001b[1;33m\u001b[0m\u001b[1;33m\u001b[0m\u001b[0m\n\u001b[0;32m   1442\u001b[0m                        gridspec_kw=gridspec_kw)\n",
      "\u001b[1;32m~\\AppData\\Roaming\\Python\\Python38\\site-packages\\matplotlib\\_api\\deprecation.py\u001b[0m in \u001b[0;36mwrapper\u001b[1;34m(*args, **kwargs)\u001b[0m\n\u001b[0;32m    469\u001b[0m                 \u001b[1;34m\"parameter will become keyword-only %(removal)s.\"\u001b[0m\u001b[1;33m,\u001b[0m\u001b[1;33m\u001b[0m\u001b[1;33m\u001b[0m\u001b[0m\n\u001b[0;32m    470\u001b[0m                 name=name, obj_type=f\"parameter of {func.__name__}()\")\n\u001b[1;32m--> 471\u001b[1;33m         \u001b[1;32mreturn\u001b[0m \u001b[0mfunc\u001b[0m\u001b[1;33m(\u001b[0m\u001b[1;33m*\u001b[0m\u001b[0margs\u001b[0m\u001b[1;33m,\u001b[0m \u001b[1;33m**\u001b[0m\u001b[0mkwargs\u001b[0m\u001b[1;33m)\u001b[0m\u001b[1;33m\u001b[0m\u001b[1;33m\u001b[0m\u001b[0m\n\u001b[0m\u001b[0;32m    472\u001b[0m \u001b[1;33m\u001b[0m\u001b[0m\n\u001b[0;32m    473\u001b[0m     \u001b[1;32mreturn\u001b[0m \u001b[0mwrapper\u001b[0m\u001b[1;33m\u001b[0m\u001b[1;33m\u001b[0m\u001b[0m\n",
      "\u001b[1;32m~\\AppData\\Roaming\\Python\\Python38\\site-packages\\matplotlib\\figure.py\u001b[0m in \u001b[0;36msubplots\u001b[1;34m(self, nrows, ncols, sharex, sharey, squeeze, subplot_kw, gridspec_kw)\u001b[0m\n\u001b[0;32m    906\u001b[0m             \u001b[0mgridspec_kw\u001b[0m \u001b[1;33m=\u001b[0m \u001b[1;33m{\u001b[0m\u001b[1;33m}\u001b[0m\u001b[1;33m\u001b[0m\u001b[1;33m\u001b[0m\u001b[0m\n\u001b[0;32m    907\u001b[0m         \u001b[0mgs\u001b[0m \u001b[1;33m=\u001b[0m \u001b[0mself\u001b[0m\u001b[1;33m.\u001b[0m\u001b[0madd_gridspec\u001b[0m\u001b[1;33m(\u001b[0m\u001b[0mnrows\u001b[0m\u001b[1;33m,\u001b[0m \u001b[0mncols\u001b[0m\u001b[1;33m,\u001b[0m \u001b[0mfigure\u001b[0m\u001b[1;33m=\u001b[0m\u001b[0mself\u001b[0m\u001b[1;33m,\u001b[0m \u001b[1;33m**\u001b[0m\u001b[0mgridspec_kw\u001b[0m\u001b[1;33m)\u001b[0m\u001b[1;33m\u001b[0m\u001b[1;33m\u001b[0m\u001b[0m\n\u001b[1;32m--> 908\u001b[1;33m         axs = gs.subplots(sharex=sharex, sharey=sharey, squeeze=squeeze,\n\u001b[0m\u001b[0;32m    909\u001b[0m                           subplot_kw=subplot_kw)\n\u001b[0;32m    910\u001b[0m         \u001b[1;32mreturn\u001b[0m \u001b[0maxs\u001b[0m\u001b[1;33m\u001b[0m\u001b[1;33m\u001b[0m\u001b[0m\n",
      "\u001b[1;32m~\\AppData\\Roaming\\Python\\Python38\\site-packages\\matplotlib\\gridspec.py\u001b[0m in \u001b[0;36msubplots\u001b[1;34m(self, sharex, sharey, squeeze, subplot_kw)\u001b[0m\n\u001b[0;32m    305\u001b[0m                 \u001b[0msubplot_kw\u001b[0m\u001b[1;33m[\u001b[0m\u001b[1;34m\"sharex\"\u001b[0m\u001b[1;33m]\u001b[0m \u001b[1;33m=\u001b[0m \u001b[0mshared_with\u001b[0m\u001b[1;33m[\u001b[0m\u001b[0msharex\u001b[0m\u001b[1;33m]\u001b[0m\u001b[1;33m\u001b[0m\u001b[1;33m\u001b[0m\u001b[0m\n\u001b[0;32m    306\u001b[0m                 \u001b[0msubplot_kw\u001b[0m\u001b[1;33m[\u001b[0m\u001b[1;34m\"sharey\"\u001b[0m\u001b[1;33m]\u001b[0m \u001b[1;33m=\u001b[0m \u001b[0mshared_with\u001b[0m\u001b[1;33m[\u001b[0m\u001b[0msharey\u001b[0m\u001b[1;33m]\u001b[0m\u001b[1;33m\u001b[0m\u001b[1;33m\u001b[0m\u001b[0m\n\u001b[1;32m--> 307\u001b[1;33m                 axarr[row, col] = figure.add_subplot(\n\u001b[0m\u001b[0;32m    308\u001b[0m                     self[row, col], **subplot_kw)\n\u001b[0;32m    309\u001b[0m \u001b[1;33m\u001b[0m\u001b[0m\n",
      "\u001b[1;32m~\\AppData\\Roaming\\Python\\Python38\\site-packages\\matplotlib\\figure.py\u001b[0m in \u001b[0;36madd_subplot\u001b[1;34m(self, *args, **kwargs)\u001b[0m\n\u001b[0;32m    779\u001b[0m             projection_class, pkw = self._process_projection_requirements(\n\u001b[0;32m    780\u001b[0m                 *args, **kwargs)\n\u001b[1;32m--> 781\u001b[1;33m             \u001b[0max\u001b[0m \u001b[1;33m=\u001b[0m \u001b[0msubplot_class_factory\u001b[0m\u001b[1;33m(\u001b[0m\u001b[0mprojection_class\u001b[0m\u001b[1;33m)\u001b[0m\u001b[1;33m(\u001b[0m\u001b[0mself\u001b[0m\u001b[1;33m,\u001b[0m \u001b[1;33m*\u001b[0m\u001b[0margs\u001b[0m\u001b[1;33m,\u001b[0m \u001b[1;33m**\u001b[0m\u001b[0mpkw\u001b[0m\u001b[1;33m)\u001b[0m\u001b[1;33m\u001b[0m\u001b[1;33m\u001b[0m\u001b[0m\n\u001b[0m\u001b[0;32m    782\u001b[0m             \u001b[0mkey\u001b[0m \u001b[1;33m=\u001b[0m \u001b[1;33m(\u001b[0m\u001b[0mprojection_class\u001b[0m\u001b[1;33m,\u001b[0m \u001b[0mpkw\u001b[0m\u001b[1;33m)\u001b[0m\u001b[1;33m\u001b[0m\u001b[1;33m\u001b[0m\u001b[0m\n\u001b[0;32m    783\u001b[0m         \u001b[1;32mreturn\u001b[0m \u001b[0mself\u001b[0m\u001b[1;33m.\u001b[0m\u001b[0m_add_axes_internal\u001b[0m\u001b[1;33m(\u001b[0m\u001b[0max\u001b[0m\u001b[1;33m,\u001b[0m \u001b[0mkey\u001b[0m\u001b[1;33m)\u001b[0m\u001b[1;33m\u001b[0m\u001b[1;33m\u001b[0m\u001b[0m\n",
      "\u001b[1;32m~\\AppData\\Roaming\\Python\\Python38\\site-packages\\matplotlib\\axes\\_subplots.py\u001b[0m in \u001b[0;36m__init__\u001b[1;34m(self, fig, *args, **kwargs)\u001b[0m\n\u001b[0;32m     34\u001b[0m         \"\"\"\n\u001b[0;32m     35\u001b[0m         \u001b[1;31m# _axes_class is set in the subplot_class_factory\u001b[0m\u001b[1;33m\u001b[0m\u001b[1;33m\u001b[0m\u001b[1;33m\u001b[0m\u001b[0m\n\u001b[1;32m---> 36\u001b[1;33m         \u001b[0mself\u001b[0m\u001b[1;33m.\u001b[0m\u001b[0m_axes_class\u001b[0m\u001b[1;33m.\u001b[0m\u001b[0m__init__\u001b[0m\u001b[1;33m(\u001b[0m\u001b[0mself\u001b[0m\u001b[1;33m,\u001b[0m \u001b[0mfig\u001b[0m\u001b[1;33m,\u001b[0m \u001b[1;33m[\u001b[0m\u001b[1;36m0\u001b[0m\u001b[1;33m,\u001b[0m \u001b[1;36m0\u001b[0m\u001b[1;33m,\u001b[0m \u001b[1;36m1\u001b[0m\u001b[1;33m,\u001b[0m \u001b[1;36m1\u001b[0m\u001b[1;33m]\u001b[0m\u001b[1;33m,\u001b[0m \u001b[1;33m**\u001b[0m\u001b[0mkwargs\u001b[0m\u001b[1;33m)\u001b[0m\u001b[1;33m\u001b[0m\u001b[1;33m\u001b[0m\u001b[0m\n\u001b[0m\u001b[0;32m     37\u001b[0m         \u001b[1;31m# This will also update the axes position.\u001b[0m\u001b[1;33m\u001b[0m\u001b[1;33m\u001b[0m\u001b[1;33m\u001b[0m\u001b[0m\n\u001b[0;32m     38\u001b[0m         \u001b[0mself\u001b[0m\u001b[1;33m.\u001b[0m\u001b[0mset_subplotspec\u001b[0m\u001b[1;33m(\u001b[0m\u001b[0mSubplotSpec\u001b[0m\u001b[1;33m.\u001b[0m\u001b[0m_from_subplot_args\u001b[0m\u001b[1;33m(\u001b[0m\u001b[0mfig\u001b[0m\u001b[1;33m,\u001b[0m \u001b[0margs\u001b[0m\u001b[1;33m)\u001b[0m\u001b[1;33m)\u001b[0m\u001b[1;33m\u001b[0m\u001b[1;33m\u001b[0m\u001b[0m\n",
      "\u001b[1;32m~\\AppData\\Roaming\\Python\\Python38\\site-packages\\matplotlib\\_api\\deprecation.py\u001b[0m in \u001b[0;36mwrapper\u001b[1;34m(*args, **kwargs)\u001b[0m\n\u001b[0;32m    469\u001b[0m                 \u001b[1;34m\"parameter will become keyword-only %(removal)s.\"\u001b[0m\u001b[1;33m,\u001b[0m\u001b[1;33m\u001b[0m\u001b[1;33m\u001b[0m\u001b[0m\n\u001b[0;32m    470\u001b[0m                 name=name, obj_type=f\"parameter of {func.__name__}()\")\n\u001b[1;32m--> 471\u001b[1;33m         \u001b[1;32mreturn\u001b[0m \u001b[0mfunc\u001b[0m\u001b[1;33m(\u001b[0m\u001b[1;33m*\u001b[0m\u001b[0margs\u001b[0m\u001b[1;33m,\u001b[0m \u001b[1;33m**\u001b[0m\u001b[0mkwargs\u001b[0m\u001b[1;33m)\u001b[0m\u001b[1;33m\u001b[0m\u001b[1;33m\u001b[0m\u001b[0m\n\u001b[0m\u001b[0;32m    472\u001b[0m \u001b[1;33m\u001b[0m\u001b[0m\n\u001b[0;32m    473\u001b[0m     \u001b[1;32mreturn\u001b[0m \u001b[0mwrapper\u001b[0m\u001b[1;33m\u001b[0m\u001b[1;33m\u001b[0m\u001b[0m\n",
      "\u001b[1;32m~\\AppData\\Roaming\\Python\\Python38\\site-packages\\matplotlib\\axes\\_base.py\u001b[0m in \u001b[0;36m__init__\u001b[1;34m(self, fig, rect, facecolor, frameon, sharex, sharey, label, xscale, yscale, box_aspect, **kwargs)\u001b[0m\n\u001b[0;32m    646\u001b[0m             \u001b[0mself\u001b[0m\u001b[1;33m.\u001b[0m\u001b[0mset_yscale\u001b[0m\u001b[1;33m(\u001b[0m\u001b[0myscale\u001b[0m\u001b[1;33m)\u001b[0m\u001b[1;33m\u001b[0m\u001b[1;33m\u001b[0m\u001b[0m\n\u001b[0;32m    647\u001b[0m \u001b[1;33m\u001b[0m\u001b[0m\n\u001b[1;32m--> 648\u001b[1;33m         \u001b[0mself\u001b[0m\u001b[1;33m.\u001b[0m\u001b[0mupdate\u001b[0m\u001b[1;33m(\u001b[0m\u001b[0mkwargs\u001b[0m\u001b[1;33m)\u001b[0m\u001b[1;33m\u001b[0m\u001b[1;33m\u001b[0m\u001b[0m\n\u001b[0m\u001b[0;32m    649\u001b[0m \u001b[1;33m\u001b[0m\u001b[0m\n\u001b[0;32m    650\u001b[0m         \u001b[1;32mfor\u001b[0m \u001b[0mname\u001b[0m\u001b[1;33m,\u001b[0m \u001b[0maxis\u001b[0m \u001b[1;32min\u001b[0m \u001b[0mself\u001b[0m\u001b[1;33m.\u001b[0m\u001b[0m_get_axis_map\u001b[0m\u001b[1;33m(\u001b[0m\u001b[1;33m)\u001b[0m\u001b[1;33m.\u001b[0m\u001b[0mitems\u001b[0m\u001b[1;33m(\u001b[0m\u001b[1;33m)\u001b[0m\u001b[1;33m:\u001b[0m\u001b[1;33m\u001b[0m\u001b[1;33m\u001b[0m\u001b[0m\n",
      "\u001b[1;32m~\\AppData\\Roaming\\Python\\Python38\\site-packages\\matplotlib\\artist.py\u001b[0m in \u001b[0;36mupdate\u001b[1;34m(self, props)\u001b[0m\n\u001b[0;32m   1062\u001b[0m                         raise AttributeError(f\"{type(self).__name__!r} object \"\n\u001b[0;32m   1063\u001b[0m                                              f\"has no property {k!r}\")\n\u001b[1;32m-> 1064\u001b[1;33m                     \u001b[0mret\u001b[0m\u001b[1;33m.\u001b[0m\u001b[0mappend\u001b[0m\u001b[1;33m(\u001b[0m\u001b[0mfunc\u001b[0m\u001b[1;33m(\u001b[0m\u001b[0mv\u001b[0m\u001b[1;33m)\u001b[0m\u001b[1;33m)\u001b[0m\u001b[1;33m\u001b[0m\u001b[1;33m\u001b[0m\u001b[0m\n\u001b[0m\u001b[0;32m   1065\u001b[0m         \u001b[1;32mif\u001b[0m \u001b[0mret\u001b[0m\u001b[1;33m:\u001b[0m\u001b[1;33m\u001b[0m\u001b[1;33m\u001b[0m\u001b[0m\n\u001b[0;32m   1066\u001b[0m             \u001b[0mself\u001b[0m\u001b[1;33m.\u001b[0m\u001b[0mpchanged\u001b[0m\u001b[1;33m(\u001b[0m\u001b[1;33m)\u001b[0m\u001b[1;33m\u001b[0m\u001b[1;33m\u001b[0m\u001b[0m\n",
      "\u001b[1;32m~\\AppData\\Roaming\\Python\\Python38\\site-packages\\matplotlib\\axes\\_base.py\u001b[0m in \u001b[0;36mset_adjustable\u001b[1;34m(self, adjustable, share)\u001b[0m\n\u001b[0;32m   1529\u001b[0m         \u001b[1;32mand\u001b[0m \u001b[0mindependently\u001b[0m \u001b[0mon\u001b[0m \u001b[0meach\u001b[0m \u001b[0mAxes\u001b[0m \u001b[1;32mas\u001b[0m \u001b[0mit\u001b[0m \u001b[1;32mis\u001b[0m \u001b[0mdrawn\u001b[0m\u001b[1;33m.\u001b[0m\u001b[1;33m\u001b[0m\u001b[1;33m\u001b[0m\u001b[0m\n\u001b[0;32m   1530\u001b[0m         \"\"\"\n\u001b[1;32m-> 1531\u001b[1;33m         \u001b[0m_api\u001b[0m\u001b[1;33m.\u001b[0m\u001b[0mcheck_in_list\u001b[0m\u001b[1;33m(\u001b[0m\u001b[1;33m[\u001b[0m\u001b[1;34m\"box\"\u001b[0m\u001b[1;33m,\u001b[0m \u001b[1;34m\"datalim\"\u001b[0m\u001b[1;33m]\u001b[0m\u001b[1;33m,\u001b[0m \u001b[0madjustable\u001b[0m\u001b[1;33m=\u001b[0m\u001b[0madjustable\u001b[0m\u001b[1;33m)\u001b[0m\u001b[1;33m\u001b[0m\u001b[1;33m\u001b[0m\u001b[0m\n\u001b[0m\u001b[0;32m   1532\u001b[0m         \u001b[1;32mif\u001b[0m \u001b[0mshare\u001b[0m\u001b[1;33m:\u001b[0m\u001b[1;33m\u001b[0m\u001b[1;33m\u001b[0m\u001b[0m\n\u001b[0;32m   1533\u001b[0m             axs = {*self._shared_x_axes.get_siblings(self),\n",
      "\u001b[1;32m~\\AppData\\Roaming\\Python\\Python38\\site-packages\\matplotlib\\_api\\__init__.py\u001b[0m in \u001b[0;36mcheck_in_list\u001b[1;34m(_values, _print_supported_values, **kwargs)\u001b[0m\n\u001b[0;32m    124\u001b[0m         \u001b[1;32mif\u001b[0m \u001b[0mval\u001b[0m \u001b[1;32mnot\u001b[0m \u001b[1;32min\u001b[0m \u001b[0mvalues\u001b[0m\u001b[1;33m:\u001b[0m\u001b[1;33m\u001b[0m\u001b[1;33m\u001b[0m\u001b[0m\n\u001b[0;32m    125\u001b[0m             \u001b[1;32mif\u001b[0m \u001b[0m_print_supported_values\u001b[0m\u001b[1;33m:\u001b[0m\u001b[1;33m\u001b[0m\u001b[1;33m\u001b[0m\u001b[0m\n\u001b[1;32m--> 126\u001b[1;33m                 raise ValueError(\n\u001b[0m\u001b[0;32m    127\u001b[0m                     \u001b[1;34mf\"{val!r} is not a valid value for {key}; \"\u001b[0m\u001b[1;33m\u001b[0m\u001b[1;33m\u001b[0m\u001b[0m\n\u001b[0;32m    128\u001b[0m                     f\"supported values are {', '.join(map(repr, values))}\")\n",
      "\u001b[1;31mValueError\u001b[0m: 'box-forced' is not a valid value for adjustable; supported values are 'box', 'datalim'"
     ]
    },
    {
     "data": {
      "text/plain": [
       "<Figure size 576x288 with 0 Axes>"
      ]
     },
     "metadata": {},
     "output_type": "display_data"
    }
   ],
   "source": [
    "# Draw the ellipse on the original image\n",
    "cy, cx = ellipse_perimeter(yc, xc, a, b, orientation)\n",
    "# Draw the edge (white) and the resulting ellipse (red)\n",
    "edges = color.gray2rgb(edges)\n",
    "edges[cy, cx] = (250, 0, 0)\n",
    "\n",
    "fig2, (ax1, ax2) = plt.subplots(ncols=2, nrows=1, figsize=(8, 4), sharex=True,\n",
    "                                sharey=True,\n",
    "                                subplot_kw={'adjustable':'box-forced'})\n",
    "\n",
    "ax1.set_title('Original picture')\n",
    "ax1.imshow(rad_detect)\n",
    "\n",
    "ax2.set_title('Edge (white) and result (red)')\n",
    "ax2.imshow(edges)\n",
    "\n",
    "plt.show()"
   ]
  },
  {
   "cell_type": "code",
   "execution_count": null,
   "metadata": {},
   "outputs": [],
   "source": []
  },
  {
   "cell_type": "code",
   "execution_count": null,
   "metadata": {},
   "outputs": [],
   "source": []
  },
  {
   "cell_type": "code",
   "execution_count": null,
   "metadata": {},
   "outputs": [],
   "source": []
  },
  {
   "cell_type": "code",
   "execution_count": null,
   "metadata": {},
   "outputs": [],
   "source": []
  },
  {
   "cell_type": "code",
   "execution_count": 30,
   "metadata": {},
   "outputs": [],
   "source": [
    "model.load_weights(r\"C:\\Users\\anark\\Downloads\\seg_data\\models\\unet_STARE_AttentionUnet_2.hdf5\")"
   ]
  },
  {
   "cell_type": "code",
   "execution_count": 31,
   "metadata": {},
   "outputs": [],
   "source": [
    "pred = model.predict(img)"
   ]
  },
  {
   "cell_type": "code",
   "execution_count": 35,
   "metadata": {},
   "outputs": [
    {
     "data": {
      "text/plain": [
       "<matplotlib.image.AxesImage at 0x29467bb8250>"
      ]
     },
     "execution_count": 35,
     "metadata": {},
     "output_type": "execute_result"
    },
    {
     "data": {
      "image/png": "[encoded data removed]",
      "text/plain": [
       "<Figure size 432x288 with 1 Axes>"
      ]
     },
     "metadata": {
      "needs_background": "light"
     },
     "output_type": "display_data"
    }
   ],
   "source": [
    "plt.imshow(mas[35].astype('int'))"
   ]
  },
  {
   "cell_type": "code",
   "execution_count": 36,
   "metadata": {},
   "outputs": [
    {
     "data": {
      "text/plain": [
       "<matplotlib.image.AxesImage at 0x2945aac76a0>"
      ]
     },
     "execution_count": 36,
     "metadata": {},
     "output_type": "execute_result"
    },
    {
     "data": {
      "image/png": "[encoded data removed]",
      "text/plain": [
       "<Figure size 432x288 with 1 Axes>"
      ]
     },
     "metadata": {
      "needs_background": "light"
     },
     "output_type": "display_data"
    }
   ],
   "source": [
    "plt.imshow(pred[35])"
   ]
  },
  {
   "cell_type": "code",
   "execution_count": 34,
   "metadata": {},
   "outputs": [
    {
     "name": "stdout",
     "output_type": "stream",
     "text": [
      "5/5 [==============================] - 8s 2s/step - loss: 0.0881 - dice_loss: 0.0373\n"
     ]
    },
    {
     "data": {
      "text/plain": [
       "[0.08806893974542618, 0.0373283252120018]"
      ]
     },
     "execution_count": 34,
     "metadata": {},
     "output_type": "execute_result"
    }
   ],
   "source": [
    "model.evaluate(img,mas)"
   ]
  },
  {
   "cell_type": "code",
   "execution_count": null,
   "metadata": {},
   "outputs": [],
   "source": []
  }
 ],
 "metadata": {
  "kernelspec": {
   "display_name": "Python 3 (ipykernel)",
   "language": "python",
   "name": "python3"
  },
  "language_info": {
   "codemirror_mode": {
    "name": "ipython",
    "version": 3
   },
   "file_extension": ".py",
   "mimetype": "text/x-python",
   "name": "python",
   "nbconvert_exporter": "python",
   "pygments_lexer": "ipython3",
   "version": "3.9.12"
  }
 },
 "nbformat": 4,
 "nbformat_minor": 4
}
